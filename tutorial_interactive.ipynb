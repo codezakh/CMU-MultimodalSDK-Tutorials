{
 "cells": [
  {
   "cell_type": "markdown",
   "metadata": {},
   "source": [
    "# Tutorial on CMU-Multimodal SDK\n",
    "\n",
    "This is a tutorial on using ***CMU-Multimodal SDK*** to load and process multimodal time-series datasets and training a simple late-fusion LSTM model on the processed data. \n",
    "\n",
    "For this tutorial, we specify some constants in `./constans/paths.py`. Please first take a look and modify the paths to point to the correct folders.\n",
    "\n",
    "## Downloading the data\n",
    "\n",
    "We start off by (down)loading the datasets. In the SDK each dataset has three sets of content: `highlevel`, `raw` and `labels`. `highlevel` contains the extracted features for each modality (e.g OpenFace facial landmarks, openSMILE acoustic features) while `raw` contains the raw transctripts, phonemes. `labels` are self-explanatory. Note that some datasets have more than just one set of annotations so `labels` could also give you multiple files.\n",
    "\n",
    "Currently there's a caveat that the SDK will not automatically detect if you have downloaded the data already. In event of that it will throw a `RuntimeError`. We work around that by `try/except`. This is not ideal but it will work for now."
   ]
  },
  {
   "cell_type": "code",
   "execution_count": 32,
   "metadata": {},
   "outputs": [],
   "source": [
    "%load_ext autoreload\n",
    "%autoreload 2"
   ]
  },
  {
   "cell_type": "code",
   "execution_count": 33,
   "metadata": {},
   "outputs": [
    {
     "name": "stdout",
     "output_type": "stream",
     "text": [
      "\u001b[91m\u001b[1m[2020-12-08 10:15:45.588] | Error   | \u001b[0m./data/CMU_MOSI_TimestampedWordVectors.csd file already exists ...\n",
      "High-level features have been downloaded previously.\n",
      "\u001b[91m\u001b[1m[2020-12-08 10:15:45.588] | Error   | \u001b[0m./data/CMU_MOSI_TimestampedWords.csd file already exists ...\n",
      "Raw data have been downloaded previously.\n",
      "\u001b[91m\u001b[1m[2020-12-08 10:15:45.588] | Error   | \u001b[0m./data/CMU_MOSI_Opinion_Labels.csd file already exists ...\n",
      "Labels have been downloaded previously.\n"
     ]
    }
   ],
   "source": [
    "from constants import SDK_PATH, DATA_PATH, WORD_EMB_PATH, CACHE_PATH\n",
    "import sys\n",
    "\n",
    "# We ignore these lines, because I have mmsdk installed using conda-develop\n",
    "# which adds it to my environment as .pth file in site-packages.\n",
    "\n",
    "# if SDK_PATH is None:\n",
    "#     print(\"SDK path is not specified! Please specify first in constants/paths.py\")\n",
    "#     exit(0)\n",
    "# else:\n",
    "#     sys.path.append(SDK_PATH)\n",
    "\n",
    "import mmsdk\n",
    "import os\n",
    "import re\n",
    "import numpy as np\n",
    "from mmsdk import mmdatasdk as md\n",
    "from subprocess import check_call, CalledProcessError\n",
    "\n",
    "# create folders for storing the data\n",
    "if not os.path.exists(DATA_PATH):\n",
    "    check_call(' '.join(['mkdir', '-p', DATA_PATH]), shell=True)\n",
    "\n",
    "# download highlevel features, low-level (raw) data and labels for the dataset MOSI\n",
    "# if the files are already present, instead of downloading it you just load it yourself.\n",
    "# here we use CMU_MOSI dataset as example.\n",
    "\n",
    "DATASET = md.cmu_mosi\n",
    "\n",
    "try:\n",
    "    md.mmdataset(DATASET.highlevel, DATA_PATH)\n",
    "except RuntimeError:\n",
    "    print(\"High-level features have been downloaded previously.\")\n",
    "\n",
    "try:\n",
    "    md.mmdataset(DATASET.raw, DATA_PATH)\n",
    "except RuntimeError:\n",
    "    print(\"Raw data have been downloaded previously.\")\n",
    "    \n",
    "try:\n",
    "    md.mmdataset(DATASET.labels, DATA_PATH)\n",
    "except RuntimeError:\n",
    "    print(\"Labels have been downloaded previously.\")"
   ]
  },
  {
   "cell_type": "markdown",
   "metadata": {},
   "source": [
    "## Inspecting the downloaded files\n",
    "\n",
    "We can print the files in the target data folder to see what files are there.\n",
    "\n",
    "We can observe a bunch of files ending with `.csd` extension. This stands for ***computational sequences***, which is the underlying data structure for all features in the SDK. We will come back to that later when we load the data. For now we just print out what computational sequences we have downloaded."
   ]
  },
  {
   "cell_type": "code",
   "execution_count": 2,
   "metadata": {
    "scrolled": true
   },
   "outputs": [
    {
     "name": "stdout",
     "output_type": "stream",
     "text": [
      "CMU_MOSI_Visual_Facet_41.csd\n",
      "CMU_MOSI_ModifiedTimestampedWords.csd\n",
      "CMU_MOSI_Opinion_Labels.csd\n",
      "CMU_MOSI_TimestampedWordVectors.csd\n",
      "CMU_MOSI_TimestampedPhones.csd\n",
      "CMU_MOSI_Visual_Facet_42.csd\n",
      "CMU_MOSI_openSMILE_IS09.csd\n",
      "CMU_MOSI_Visual_OpenFace_1.csd\n",
      "CMU_MOSI_Visual_OpenFace_2.csd\n",
      "CMU_MOSI_TimestampedWords.csd\n",
      "CMU_MOSI_COVAREP.csd\n",
      "CMU_MOSI_OpenSmile_EB10.csd\n"
     ]
    }
   ],
   "source": [
    "# list the directory contents... let's see what features there are\n",
    "data_files = os.listdir(DATA_PATH)\n",
    "print('\\n'.join(data_files))"
   ]
  },
  {
   "cell_type": "markdown",
   "metadata": {},
   "source": [
    "I wasn't sure what these are, so I decided to look them up. Face and OpenFace features are for the visual modality. Facet is a commercial tool for facial analysis, while OpenFace is open source, and developed at CMU as well. COVAREP and OpenSmile are both open source libraries for analysis of audio signals. I _assume_ the rest are text features, except for `TimestampedWordVectors`, which are presumably word vectors."
   ]
  },
  {
   "cell_type": "markdown",
   "metadata": {},
   "source": [
    "## Loading a multimodal dataset\n",
    "\n",
    "Loading the dataset is as simple as telling the SDK what are the features you need and where are their computational sequences. You can construct a dictionary with format `{feature_name: csd_path}` and feed it to `mmdataset` object in the SDK."
   ]
  },
  {
   "cell_type": "code",
   "execution_count": 5,
   "metadata": {
    "scrolled": true
   },
   "outputs": [
    {
     "name": "stderr",
     "output_type": "stream",
     "text": [
      "                                                                   "
     ]
    },
    {
     "name": "stdout",
     "output_type": "stream",
     "text": [
      "\u001b[92m\u001b[1m[2020-12-08 08:51:00.198] | Success | \u001b[0mComputational sequence read from file ./data/CMU_MOSI_ModifiedTimestampedWords.csd ...\n",
      "\u001b[94m\u001b[1m[2020-12-08 08:51:00.216] | Status  | \u001b[0mChecking the integrity of the <b'CMU_MOSI_ModifiedTimestampedWords'> computational sequence ...\n",
      "\u001b[94m\u001b[1m[2020-12-08 08:51:00.216] | Status  | \u001b[0mChecking the format of the data in <b'CMU_MOSI_ModifiedTimestampedWords'> computational sequence ...\n",
      "\u001b[92m\u001b[1m[2020-12-08 08:51:00.251] | Success | \u001b[0m<b'CMU_MOSI_ModifiedTimestampedWords'> computational sequence data in correct format.\n",
      "\u001b[94m\u001b[1m[2020-12-08 08:51:00.251] | Status  | \u001b[0mChecking the format of the metadata in <b'CMU_MOSI_ModifiedTimestampedWords'> computational sequence ...\n",
      "\u001b[93m\u001b[1m[2020-12-08 08:51:00.251] | Warning | \u001b[0m<b'CMU_MOSI_ModifiedTimestampedWords'> computational sequence does not have all the required metadata ... continuing \n",
      "\u001b[92m\u001b[1m[2020-12-08 08:51:00.251] | Success | \u001b[0mComputational sequence read from file ./data/CMU_MOSI_Visual_Facet_41.csd ...\n",
      "\u001b[94m\u001b[1m[2020-12-08 08:51:00.258] | Status  | \u001b[0mChecking the integrity of the <FACET_4.1> computational sequence ...\n",
      "\u001b[94m\u001b[1m[2020-12-08 08:51:00.258] | Status  | \u001b[0mChecking the format of the data in <FACET_4.1> computational sequence ...\n",
      "\u001b[92m\u001b[1m[2020-12-08 08:51:00.295] | Success | \u001b[0m<FACET_4.1> computational sequence data in correct format.\n",
      "\u001b[94m\u001b[1m[2020-12-08 08:51:00.295] | Status  | \u001b[0mChecking the format of the metadata in <FACET_4.1> computational sequence ...\n",
      "\u001b[93m\u001b[1m[2020-12-08 08:51:00.295] | Warning | \u001b[0m<FACET_4.1> computational sequence does not have all the required metadata ... continuing \n",
      "\u001b[92m\u001b[1m[2020-12-08 08:51:00.295] | Success | \u001b[0mComputational sequence read from file ./data/CMU_MOSI_COVAREP.csd ...\n",
      "\u001b[94m\u001b[1m[2020-12-08 08:51:00.301] | Status  | \u001b[0mChecking the integrity of the <COVAREP> computational sequence ...\n",
      "\u001b[94m\u001b[1m[2020-12-08 08:51:00.301] | Status  | \u001b[0mChecking the format of the data in <COVAREP> computational sequence ...\n",
      "\u001b[92m\u001b[1m[2020-12-08 08:51:00.338] | Success | \u001b[0m<COVAREP> computational sequence data in correct format.\n",
      "\u001b[94m\u001b[1m[2020-12-08 08:51:00.338] | Status  | \u001b[0mChecking the format of the metadata in <COVAREP> computational sequence ...\n",
      "\u001b[93m\u001b[1m[2020-12-08 08:51:00.338] | Warning | \u001b[0m<COVAREP> computational sequence does not have all the required metadata ... continuing \n",
      "\u001b[92m\u001b[1m[2020-12-08 08:51:00.338] | Success | \u001b[0mDataset initialized successfully ... \n"
     ]
    },
    {
     "name": "stderr",
     "output_type": "stream",
     "text": [
      "\r"
     ]
    }
   ],
   "source": [
    "# define your different modalities - refer to the filenames of the CSD files\n",
    "visual_field = 'CMU_MOSI_Visual_Facet_41'\n",
    "acoustic_field = 'CMU_MOSI_COVAREP'\n",
    "text_field = 'CMU_MOSI_ModifiedTimestampedWords'\n",
    "\n",
    "\n",
    "features = [\n",
    "    text_field, \n",
    "    visual_field, \n",
    "    acoustic_field\n",
    "]\n",
    "\n",
    "recipe = {feat: os.path.join(DATA_PATH, feat) + '.csd' for feat in features}\n",
    "dataset = md.mmdataset(recipe)"
   ]
  },
  {
   "cell_type": "markdown",
   "metadata": {},
   "source": [
    "## A peek into the dataset\n",
    "\n",
    "The multimodal dataset, after loaded, has the following hierarchy:\n",
    "\n",
    "\n",
    "```\n",
    "            computational_sequence_1 ---...\n",
    "           /                                   ...\n",
    "          /                                    /\n",
    "         /                          first_video     features -- T X N array\n",
    "        /                          /               /\n",
    "dataset ---computational_sequence_2 -- second_video\n",
    "        \\                          \\               \\\n",
    "         \\                          third_video     intervals -- T X 2 array\n",
    "          \\                                    \\...\n",
    "           \\\n",
    "            computational_sequence_3 ---...\n",
    "```\n",
    "\n",
    "It looks like a nested dictionary and can be indexed as if it is a nested dictionary. A dataset contains multiple computational sequences whose key is the `text_field`, `visual_field`, `acoustic_field` as defined above. Each computational sequence, however, has multiple video IDs in it, and different computational sequences are supposed to have the same set of video IDs. Within each video, there are two arrays: `features` and `intervals`, denoting the feature values at each time step and the start and end timestamp for each step. We can take a look at its content."
   ]
  },
  {
   "cell_type": "code",
   "execution_count": 13,
   "metadata": {},
   "outputs": [
    {
     "name": "stdout",
     "output_type": "stream",
     "text": [
      "**********  Dataset Keys  **********\n",
      "['CMU_MOSI_ModifiedTimestampedWords', 'CMU_MOSI_Visual_Facet_41', 'CMU_MOSI_COVAREP']\n",
      "================================================================================\n",
      "**********  Visual Feature Keys  **********\n",
      "['03bSnISJMiM', '0h-zjBukYpk', '1DmNV9C1hbY', '1iG0909rllw', '2WGyTLYerpo', '2iD-tVS8NPw', '5W7Z1C_fDaE', '6Egk_28TtTM', '6_0THN4chvY', '73jzhE8R1TQ']\n",
      "================================================================================\n",
      "**********  Keys of 9T9Hf74oK10's Visual Features   **********\n",
      "['features', 'intervals']\n",
      "================================================================================\n",
      "**********  Shape of 9T9Hf74oK10's Visual Feature Intervals **********\n",
      "[5404, 2]\n",
      "================================================================================\n",
      "**********  Shape of 9T9Hf74oK10's Feature Modalities **********\n",
      "CMU_MOSI_Visual_Facet_41 = [5404, 47]\n",
      "CMU_MOSI_ModifiedTimestampedWords =  [658, 1]\n",
      "CMU_MOSI_COVAREP =  [18009, 74]\n",
      "Different modalities have different number of time steps!\n"
     ]
    }
   ],
   "source": [
    "print(\"*\"*10, \" Dataset Keys \", \"*\"*10)\n",
    "print(list(dataset.keys()))\n",
    "print(\"=\" * 80)\n",
    "\n",
    "print(\"*\"*10, \" Visual Feature Keys \", \"*\"*10)\n",
    "print(list(dataset[visual_field].keys())[:10])\n",
    "print(\"=\" * 80)\n",
    "\n",
    "some_id = list(dataset[visual_field].keys())[15]\n",
    "print(\"*\"*10, f\" Keys of {some_id}'s Visual Features  \", \"*\"*10)\n",
    "print(list(dataset[visual_field][some_id].keys()))\n",
    "print(\"=\" * 80)\n",
    "\n",
    "print(\"*\"*10, f\" Shape of {some_id}'s Visual Feature Intervals\", \"*\"*10)\n",
    "print(list(dataset[visual_field][some_id]['intervals'].shape))\n",
    "print(\"=\" * 80)\n",
    "\n",
    "print(\"*\"*10, f\" Shape of {some_id}'s Feature Modalities\", \"*\"*10)\n",
    "print(f\"{visual_field} =\", list(dataset[visual_field][some_id]['features'].shape))\n",
    "print(f\"{text_field} = \", list(dataset[text_field][some_id]['features'].shape))\n",
    "print(f\"{acoustic_field} = \", list(dataset[acoustic_field][some_id]['features'].shape))\n",
    "print(\"Different modalities have different number of time steps!\")"
   ]
  },
  {
   "cell_type": "markdown",
   "metadata": {},
   "source": [
    "## Alignment of multimodal time series\n",
    "\n",
    "To work with multimodal time series that contains multiple views of data with different frequencies, we have to first align them to a ***pivot*** modality. The convention is to align to ***words***. Alignment groups feature vectors from other modalities into bins denoted by the timestamps of the pivot modality, and apply a certain processing function to each bin. We call this function ***collapse function***, because usually it is a pooling function that collapses multiple feature vectors from another modality into one single vector. This will give you sequences of same lengths in each modality (as the length of the pivot modality) for all videos.\n",
    "\n",
    "Here we define our collapse funtion as simple averaging. We feed the function to the SDK when we invoke `align` method. Note that the SDK always expect collapse functions with two arguments: `intervals` and `features`. Even if you don't use intervals (as is in the case below) you still need to define your function in the following way.\n",
    "\n",
    "***Note: Currently the SDK applies the collapse function to all modalities including the pivot, and obviously text modality cannot be \"averaged\", causing some errors. My solution is to define the avg function such that it averages the features when it can, and return the content as is when it cannot average.***"
   ]
  },
  {
   "cell_type": "code",
   "execution_count": 14,
   "metadata": {
    "collapsed": true
   },
   "outputs": [
    {
     "name": "stdout",
     "output_type": "stream",
     "text": [
      "\u001b[94m\u001b[1m[2020-12-08 08:59:16.760] | Status  | \u001b[0mUnify was called ...\n",
      "\u001b[92m\u001b[1m[2020-12-08 08:59:16.761] | Success | \u001b[0mUnify completed ...\n",
      "\u001b[94m\u001b[1m[2020-12-08 08:59:16.761] | Status  | \u001b[0mPre-alignment based on <CMU_MOSI_ModifiedTimestampedWords> computational sequence started ...\n",
      "\u001b[94m\u001b[1m[2020-12-08 08:59:19.552] | Status  | \u001b[0mPre-alignment done for <CMU_MOSI_COVAREP> ...\n"
     ]
    },
    {
     "name": "stderr",
     "output_type": "stream",
     "text": [
      "Overall Progress:   0%|          | 0/93 [00:00<?, ? Computational Sequence Entries/s]\n",
      "  0%|          | 0/480 [00:00<?, ? Segments/s]\u001b[A\n",
      "Aligning 03bSnISJMiM:   0%|          | 0/480 [00:00<?, ? Segments/s]\u001b[A\n",
      "Aligning 03bSnISJMiM:  12%|█▏        | 57/480 [00:00<00:00, 566.47 Segments/s]\u001b[A"
     ]
    },
    {
     "name": "stdout",
     "output_type": "stream",
     "text": [
      "\u001b[94m\u001b[1m[2020-12-08 08:59:20.221] | Status  | \u001b[0mPre-alignment done for <CMU_MOSI_Visual_Facet_41> ...\n",
      "\u001b[94m\u001b[1m[2020-12-08 08:59:20.238] | Status  | \u001b[0mAlignment starting ...\n"
     ]
    },
    {
     "name": "stderr",
     "output_type": "stream",
     "text": [
      "\n",
      "Aligning 03bSnISJMiM:  22%|██▎       | 108/480 [00:00<00:00, 547.60 Segments/s]\u001b[A\n",
      "Aligning 03bSnISJMiM:  36%|███▋      | 174/480 [00:00<00:00, 576.87 Segments/s]\u001b[A\n",
      "Aligning 03bSnISJMiM:  50%|█████     | 240/480 [00:00<00:00, 598.98 Segments/s]\u001b[A\n",
      "Aligning 03bSnISJMiM:  64%|██████▍   | 306/480 [00:00<00:00, 615.46 Segments/s]\u001b[A\n",
      "Aligning 03bSnISJMiM:  78%|███████▊  | 372/480 [00:00<00:00, 627.03 Segments/s]\u001b[A\n",
      "Aligning 03bSnISJMiM:  91%|█████████▏| 438/480 [00:00<00:00, 635.41 Segments/s]\u001b[A\n",
      "Overall Progress:   1%|          | 1/93 [00:00<01:11,  1.29 Computational Sequence Entries/s]\n",
      "  0%|          | 0/502 [00:00<?, ? Segments/s]\u001b[A\n",
      "Aligning 0h-zjBukYpk:   0%|          | 0/502 [00:00<?, ? Segments/s]\u001b[A\n",
      "Aligning 0h-zjBukYpk:  11%|█         | 56/502 [00:00<00:00, 558.75 Segments/s]\u001b[A\n",
      "Aligning 0h-zjBukYpk:  22%|██▏       | 111/502 [00:00<00:00, 555.62 Segments/s]\u001b[A\n",
      "Aligning 0h-zjBukYpk:  35%|███▌      | 177/502 [00:00<00:00, 582.99 Segments/s]\u001b[A\n",
      "Aligning 0h-zjBukYpk:  48%|████▊     | 243/502 [00:00<00:00, 603.31 Segments/s]\u001b[A\n",
      "Aligning 0h-zjBukYpk:  62%|██████▏   | 309/502 [00:00<00:00, 618.01 Segments/s]\u001b[A\n",
      "Aligning 0h-zjBukYpk:  75%|███████▍  | 375/502 [00:00<00:00, 628.44 Segments/s]\u001b[A\n",
      "Aligning 0h-zjBukYpk:  88%|████████▊ | 441/502 [00:00<00:00, 636.20 Segments/s]\u001b[A\n",
      "Aligning 0h-zjBukYpk: 100%|█████████▉| 501/502 [00:00<00:00, 609.18 Segments/s]\u001b[A\n",
      "Overall Progress:   2%|▏         | 2/93 [00:01<01:11,  1.27 Computational Sequence Entries/s]\n",
      "  0%|          | 0/243 [00:00<?, ? Segments/s]\u001b[A\n",
      "Aligning 1DmNV9C1hbY:   0%|          | 0/243 [00:00<?, ? Segments/s]\u001b[A\n",
      "Aligning 1DmNV9C1hbY:  30%|██▉       | 72/243 [00:00<00:00, 713.93 Segments/s]\u001b[A\n",
      "Aligning 1DmNV9C1hbY:  64%|██████▍   | 156/243 [00:00<00:00, 746.24 Segments/s]\u001b[A\n",
      "Aligning 1DmNV9C1hbY:  99%|█████████▉| 241/243 [00:00<00:00, 772.04 Segments/s]\u001b[A\n",
      "Overall Progress:   3%|▎         | 3/93 [00:01<00:57,  1.55 Computational Sequence Entries/s]\n",
      "  0%|          | 0/584 [00:00<?, ? Segments/s]\u001b[A\n",
      "Aligning 1iG0909rllw:   0%|          | 0/584 [00:00<?, ? Segments/s]\u001b[A\n",
      "Aligning 1iG0909rllw:  10%|█         | 59/584 [00:00<00:00, 589.04 Segments/s]\u001b[A\n",
      "Aligning 1iG0909rllw:  20%|██        | 117/584 [00:00<00:00, 585.40 Segments/s]\u001b[A\n",
      "Aligning 1iG0909rllw:  30%|███       | 176/584 [00:00<00:00, 586.21 Segments/s]\u001b[A\n",
      "Aligning 1iG0909rllw:  40%|███▉      | 233/584 [00:00<00:00, 578.68 Segments/s]\u001b[A\n",
      "Aligning 1iG0909rllw:  52%|█████▏    | 303/584 [00:00<00:00, 608.32 Segments/s]\u001b[A\n",
      "Aligning 1iG0909rllw:  61%|██████    | 357/584 [00:00<00:00, 584.21 Segments/s]\u001b[A\n",
      "Aligning 1iG0909rllw:  71%|███████   | 416/584 [00:00<00:00, 584.04 Segments/s]\u001b[A\n",
      "Aligning 1iG0909rllw:  83%|████████▎ | 485/584 [00:00<00:00, 606.62 Segments/s]\u001b[A\n",
      "Aligning 1iG0909rllw:  93%|█████████▎| 544/584 [00:00<00:00, 599.08 Segments/s]\u001b[A\n",
      "Overall Progress:   4%|▍         | 4/93 [00:02<01:06,  1.34 Computational Sequence Entries/s]\n",
      "  0%|          | 0/660 [00:00<?, ? Segments/s]\u001b[A\n",
      "Aligning 2WGyTLYerpo:   0%|          | 0/660 [00:00<?, ? Segments/s]\u001b[A\n",
      "Aligning 2WGyTLYerpo:   8%|▊         | 56/660 [00:00<00:01, 556.98 Segments/s]\u001b[A\n",
      "Aligning 2WGyTLYerpo:  18%|█▊        | 122/660 [00:00<00:00, 582.83 Segments/s]\u001b[A\n",
      "Aligning 2WGyTLYerpo:  27%|██▋       | 180/660 [00:00<00:00, 579.28 Segments/s]\u001b[A\n",
      "Aligning 2WGyTLYerpo:  37%|███▋      | 246/660 [00:00<00:00, 600.68 Segments/s]\u001b[A\n",
      "Aligning 2WGyTLYerpo:  47%|████▋     | 312/660 [00:00<00:00, 616.86 Segments/s]\u001b[A\n",
      "Aligning 2WGyTLYerpo:  55%|█████▌    | 365/660 [00:00<00:00, 587.94 Segments/s]\u001b[A\n",
      "Aligning 2WGyTLYerpo:  65%|██████▌   | 431/660 [00:00<00:00, 606.10 Segments/s]\u001b[A\n",
      "Aligning 2WGyTLYerpo:  74%|███████▍  | 488/660 [00:00<00:00, 593.60 Segments/s]\u001b[A\n",
      "Aligning 2WGyTLYerpo:  83%|████████▎ | 545/660 [00:00<00:00, 580.06 Segments/s]\u001b[A\n",
      "Aligning 2WGyTLYerpo:  93%|█████████▎| 611/660 [00:01<00:00, 600.81 Segments/s]\u001b[A\n",
      "Overall Progress:   5%|▌         | 5/93 [00:03<01:14,  1.18 Computational Sequence Entries/s]\n",
      "  0%|          | 0/709 [00:00<?, ? Segments/s]\u001b[A\n",
      "Aligning 2iD-tVS8NPw:   0%|          | 0/709 [00:00<?, ? Segments/s]\u001b[A\n",
      "Aligning 2iD-tVS8NPw:   8%|▊         | 56/709 [00:00<00:01, 558.32 Segments/s]\u001b[A\n",
      "Aligning 2iD-tVS8NPw:  17%|█▋        | 118/709 [00:00<00:01, 575.13 Segments/s]\u001b[A\n",
      "Aligning 2iD-tVS8NPw:  24%|██▍       | 169/709 [00:00<00:00, 551.78 Segments/s]\u001b[A\n",
      "Aligning 2iD-tVS8NPw:  31%|███▏      | 222/709 [00:00<00:00, 543.01 Segments/s]\u001b[A\n",
      "Aligning 2iD-tVS8NPw:  39%|███▉      | 278/709 [00:00<00:00, 547.74 Segments/s]\u001b[A\n",
      "Aligning 2iD-tVS8NPw:  49%|████▊     | 344/709 [00:00<00:00, 576.69 Segments/s]\u001b[A\n",
      "Aligning 2iD-tVS8NPw:  58%|█████▊    | 410/709 [00:00<00:00, 597.58 Segments/s]\u001b[A\n",
      "Aligning 2iD-tVS8NPw:  67%|██████▋   | 476/709 [00:00<00:00, 613.82 Segments/s]\u001b[A\n",
      "Aligning 2iD-tVS8NPw:  76%|███████▋  | 542/709 [00:00<00:00, 626.06 Segments/s]\u001b[A\n",
      "Aligning 2iD-tVS8NPw:  86%|████████▌ | 608/709 [00:01<00:00, 634.01 Segments/s]\u001b[A\n",
      "Aligning 2iD-tVS8NPw:  95%|█████████▌| 674/709 [00:01<00:00, 640.15 Segments/s]\u001b[A\n",
      "Overall Progress:   6%|▋         | 6/93 [00:05<01:22,  1.06 Computational Sequence Entries/s]\n",
      "  0%|          | 0/274 [00:00<?, ? Segments/s]\u001b[A\n",
      "Aligning 5W7Z1C_fDaE:   0%|          | 0/274 [00:00<?, ? Segments/s]\u001b[A\n",
      "Aligning 5W7Z1C_fDaE:  30%|██▉       | 82/274 [00:00<00:00, 813.44 Segments/s]\u001b[A\n",
      "Aligning 5W7Z1C_fDaE:  55%|█████▌    | 152/274 [00:00<00:00, 772.66 Segments/s]\u001b[A\n",
      "Aligning 5W7Z1C_fDaE:  86%|████████▌ | 236/274 [00:00<00:00, 789.87 Segments/s]\u001b[A\n",
      "Overall Progress:   8%|▊         | 7/93 [00:05<01:05,  1.30 Computational Sequence Entries/s]\n",
      "  0%|          | 0/420 [00:00<?, ? Segments/s]\u001b[A\n",
      "Aligning 6Egk_28TtTM:   0%|          | 0/420 [00:00<?, ? Segments/s]\u001b[A\n",
      "Aligning 6Egk_28TtTM:  16%|█▌        | 68/420 [00:00<00:00, 675.31 Segments/s]\u001b[A\n",
      "Aligning 6Egk_28TtTM:  30%|██▉       | 124/420 [00:00<00:00, 635.80 Segments/s]\u001b[A\n",
      "Aligning 6Egk_28TtTM:  46%|████▌     | 193/420 [00:00<00:00, 650.58 Segments/s]\u001b[A\n",
      "Aligning 6Egk_28TtTM:  62%|██████▏   | 262/420 [00:00<00:00, 660.60 Segments/s]\u001b[A\n",
      "Aligning 6Egk_28TtTM:  79%|███████▉  | 331/420 [00:00<00:00, 667.96 Segments/s]\u001b[A\n",
      "Aligning 6Egk_28TtTM:  95%|█████████▌| 400/420 [00:00<00:00, 672.87 Segments/s]\u001b[A\n",
      "Overall Progress:   9%|▊         | 8/93 [00:06<01:01,  1.37 Computational Sequence Entries/s]\n",
      "  0%|          | 0/386 [00:00<?, ? Segments/s]\u001b[A\n",
      "Aligning 6_0THN4chvY:   0%|          | 0/386 [00:00<?, ? Segments/s]\u001b[A\n",
      "Aligning 6_0THN4chvY:  19%|█▉        | 75/386 [00:00<00:00, 743.77 Segments/s]\u001b[A\n",
      "Aligning 6_0THN4chvY:  40%|███▉      | 153/386 [00:00<00:00, 751.73 Segments/s]\u001b[A\n",
      "Aligning 6_0THN4chvY:  60%|█████▉    | 231/386 [00:00<00:00, 759.02 Segments/s]\u001b[A\n",
      "Aligning 6_0THN4chvY:  76%|███████▋  | 295/386 [00:00<00:00, 718.26 Segments/s]\u001b[A\n",
      "Aligning 6_0THN4chvY:  97%|█████████▋| 373/386 [00:00<00:00, 735.17 Segments/s]\u001b[A\n",
      "Overall Progress:  10%|▉         | 9/93 [00:06<00:56,  1.50 Computational Sequence Entries/s]\n",
      "  0%|          | 0/619 [00:00<?, ? Segments/s]\u001b[A\n",
      "Aligning 73jzhE8R1TQ:   0%|          | 0/619 [00:00<?, ? Segments/s]\u001b[A\n",
      "Aligning 73jzhE8R1TQ:  10%|█         | 64/619 [00:00<00:00, 637.07 Segments/s]\u001b[A\n",
      "Aligning 73jzhE8R1TQ:  21%|██        | 130/619 [00:00<00:00, 641.55 Segments/s]\u001b[A\n",
      "Aligning 73jzhE8R1TQ:  32%|███▏      | 196/619 [00:00<00:00, 646.88 Segments/s]\u001b[A\n",
      "Aligning 73jzhE8R1TQ:  42%|████▏     | 262/619 [00:00<00:00, 650.00 Segments/s]\u001b[A\n",
      "Aligning 73jzhE8R1TQ:  53%|█████▎    | 328/619 [00:00<00:00, 651.82 Segments/s]\u001b[A\n",
      "Aligning 73jzhE8R1TQ:  64%|██████▎   | 394/619 [00:00<00:00, 653.48 Segments/s]\u001b[A\n",
      "Aligning 73jzhE8R1TQ:  74%|███████▍  | 460/619 [00:00<00:00, 654.55 Segments/s]\u001b[A\n",
      "Aligning 73jzhE8R1TQ:  85%|████████▍ | 526/619 [00:00<00:00, 654.66 Segments/s]\u001b[A\n",
      "Aligning 73jzhE8R1TQ:  96%|█████████▌| 592/619 [00:00<00:00, 655.52 Segments/s]\u001b[A\n",
      "Overall Progress:  11%|█         | 10/93 [00:07<01:02,  1.33 Computational Sequence Entries/s]\n",
      "  0%|          | 0/643 [00:00<?, ? Segments/s]\u001b[A\n",
      "Aligning 7JsX8y1ysxY:   0%|          | 0/643 [00:00<?, ? Segments/s]\u001b[A\n",
      "Aligning 7JsX8y1ysxY:   9%|▊         | 56/643 [00:00<00:01, 559.09 Segments/s]\u001b[A\n",
      "Aligning 7JsX8y1ysxY:  19%|█▉        | 122/643 [00:00<00:00, 585.88 Segments/s]\u001b[A\n"
     ]
    },
    {
     "name": "stderr",
     "output_type": "stream",
     "text": [
      "Aligning 7JsX8y1ysxY:  28%|██▊       | 178/643 [00:00<00:00, 575.16 Segments/s]\u001b[A\n",
      "Aligning 7JsX8y1ysxY:  38%|███▊      | 245/643 [00:00<00:00, 598.83 Segments/s]\u001b[A\n",
      "Aligning 7JsX8y1ysxY:  47%|████▋     | 299/643 [00:00<00:00, 579.85 Segments/s]\u001b[A\n",
      "Aligning 7JsX8y1ysxY:  57%|█████▋    | 366/643 [00:00<00:00, 602.07 Segments/s]\u001b[A\n",
      "Aligning 7JsX8y1ysxY:  66%|██████▌   | 422/643 [00:00<00:00, 586.95 Segments/s]\u001b[A\n",
      "Aligning 7JsX8y1ysxY:  76%|███████▌  | 488/643 [00:00<00:00, 606.67 Segments/s]\u001b[A\n",
      "Aligning 7JsX8y1ysxY:  86%|████████▋ | 555/643 [00:00<00:00, 621.67 Segments/s]\u001b[A\n",
      "Aligning 7JsX8y1ysxY:  96%|█████████▌| 616/643 [00:01<00:00, 598.66 Segments/s]\u001b[A\n",
      "Overall Progress:  12%|█▏        | 11/93 [00:08<01:09,  1.18 Computational Sequence Entries/s]\n",
      "  0%|          | 0/663 [00:00<?, ? Segments/s]\u001b[A\n",
      "Aligning 8OtFthrtaJM:   0%|          | 0/663 [00:00<?, ? Segments/s]\u001b[A\n",
      "Aligning 8OtFthrtaJM:  10%|▉         | 64/663 [00:00<00:00, 635.06 Segments/s]\u001b[A\n",
      "Aligning 8OtFthrtaJM:  20%|█▉        | 130/663 [00:00<00:00, 642.08 Segments/s]\u001b[A\n",
      "Aligning 8OtFthrtaJM:  28%|██▊       | 184/663 [00:00<00:00, 606.82 Segments/s]\u001b[A\n",
      "Aligning 8OtFthrtaJM:  38%|███▊      | 250/663 [00:00<00:00, 621.25 Segments/s]\u001b[A\n",
      "Aligning 8OtFthrtaJM:  48%|████▊     | 317/663 [00:00<00:00, 632.49 Segments/s]\u001b[A\n",
      "Aligning 8OtFthrtaJM:  58%|█████▊    | 384/663 [00:00<00:00, 640.52 Segments/s]\u001b[A\n",
      "Aligning 8OtFthrtaJM:  68%|██████▊   | 450/663 [00:00<00:00, 645.64 Segments/s]\u001b[A\n",
      "Aligning 8OtFthrtaJM:  78%|███████▊  | 516/663 [00:00<00:00, 649.79 Segments/s]\u001b[A\n",
      "Aligning 8OtFthrtaJM:  88%|████████▊ | 582/663 [00:00<00:00, 652.33 Segments/s]\u001b[A\n",
      "Aligning 8OtFthrtaJM:  98%|█████████▊| 648/663 [00:01<00:00, 653.84 Segments/s]\u001b[A\n",
      "Overall Progress:  13%|█▎        | 12/93 [00:09<01:13,  1.11 Computational Sequence Entries/s]\n",
      "  0%|          | 0/597 [00:00<?, ? Segments/s]\u001b[A\n",
      "Aligning 8d-gEyoeBzc:   0%|          | 0/597 [00:00<?, ? Segments/s]\u001b[A\n",
      "Aligning 8d-gEyoeBzc:  11%|█         | 66/597 [00:00<00:00, 649.97 Segments/s]\u001b[A\n",
      "Aligning 8d-gEyoeBzc:  22%|██▏       | 132/597 [00:00<00:00, 651.09 Segments/s]\u001b[A\n",
      "Aligning 8d-gEyoeBzc:  31%|███       | 184/597 [00:00<00:00, 602.82 Segments/s]\u001b[A\n",
      "Aligning 8d-gEyoeBzc:  40%|████      | 240/597 [00:00<00:00, 588.36 Segments/s]\u001b[A\n",
      "Aligning 8d-gEyoeBzc:  51%|█████▏    | 307/597 [00:00<00:00, 608.60 Segments/s]\u001b[A\n",
      "Aligning 8d-gEyoeBzc:  62%|██████▏   | 373/597 [00:00<00:00, 622.85 Segments/s]\u001b[A\n",
      "Aligning 8d-gEyoeBzc:  74%|███████▎  | 439/597 [00:00<00:00, 633.45 Segments/s]\u001b[A\n",
      "Aligning 8d-gEyoeBzc:  85%|████████▍ | 505/597 [00:00<00:00, 640.45 Segments/s]\u001b[A\n",
      "Aligning 8d-gEyoeBzc:  96%|█████████▌| 571/597 [00:00<00:00, 645.42 Segments/s]\u001b[A\n",
      "Overall Progress:  14%|█▍        | 13/93 [00:10<01:13,  1.08 Computational Sequence Entries/s]\n",
      "  0%|          | 0/531 [00:00<?, ? Segments/s]\u001b[A\n",
      "Aligning 8qrpnFRGt2A:   0%|          | 0/531 [00:00<?, ? Segments/s]\u001b[A\n",
      "Aligning 8qrpnFRGt2A:  12%|█▏        | 64/531 [00:00<00:00, 633.42 Segments/s]\u001b[A\n",
      "Aligning 8qrpnFRGt2A:  24%|██▍       | 130/531 [00:00<00:00, 639.07 Segments/s]\u001b[A\n",
      "Aligning 8qrpnFRGt2A:  37%|███▋      | 196/531 [00:00<00:00, 644.59 Segments/s]\u001b[A\n",
      "Aligning 8qrpnFRGt2A:  49%|████▉     | 262/531 [00:00<00:00, 648.79 Segments/s]\u001b[A\n",
      "Aligning 8qrpnFRGt2A:  62%|██████▏   | 328/531 [00:00<00:00, 651.56 Segments/s]\u001b[A\n",
      "Aligning 8qrpnFRGt2A:  74%|███████▍  | 394/531 [00:00<00:00, 652.00 Segments/s]\u001b[A\n",
      "Aligning 8qrpnFRGt2A:  87%|████████▋ | 460/531 [00:00<00:00, 651.98 Segments/s]\u001b[A\n",
      "Aligning 8qrpnFRGt2A:  99%|█████████▉| 526/531 [00:00<00:00, 652.59 Segments/s]\u001b[A\n",
      "Overall Progress:  15%|█▌        | 14/93 [00:11<01:10,  1.12 Computational Sequence Entries/s]\n",
      "  0%|          | 0/574 [00:00<?, ? Segments/s]\u001b[A\n",
      "Aligning 9J25DZhivz8:   0%|          | 0/574 [00:00<?, ? Segments/s]\u001b[A\n",
      "Aligning 9J25DZhivz8:  11%|█▏        | 65/574 [00:00<00:00, 643.95 Segments/s]\u001b[A\n",
      "Aligning 9J25DZhivz8:  23%|██▎       | 131/574 [00:00<00:00, 647.28 Segments/s]\u001b[A\n",
      "Aligning 9J25DZhivz8:  34%|███▍      | 197/574 [00:00<00:00, 648.55 Segments/s]\u001b[A\n",
      "Aligning 9J25DZhivz8:  46%|████▌     | 263/574 [00:00<00:00, 650.97 Segments/s]\u001b[A\n",
      "Aligning 9J25DZhivz8:  57%|█████▋    | 329/574 [00:00<00:00, 652.77 Segments/s]\u001b[A\n",
      "Aligning 9J25DZhivz8:  69%|██████▉   | 395/574 [00:00<00:00, 653.78 Segments/s]\u001b[A\n",
      "Aligning 9J25DZhivz8:  80%|████████  | 461/574 [00:00<00:00, 654.37 Segments/s]\u001b[A\n",
      "Aligning 9J25DZhivz8:  92%|█████████▏| 527/574 [00:00<00:00, 654.99 Segments/s]\u001b[A\n",
      "Overall Progress:  16%|█▌        | 15/93 [00:12<01:09,  1.12 Computational Sequence Entries/s]\n",
      "  0%|          | 0/658 [00:00<?, ? Segments/s]\u001b[A\n",
      "Aligning 9T9Hf74oK10:   0%|          | 0/658 [00:00<?, ? Segments/s]\u001b[A\n",
      "Aligning 9T9Hf74oK10:  10%|█         | 66/658 [00:00<00:00, 651.57 Segments/s]\u001b[A\n",
      "Aligning 9T9Hf74oK10:  20%|██        | 132/658 [00:00<00:00, 652.69 Segments/s]\u001b[A\n",
      "Aligning 9T9Hf74oK10:  30%|███       | 198/658 [00:00<00:00, 654.82 Segments/s]\u001b[A\n",
      "Aligning 9T9Hf74oK10:  40%|████      | 265/658 [00:00<00:00, 656.37 Segments/s]\u001b[A\n",
      "Aligning 9T9Hf74oK10:  50%|█████     | 331/658 [00:00<00:00, 656.75 Segments/s]\u001b[A\n",
      "Aligning 9T9Hf74oK10:  60%|██████    | 397/658 [00:00<00:00, 657.42 Segments/s]\u001b[A\n",
      "Aligning 9T9Hf74oK10:  70%|███████   | 463/658 [00:00<00:00, 657.99 Segments/s]\u001b[A\n",
      "Aligning 9T9Hf74oK10:  80%|████████  | 529/658 [00:00<00:00, 658.33 Segments/s]\u001b[A\n",
      "Aligning 9T9Hf74oK10:  90%|█████████ | 595/658 [00:00<00:00, 658.35 Segments/s]\u001b[A\n",
      "Overall Progress:  17%|█▋        | 16/93 [00:13<01:11,  1.08 Computational Sequence Entries/s]\n",
      "  0%|          | 0/305 [00:00<?, ? Segments/s]\u001b[A\n",
      "Aligning 9c67fiY0wGQ:   0%|          | 0/305 [00:00<?, ? Segments/s]\u001b[A\n",
      "Aligning 9c67fiY0wGQ:  25%|██▌       | 77/305 [00:00<00:00, 768.43 Segments/s]\u001b[A\n",
      "Aligning 9c67fiY0wGQ:  51%|█████▏    | 157/305 [00:00<00:00, 775.05 Segments/s]\u001b[A\n",
      "Aligning 9c67fiY0wGQ:  78%|███████▊  | 237/305 [00:00<00:00, 780.35 Segments/s]\u001b[A\n",
      "Overall Progress:  18%|█▊        | 17/93 [00:13<00:58,  1.30 Computational Sequence Entries/s]\n",
      "  0%|          | 0/762 [00:00<?, ? Segments/s]\u001b[A\n",
      "Aligning 9qR7uwkblbs:   0%|          | 0/762 [00:00<?, ? Segments/s]\u001b[A\n",
      "Aligning 9qR7uwkblbs:   8%|▊         | 61/762 [00:00<00:01, 607.27 Segments/s]\u001b[A\n",
      "Aligning 9qR7uwkblbs:  17%|█▋        | 128/762 [00:00<00:01, 622.37 Segments/s]\u001b[A\n",
      "Aligning 9qR7uwkblbs:  24%|██▍       | 185/762 [00:00<00:00, 604.78 Segments/s]\u001b[A\n",
      "Aligning 9qR7uwkblbs:  33%|███▎      | 252/762 [00:00<00:00, 621.35 Segments/s]\u001b[A\n",
      "Aligning 9qR7uwkblbs:  42%|████▏     | 319/762 [00:00<00:00, 633.06 Segments/s]\u001b[A\n",
      "Aligning 9qR7uwkblbs:  51%|█████     | 386/762 [00:00<00:00, 641.08 Segments/s]\u001b[A\n",
      "Aligning 9qR7uwkblbs:  58%|█████▊    | 444/762 [00:00<00:00, 608.02 Segments/s]\u001b[A\n",
      "Aligning 9qR7uwkblbs:  67%|██████▋   | 511/762 [00:00<00:00, 623.10 Segments/s]\u001b[A\n",
      "Aligning 9qR7uwkblbs:  75%|███████▍  | 571/762 [00:00<00:00, 602.01 Segments/s]\u001b[A\n",
      "Aligning 9qR7uwkblbs:  83%|████████▎ | 630/762 [00:01<00:00, 585.85 Segments/s]\u001b[A\n",
      "Aligning 9qR7uwkblbs:  91%|█████████▏| 697/762 [00:01<00:00, 606.48 Segments/s]\u001b[A\n",
      "Overall Progress:  19%|█▉        | 18/93 [00:15<01:07,  1.10 Computational Sequence Entries/s]\n",
      "  0%|          | 0/677 [00:00<?, ? Segments/s]\u001b[A\n",
      "Aligning Af8D0E4ZXaw:   0%|          | 0/677 [00:00<?, ? Segments/s]\u001b[A\n",
      "Aligning Af8D0E4ZXaw:  10%|▉         | 65/677 [00:00<00:00, 643.43 Segments/s]\u001b[A\n",
      "Aligning Af8D0E4ZXaw:  19%|█▉        | 132/677 [00:00<00:00, 649.05 Segments/s]\u001b[A\n",
      "Aligning Af8D0E4ZXaw:  29%|██▉       | 199/677 [00:00<00:00, 652.25 Segments/s]\u001b[A\n",
      "Aligning Af8D0E4ZXaw:  39%|███▉      | 266/677 [00:00<00:00, 655.35 Segments/s]\u001b[A\n",
      "Aligning Af8D0E4ZXaw:  49%|████▉     | 332/677 [00:00<00:00, 656.38 Segments/s]\u001b[A\n",
      "Aligning Af8D0E4ZXaw:  59%|█████▉    | 399/677 [00:00<00:00, 658.06 Segments/s]\u001b[A\n",
      "Aligning Af8D0E4ZXaw:  69%|██████▊   | 465/677 [00:00<00:00, 657.89 Segments/s]\u001b[A\n",
      "Aligning Af8D0E4ZXaw:  79%|███████▊  | 532/677 [00:00<00:00, 658.56 Segments/s]\u001b[A\n",
      "Aligning Af8D0E4ZXaw:  88%|████████▊ | 598/677 [00:00<00:00, 658.42 Segments/s]\u001b[A\n",
      "Aligning Af8D0E4ZXaw:  98%|█████████▊| 662/677 [00:01<00:00, 613.84 Segments/s]\u001b[A\n",
      "Overall Progress:  20%|██        | 19/93 [00:16<01:10,  1.05 Computational Sequence Entries/s]\n",
      "  0%|          | 0/411 [00:00<?, ? Segments/s]\u001b[A\n"
     ]
    },
    {
     "name": "stderr",
     "output_type": "stream",
     "text": [
      "Aligning BI97DNYfe5I:   0%|          | 0/411 [00:00<?, ? Segments/s]\u001b[A\n",
      "Aligning BI97DNYfe5I:  18%|█▊        | 74/411 [00:00<00:00, 738.24 Segments/s]\u001b[A\n",
      "Aligning BI97DNYfe5I:  36%|███▋      | 150/411 [00:00<00:00, 742.64 Segments/s]\u001b[A\n",
      "Aligning BI97DNYfe5I:  51%|█████     | 209/411 [00:00<00:00, 686.17 Segments/s]\u001b[A\n",
      "Aligning BI97DNYfe5I:  65%|██████▌   | 269/411 [00:00<00:00, 656.88 Segments/s]\u001b[A\n",
      "Aligning BI97DNYfe5I:  84%|████████▍ | 345/411 [00:00<00:00, 684.10 Segments/s]\u001b[A\n",
      "Overall Progress:  22%|██▏       | 20/93 [00:16<01:01,  1.18 Computational Sequence Entries/s]\n",
      "  0%|          | 0/583 [00:00<?, ? Segments/s]\u001b[A\n",
      "Aligning BXuRRbG0Ugk:   0%|          | 0/583 [00:00<?, ? Segments/s]\u001b[A\n",
      "Aligning BXuRRbG0Ugk:  11%|█▏        | 66/583 [00:00<00:00, 650.67 Segments/s]\u001b[A\n",
      "Aligning BXuRRbG0Ugk:  23%|██▎       | 132/583 [00:00<00:00, 651.44 Segments/s]\u001b[A\n",
      "Aligning BXuRRbG0Ugk:  34%|███▍      | 199/583 [00:00<00:00, 654.94 Segments/s]\u001b[A\n",
      "Aligning BXuRRbG0Ugk:  46%|████▌     | 266/583 [00:00<00:00, 656.46 Segments/s]\u001b[A\n",
      "Aligning BXuRRbG0Ugk:  57%|█████▋    | 333/583 [00:00<00:00, 658.23 Segments/s]\u001b[A\n",
      "Aligning BXuRRbG0Ugk:  69%|██████▊   | 400/583 [00:00<00:00, 659.30 Segments/s]\u001b[A\n",
      "Aligning BXuRRbG0Ugk:  80%|███████▉  | 466/583 [00:00<00:00, 658.76 Segments/s]\u001b[A\n",
      "Aligning BXuRRbG0Ugk:  90%|█████████ | 527/583 [00:00<00:00, 624.00 Segments/s]\u001b[A\n",
      "Overall Progress:  23%|██▎       | 21/93 [00:17<01:02,  1.16 Computational Sequence Entries/s]\n",
      "  0%|          | 0/289 [00:00<?, ? Segments/s]\u001b[A\n",
      "Aligning Bfr499ggo-0:   0%|          | 0/289 [00:00<?, ? Segments/s]\u001b[A\n",
      "Aligning Bfr499ggo-0:  28%|██▊       | 80/289 [00:00<00:00, 798.58 Segments/s]\u001b[A\n",
      "Aligning Bfr499ggo-0:  56%|█████▌    | 162/289 [00:00<00:00, 802.20 Segments/s]\u001b[A\n",
      "Aligning Bfr499ggo-0:  84%|████████▍ | 244/289 [00:00<00:00, 805.44 Segments/s]\u001b[A\n",
      "Overall Progress:  24%|██▎       | 22/93 [00:17<00:50,  1.40 Computational Sequence Entries/s]\n",
      "  0%|          | 0/667 [00:00<?, ? Segments/s]\u001b[A\n",
      "Aligning BioHAh1qJAQ:   0%|          | 0/667 [00:00<?, ? Segments/s]\u001b[A\n",
      "Aligning BioHAh1qJAQ:   8%|▊         | 56/667 [00:00<00:01, 557.79 Segments/s]\u001b[A\n",
      "Aligning BioHAh1qJAQ:  18%|█▊        | 122/667 [00:00<00:00, 584.85 Segments/s]\u001b[A\n",
      "Aligning BioHAh1qJAQ:  27%|██▋       | 177/667 [00:00<00:00, 571.44 Segments/s]\u001b[A\n",
      "Aligning BioHAh1qJAQ:  35%|███▌      | 235/667 [00:00<00:00, 571.78 Segments/s]\u001b[A\n",
      "Aligning BioHAh1qJAQ:  45%|████▌     | 302/667 [00:00<00:00, 596.03 Segments/s]\u001b[A\n",
      "Aligning BioHAh1qJAQ:  55%|█████▌    | 368/667 [00:00<00:00, 613.45 Segments/s]\u001b[A\n",
      "Aligning BioHAh1qJAQ:  65%|██████▌   | 434/667 [00:00<00:00, 626.59 Segments/s]\u001b[A\n",
      "Aligning BioHAh1qJAQ:  75%|███████▍  | 500/667 [00:00<00:00, 635.47 Segments/s]\u001b[A\n",
      "Aligning BioHAh1qJAQ:  85%|████████▍ | 566/667 [00:00<00:00, 642.28 Segments/s]\u001b[A\n",
      "Aligning BioHAh1qJAQ:  94%|█████████▍| 629/667 [00:01<00:00, 615.38 Segments/s]\u001b[A\n",
      "Overall Progress:  25%|██▍       | 23/93 [00:19<00:57,  1.21 Computational Sequence Entries/s]\n",
      "  0%|          | 0/715 [00:00<?, ? Segments/s]\u001b[A\n",
      "Aligning BvYR0L6f2Ig:   0%|          | 0/715 [00:00<?, ? Segments/s]\u001b[A\n",
      "Aligning BvYR0L6f2Ig:   8%|▊         | 56/715 [00:00<00:01, 559.86 Segments/s]\u001b[A\n",
      "Aligning BvYR0L6f2Ig:  17%|█▋        | 121/715 [00:00<00:01, 583.27 Segments/s]\u001b[A\n",
      "Aligning BvYR0L6f2Ig:  26%|██▋       | 188/715 [00:00<00:00, 605.30 Segments/s]\u001b[A\n",
      "Aligning BvYR0L6f2Ig:  36%|███▌      | 255/715 [00:00<00:00, 621.46 Segments/s]\u001b[A\n",
      "Aligning BvYR0L6f2Ig:  45%|████▌     | 322/715 [00:00<00:00, 632.99 Segments/s]\u001b[A\n",
      "Aligning BvYR0L6f2Ig:  54%|█████▍    | 389/715 [00:00<00:00, 640.99 Segments/s]\u001b[A\n",
      "Aligning BvYR0L6f2Ig:  64%|██████▎   | 455/715 [00:00<00:00, 646.51 Segments/s]\u001b[A\n",
      "Aligning BvYR0L6f2Ig:  73%|███████▎  | 522/715 [00:00<00:00, 650.72 Segments/s]\u001b[A\n",
      "Aligning BvYR0L6f2Ig:  82%|████████▏ | 588/715 [00:00<00:00, 653.19 Segments/s]\u001b[A\n",
      "Aligning BvYR0L6f2Ig:  91%|█████████▏| 654/715 [00:01<00:00, 654.06 Segments/s]\u001b[A\n",
      "Overall Progress:  26%|██▌       | 24/93 [00:20<01:02,  1.10 Computational Sequence Entries/s]\n",
      "  0%|          | 0/807 [00:00<?, ? Segments/s]\u001b[A\n",
      "Aligning Ci-AH39fi3Y:   0%|          | 0/807 [00:00<?, ? Segments/s]\u001b[A\n",
      "Aligning Ci-AH39fi3Y:   7%|▋         | 57/807 [00:00<00:01, 564.47 Segments/s]\u001b[A\n",
      "Aligning Ci-AH39fi3Y:  15%|█▌        | 124/807 [00:00<00:01, 590.45 Segments/s]\u001b[A\n",
      "Aligning Ci-AH39fi3Y:  24%|██▎       | 191/807 [00:00<00:01, 610.59 Segments/s]\u001b[A\n",
      "Aligning Ci-AH39fi3Y:  31%|███▏      | 254/807 [00:00<00:00, 613.64 Segments/s]\u001b[A\n",
      "Aligning Ci-AH39fi3Y:  38%|███▊      | 308/807 [00:00<00:00, 589.49 Segments/s]\u001b[A\n",
      "Aligning Ci-AH39fi3Y:  45%|████▍     | 363/807 [00:00<00:00, 576.80 Segments/s]\u001b[A\n",
      "Aligning Ci-AH39fi3Y:  53%|█████▎    | 430/807 [00:00<00:00, 600.63 Segments/s]\u001b[A\n",
      "Aligning Ci-AH39fi3Y:  62%|██████▏   | 497/807 [00:00<00:00, 618.52 Segments/s]\u001b[A\n",
      "Aligning Ci-AH39fi3Y:  70%|██████▉   | 564/807 [00:00<00:00, 631.75 Segments/s]\u001b[A\n",
      "Aligning Ci-AH39fi3Y:  78%|███████▊  | 626/807 [00:01<00:00, 614.68 Segments/s]\u001b[A\n",
      "Aligning Ci-AH39fi3Y:  86%|████████▌ | 693/807 [00:01<00:00, 628.78 Segments/s]\u001b[A\n",
      "Aligning Ci-AH39fi3Y:  94%|█████████▎| 756/807 [00:01<00:00, 607.17 Segments/s]\u001b[A\n",
      "Overall Progress:  27%|██▋       | 25/93 [00:21<01:10,  1.03s/ Computational Sequence Entries]\n",
      "  0%|          | 0/601 [00:00<?, ? Segments/s]\u001b[A\n",
      "Aligning Clx4VXItLTE:   0%|          | 0/601 [00:00<?, ? Segments/s]\u001b[A\n",
      "Aligning Clx4VXItLTE:   9%|▉         | 56/601 [00:00<00:00, 556.78 Segments/s]\u001b[A\n",
      "Aligning Clx4VXItLTE:  20%|██        | 123/601 [00:00<00:00, 584.44 Segments/s]\u001b[A\n",
      "Aligning Clx4VXItLTE:  32%|███▏      | 190/601 [00:00<00:00, 605.74 Segments/s]\u001b[A\n",
      "Aligning Clx4VXItLTE:  43%|████▎     | 257/601 [00:00<00:00, 621.11 Segments/s]\u001b[A\n",
      "Aligning Clx4VXItLTE:  54%|█████▍    | 324/601 [00:00<00:00, 632.93 Segments/s]\u001b[A\n",
      "Aligning Clx4VXItLTE:  65%|██████▍   | 390/601 [00:00<00:00, 640.70 Segments/s]\u001b[A\n",
      "Aligning Clx4VXItLTE:  76%|███████▌  | 457/601 [00:00<00:00, 647.52 Segments/s]\u001b[A\n",
      "Aligning Clx4VXItLTE:  86%|████████▌ | 518/601 [00:00<00:00, 625.07 Segments/s]\u001b[A\n",
      "Aligning Clx4VXItLTE:  97%|█████████▋| 585/601 [00:00<00:00, 635.61 Segments/s]\u001b[A\n",
      "Overall Progress:  28%|██▊       | 26/93 [00:22<01:07,  1.00s/ Computational Sequence Entries]\n",
      "  0%|          | 0/418 [00:00<?, ? Segments/s]\u001b[A\n",
      "Aligning Dg_0XKD0Mf4:   0%|          | 0/418 [00:00<?, ? Segments/s]\u001b[A\n",
      "Aligning Dg_0XKD0Mf4:  17%|█▋        | 72/418 [00:00<00:00, 716.69 Segments/s]\u001b[A\n",
      "Aligning Dg_0XKD0Mf4:  29%|██▉       | 121/418 [00:00<00:00, 627.42 Segments/s]\u001b[A\n",
      "Aligning Dg_0XKD0Mf4:  46%|████▌     | 193/418 [00:00<00:00, 652.28 Segments/s]\u001b[A\n",
      "Aligning Dg_0XKD0Mf4:  64%|██████▍   | 268/418 [00:00<00:00, 678.04 Segments/s]\u001b[A\n",
      "Aligning Dg_0XKD0Mf4:  79%|███████▉  | 330/418 [00:00<00:00, 657.97 Segments/s]\u001b[A\n",
      "Aligning Dg_0XKD0Mf4:  97%|█████████▋| 405/418 [00:00<00:00, 682.01 Segments/s]\u001b[A\n",
      "Overall Progress:  29%|██▉       | 27/93 [00:23<00:58,  1.12 Computational Sequence Entries/s]\n",
      "  0%|          | 0/567 [00:00<?, ? Segments/s]\u001b[A\n",
      "Aligning G-xst2euQUc:   0%|          | 0/567 [00:00<?, ? Segments/s]\u001b[A\n",
      "Aligning G-xst2euQUc:  13%|█▎        | 71/567 [00:00<00:00, 706.59 Segments/s]\u001b[A\n",
      "Aligning G-xst2euQUc:  25%|██▌       | 143/567 [00:00<00:00, 710.43 Segments/s]\u001b[A\n",
      "Aligning G-xst2euQUc:  38%|███▊      | 216/567 [00:00<00:00, 714.32 Segments/s]\u001b[A\n",
      "Aligning G-xst2euQUc:  51%|█████     | 289/567 [00:00<00:00, 716.22 Segments/s]\u001b[A\n",
      "Aligning G-xst2euQUc:  64%|██████▍   | 362/567 [00:00<00:00, 717.93 Segments/s]\u001b[A\n",
      "Aligning G-xst2euQUc:  75%|███████▍  | 423/567 [00:00<00:00, 679.40 Segments/s]\u001b[A\n",
      "Aligning G-xst2euQUc:  87%|████████▋ | 496/567 [00:00<00:00, 691.81 Segments/s]\u001b[A\n",
      "Overall Progress:  30%|███       | 28/93 [00:23<00:56,  1.15 Computational Sequence Entries/s]\n",
      "  0%|          | 0/782 [00:00<?, ? Segments/s]\u001b[A\n",
      "Aligning G6GlGvlkxAQ:   0%|          | 0/782 [00:00<?, ? Segments/s]\u001b[A\n",
      "Aligning G6GlGvlkxAQ:   8%|▊         | 66/782 [00:00<00:01, 652.11 Segments/s]\u001b[A\n",
      "Aligning G6GlGvlkxAQ:  17%|█▋        | 132/782 [00:00<00:00, 654.25 Segments/s]\u001b[A\n",
      "Aligning G6GlGvlkxAQ:  25%|██▌       | 199/782 [00:00<00:00, 657.71 Segments/s]\u001b[A\n",
      "Aligning G6GlGvlkxAQ:  34%|███▍      | 266/782 [00:00<00:00, 658.67 Segments/s]\u001b[A\n"
     ]
    },
    {
     "name": "stderr",
     "output_type": "stream",
     "text": [
      "Aligning G6GlGvlkxAQ:  41%|████      | 322/782 [00:00<00:00, 623.71 Segments/s]\u001b[A\n",
      "Aligning G6GlGvlkxAQ:  50%|████▉     | 389/782 [00:00<00:00, 635.02 Segments/s]\u001b[A\n",
      "Aligning G6GlGvlkxAQ:  58%|█████▊    | 456/782 [00:00<00:00, 643.64 Segments/s]\u001b[A\n",
      "Aligning G6GlGvlkxAQ:  66%|██████▌   | 516/782 [00:00<00:00, 623.38 Segments/s]\u001b[A\n",
      "Aligning G6GlGvlkxAQ:  75%|███████▍  | 583/782 [00:00<00:00, 635.09 Segments/s]\u001b[A\n",
      "Aligning G6GlGvlkxAQ:  82%|████████▏ | 645/782 [00:01<00:00, 612.31 Segments/s]\u001b[A\n",
      "Aligning G6GlGvlkxAQ:  91%|█████████ | 712/782 [00:01<00:00, 626.93 Segments/s]\u001b[A\n",
      "Aligning G6GlGvlkxAQ: 100%|█████████▉| 779/782 [00:01<00:00, 636.88 Segments/s]\u001b[A\n",
      "Overall Progress:  31%|███       | 29/93 [00:25<01:02,  1.02 Computational Sequence Entries/s]\n",
      "  0%|          | 0/433 [00:00<?, ? Segments/s]\u001b[A\n",
      "Aligning GWuJjcEuzt8:   0%|          | 0/433 [00:00<?, ? Segments/s]\u001b[A\n",
      "Aligning GWuJjcEuzt8:  16%|█▌        | 69/433 [00:00<00:00, 685.18 Segments/s]\u001b[A\n",
      "Aligning GWuJjcEuzt8:  33%|███▎      | 142/433 [00:00<00:00, 695.27 Segments/s]\u001b[A\n",
      "Aligning GWuJjcEuzt8:  48%|████▊     | 206/433 [00:00<00:00, 674.67 Segments/s]\u001b[A\n",
      "Aligning GWuJjcEuzt8:  64%|██████▍   | 279/433 [00:00<00:00, 689.28 Segments/s]\u001b[A\n",
      "Aligning GWuJjcEuzt8:  81%|████████▏ | 352/433 [00:00<00:00, 700.80 Segments/s]\u001b[A\n",
      "Aligning GWuJjcEuzt8:  98%|█████████▊| 425/433 [00:00<00:00, 706.86 Segments/s]\u001b[A\n",
      "Overall Progress:  32%|███▏      | 30/93 [00:25<00:54,  1.15 Computational Sequence Entries/s]\n",
      "  0%|          | 0/635 [00:00<?, ? Segments/s]\u001b[A\n",
      "Aligning HEsqda8_d0Q:   0%|          | 0/635 [00:00<?, ? Segments/s]\u001b[A\n",
      "Aligning HEsqda8_d0Q:  11%|█         | 68/635 [00:00<00:00, 676.24 Segments/s]\u001b[A\n",
      "Aligning HEsqda8_d0Q:  22%|██▏       | 138/635 [00:00<00:00, 682.02 Segments/s]\u001b[A\n",
      "Aligning HEsqda8_d0Q:  31%|███       | 196/635 [00:00<00:00, 646.88 Segments/s]\u001b[A\n",
      "Aligning HEsqda8_d0Q:  42%|████▏     | 264/635 [00:00<00:00, 655.80 Segments/s]\u001b[A\n",
      "Aligning HEsqda8_d0Q:  52%|█████▏    | 332/635 [00:00<00:00, 662.73 Segments/s]\u001b[A\n",
      "Aligning HEsqda8_d0Q:  63%|██████▎   | 400/635 [00:00<00:00, 667.08 Segments/s]\u001b[A\n",
      "Aligning HEsqda8_d0Q:  74%|███████▍  | 469/635 [00:00<00:00, 672.01 Segments/s]\u001b[A\n",
      "Aligning HEsqda8_d0Q:  84%|████████▎ | 531/635 [00:00<00:00, 642.10 Segments/s]\u001b[A\n",
      "Aligning HEsqda8_d0Q:  94%|█████████▍| 599/635 [00:00<00:00, 651.76 Segments/s]\u001b[A\n",
      "Overall Progress:  33%|███▎      | 31/93 [00:26<00:55,  1.11 Computational Sequence Entries/s]\n",
      "  0%|          | 0/654 [00:00<?, ? Segments/s]\u001b[A\n",
      "Aligning I5y0__X72p0:   0%|          | 0/654 [00:00<?, ? Segments/s]\u001b[A\n",
      "Aligning I5y0__X72p0:   9%|▊         | 57/654 [00:00<00:01, 562.08 Segments/s]\u001b[A\n",
      "Aligning I5y0__X72p0:  17%|█▋        | 110/654 [00:00<00:00, 550.43 Segments/s]\u001b[A\n",
      "Aligning I5y0__X72p0:  25%|██▌       | 164/654 [00:00<00:00, 546.00 Segments/s]\u001b[A\n",
      "Aligning I5y0__X72p0:  34%|███▍      | 222/654 [00:00<00:00, 553.90 Segments/s]\u001b[A\n",
      "Aligning I5y0__X72p0:  42%|████▏     | 272/654 [00:00<00:00, 535.05 Segments/s]\u001b[A\n",
      "Aligning I5y0__X72p0:  52%|█████▏    | 339/654 [00:00<00:00, 567.86 Segments/s]\u001b[A\n",
      "Aligning I5y0__X72p0:  62%|██████▏   | 406/654 [00:00<00:00, 593.22 Segments/s]\u001b[A\n",
      "Aligning I5y0__X72p0:  72%|███████▏  | 473/654 [00:00<00:00, 612.40 Segments/s]\u001b[A\n",
      "Aligning I5y0__X72p0:  83%|████████▎ | 540/654 [00:00<00:00, 626.14 Segments/s]\u001b[A\n",
      "Aligning I5y0__X72p0:  93%|█████████▎| 607/654 [00:01<00:00, 637.02 Segments/s]\u001b[A\n",
      "Overall Progress:  34%|███▍      | 32/93 [00:27<00:58,  1.04 Computational Sequence Entries/s]\n",
      "  0%|          | 0/328 [00:00<?, ? Segments/s]\u001b[A\n",
      "Aligning Iu2PFX3z_1s:   0%|          | 0/328 [00:00<?, ? Segments/s]\u001b[A\n",
      "Aligning Iu2PFX3z_1s:  24%|██▍       | 78/328 [00:00<00:00, 773.28 Segments/s]\u001b[A\n",
      "Aligning Iu2PFX3z_1s:  48%|████▊     | 158/328 [00:00<00:00, 778.43 Segments/s]\u001b[A\n",
      "Aligning Iu2PFX3z_1s:  73%|███████▎  | 238/328 [00:00<00:00, 783.11 Segments/s]\u001b[A\n",
      "Aligning Iu2PFX3z_1s:  93%|█████████▎| 304/328 [00:00<00:00, 741.10 Segments/s]\u001b[A\n",
      "Overall Progress:  35%|███▌      | 33/93 [00:28<00:48,  1.24 Computational Sequence Entries/s]\n",
      "  0%|          | 0/456 [00:00<?, ? Segments/s]\u001b[A\n",
      "Aligning IumbAb8q2dM:   0%|          | 0/456 [00:00<?, ? Segments/s]\u001b[A\n",
      "Aligning IumbAb8q2dM:  14%|█▍        | 63/456 [00:00<00:00, 627.22 Segments/s]\u001b[A\n",
      "Aligning IumbAb8q2dM:  27%|██▋       | 125/456 [00:00<00:00, 624.20 Segments/s]\u001b[A\n",
      "Aligning IumbAb8q2dM:  44%|████▎     | 199/456 [00:00<00:00, 653.95 Segments/s]\u001b[A\n",
      "Aligning IumbAb8q2dM:  60%|█████▉    | 273/456 [00:00<00:00, 675.93 Segments/s]\u001b[A\n",
      "Aligning IumbAb8q2dM:  74%|███████▎  | 336/456 [00:00<00:00, 661.05 Segments/s]\u001b[A\n",
      "Aligning IumbAb8q2dM:  90%|████████▉ | 410/456 [00:00<00:00, 680.85 Segments/s]\u001b[A\n",
      "Overall Progress:  37%|███▋      | 34/93 [00:28<00:45,  1.30 Computational Sequence Entries/s]\n",
      "  0%|          | 0/226 [00:00<?, ? Segments/s]\u001b[A\n",
      "Aligning Jkswaaud0hk:   0%|          | 0/226 [00:00<?, ? Segments/s]\u001b[A\n",
      "Aligning Jkswaaud0hk:  37%|███▋      | 84/226 [00:00<00:00, 837.91 Segments/s]\u001b[A\n",
      "Aligning Jkswaaud0hk:  69%|██████▊   | 155/226 [00:00<00:00, 794.10 Segments/s]\u001b[A\n",
      "Overall Progress:  38%|███▊      | 35/93 [00:29<00:36,  1.59 Computational Sequence Entries/s]\n",
      "  0%|          | 0/759 [00:00<?, ? Segments/s]\u001b[A\n",
      "Aligning LSi-o-IrDMs:   0%|          | 0/759 [00:00<?, ? Segments/s]\u001b[A\n",
      "Aligning LSi-o-IrDMs:   9%|▊         | 65/759 [00:00<00:01, 642.09 Segments/s]\u001b[A\n",
      "Aligning LSi-o-IrDMs:  17%|█▋        | 132/759 [00:00<00:00, 648.21 Segments/s]\u001b[A\n",
      "Aligning LSi-o-IrDMs:  26%|██▌       | 199/759 [00:00<00:00, 653.06 Segments/s]\u001b[A\n",
      "Aligning LSi-o-IrDMs:  35%|███▌      | 266/759 [00:00<00:00, 655.99 Segments/s]\u001b[A\n",
      "Aligning LSi-o-IrDMs:  42%|████▏     | 321/759 [00:00<00:00, 619.84 Segments/s]\u001b[A\n",
      "Aligning LSi-o-IrDMs:  51%|█████     | 388/759 [00:00<00:00, 631.75 Segments/s]\u001b[A\n",
      "Aligning LSi-o-IrDMs:  60%|█████▉    | 455/759 [00:00<00:00, 637.03 Segments/s]\u001b[A\n",
      "Aligning LSi-o-IrDMs:  68%|██████▊   | 514/759 [00:00<00:00, 612.78 Segments/s]\u001b[A\n",
      "Aligning LSi-o-IrDMs:  77%|███████▋  | 581/759 [00:00<00:00, 626.61 Segments/s]\u001b[A\n",
      "Aligning LSi-o-IrDMs:  85%|████████▌ | 647/759 [00:01<00:00, 636.17 Segments/s]\u001b[A\n",
      "Aligning LSi-o-IrDMs:  94%|█████████▍| 714/759 [00:01<00:00, 643.73 Segments/s]\u001b[A\n",
      "Overall Progress:  39%|███▊      | 36/93 [00:30<00:45,  1.26 Computational Sequence Entries/s]\n",
      "  0%|          | 0/394 [00:00<?, ? Segments/s]\u001b[A\n",
      "Aligning MLal-t_vJPM:   0%|          | 0/394 [00:00<?, ? Segments/s]\u001b[A\n",
      "Aligning MLal-t_vJPM:  19%|█▊        | 73/394 [00:00<00:00, 724.10 Segments/s]\u001b[A\n",
      "Aligning MLal-t_vJPM:  38%|███▊      | 148/394 [00:00<00:00, 730.20 Segments/s]\u001b[A\n",
      "Aligning MLal-t_vJPM:  57%|█████▋    | 225/394 [00:00<00:00, 739.84 Segments/s]\u001b[A\n",
      "Aligning MLal-t_vJPM:  77%|███████▋  | 302/394 [00:00<00:00, 746.86 Segments/s]\u001b[A\n",
      "Aligning MLal-t_vJPM:  96%|█████████▌| 378/394 [00:00<00:00, 749.50 Segments/s]\u001b[A\n",
      "Overall Progress:  40%|███▉      | 37/93 [00:30<00:40,  1.39 Computational Sequence Entries/s]\n",
      "  0%|          | 0/268 [00:00<?, ? Segments/s]\u001b[A\n",
      "Aligning Njd1F0vZSm4:   0%|          | 0/268 [00:00<?, ? Segments/s]\u001b[A\n",
      "Aligning Njd1F0vZSm4:  29%|██▉       | 79/268 [00:00<00:00, 785.47 Segments/s]\u001b[A\n",
      "Aligning Njd1F0vZSm4:  60%|██████    | 161/268 [00:00<00:00, 793.06 Segments/s]\u001b[A\n",
      "Aligning Njd1F0vZSm4:  86%|████████▌ | 230/268 [00:00<00:00, 756.03 Segments/s]\u001b[A\n",
      "Overall Progress:  41%|████      | 38/93 [00:31<00:33,  1.63 Computational Sequence Entries/s]\n",
      "  0%|          | 0/634 [00:00<?, ? Segments/s]\u001b[A\n",
      "Aligning Nzq88NnDkEk:   0%|          | 0/634 [00:00<?, ? Segments/s]\u001b[A\n",
      "Aligning Nzq88NnDkEk:  11%|█         | 67/634 [00:00<00:00, 667.74 Segments/s]\u001b[A\n",
      "Aligning Nzq88NnDkEk:  19%|█▉        | 123/634 [00:00<00:00, 628.77 Segments/s]\u001b[A\n",
      "Aligning Nzq88NnDkEk:  30%|███       | 191/634 [00:00<00:00, 640.89 Segments/s]\u001b[A\n",
      "Aligning Nzq88NnDkEk:  41%|████      | 259/634 [00:00<00:00, 649.50 Segments/s]\u001b[A\n",
      "Aligning Nzq88NnDkEk:  52%|█████▏    | 327/634 [00:00<00:00, 655.96 Segments/s]\u001b[A\n",
      "Aligning Nzq88NnDkEk:  62%|██████▏   | 395/634 [00:00<00:00, 660.43 Segments/s]\u001b[A\n",
      "Aligning Nzq88NnDkEk:  73%|███████▎  | 464/634 [00:00<00:00, 666.33 Segments/s]\u001b[A\n",
      "Aligning Nzq88NnDkEk:  84%|████████▍ | 532/634 [00:00<00:00, 667.81 Segments/s]\u001b[A\n"
     ]
    },
    {
     "name": "stderr",
     "output_type": "stream",
     "text": [
      "Aligning Nzq88NnDkEk:  94%|█████████▍| 596/634 [00:00<00:00, 635.58 Segments/s]\u001b[A\n",
      "Overall Progress:  42%|████▏     | 39/93 [00:32<00:39,  1.37 Computational Sequence Entries/s]\n",
      "  0%|          | 0/323 [00:00<?, ? Segments/s]\u001b[A\n",
      "Aligning OQvJTdtJ2H4:   0%|          | 0/323 [00:00<?, ? Segments/s]\u001b[A\n",
      "Aligning OQvJTdtJ2H4:  21%|██▏       | 69/323 [00:00<00:00, 684.51 Segments/s]\u001b[A\n",
      "Aligning OQvJTdtJ2H4:  46%|████▌     | 147/323 [00:00<00:00, 708.66 Segments/s]\u001b[A\n",
      "Aligning OQvJTdtJ2H4:  67%|██████▋   | 215/323 [00:00<00:00, 698.14 Segments/s]\u001b[A\n",
      "Aligning OQvJTdtJ2H4:  87%|████████▋ | 281/323 [00:00<00:00, 684.55 Segments/s]\u001b[A\n",
      "Overall Progress:  43%|████▎     | 40/93 [00:32<00:34,  1.54 Computational Sequence Entries/s]\n",
      "  0%|          | 0/602 [00:00<?, ? Segments/s]\u001b[A\n",
      "Aligning OtBXNcAL_lE:   0%|          | 0/602 [00:00<?, ? Segments/s]\u001b[A\n",
      "Aligning OtBXNcAL_lE:  11%|█         | 65/602 [00:00<00:00, 642.43 Segments/s]\u001b[A\n",
      "Aligning OtBXNcAL_lE:  22%|██▏       | 131/602 [00:00<00:00, 645.51 Segments/s]\u001b[A\n",
      "Aligning OtBXNcAL_lE:  33%|███▎      | 197/602 [00:00<00:00, 649.44 Segments/s]\u001b[A\n",
      "Aligning OtBXNcAL_lE:  44%|████▍     | 264/602 [00:00<00:00, 654.22 Segments/s]\u001b[A\n",
      "Aligning OtBXNcAL_lE:  55%|█████▍    | 330/602 [00:00<00:00, 653.72 Segments/s]\u001b[A\n",
      "Aligning OtBXNcAL_lE:  66%|██████▌   | 396/602 [00:00<00:00, 654.38 Segments/s]\u001b[A\n",
      "Aligning OtBXNcAL_lE:  77%|███████▋  | 463/602 [00:00<00:00, 655.99 Segments/s]\u001b[A\n",
      "Aligning OtBXNcAL_lE:  88%|████████▊ | 530/602 [00:00<00:00, 657.87 Segments/s]\u001b[A\n",
      "Aligning OtBXNcAL_lE:  99%|█████████▉| 597/602 [00:00<00:00, 658.82 Segments/s]\u001b[A\n",
      "Overall Progress:  44%|████▍     | 41/93 [00:33<00:38,  1.37 Computational Sequence Entries/s]\n",
      "  0%|          | 0/746 [00:00<?, ? Segments/s]\u001b[A\n",
      "Aligning Oz06ZWiO20M:   0%|          | 0/746 [00:00<?, ? Segments/s]\u001b[A\n",
      "Aligning Oz06ZWiO20M:   9%|▊         | 64/746 [00:00<00:01, 633.00 Segments/s]\u001b[A\n",
      "Aligning Oz06ZWiO20M:  17%|█▋        | 130/746 [00:00<00:00, 638.22 Segments/s]\u001b[A\n",
      "Aligning Oz06ZWiO20M:  25%|██▍       | 183/746 [00:00<00:00, 599.39 Segments/s]\u001b[A\n",
      "Aligning Oz06ZWiO20M:  33%|███▎      | 249/746 [00:00<00:00, 614.43 Segments/s]\u001b[A\n",
      "Aligning Oz06ZWiO20M:  42%|████▏     | 316/746 [00:00<00:00, 628.72 Segments/s]\u001b[A\n",
      "Aligning Oz06ZWiO20M:  50%|████▉     | 370/746 [00:00<00:00, 598.33 Segments/s]\u001b[A\n",
      "Aligning Oz06ZWiO20M:  57%|█████▋    | 426/746 [00:00<00:00, 585.76 Segments/s]\u001b[A\n",
      "Aligning Oz06ZWiO20M:  66%|██████▌   | 493/746 [00:00<00:00, 606.36 Segments/s]\u001b[A\n",
      "Aligning Oz06ZWiO20M:  75%|███████▌  | 560/746 [00:00<00:00, 618.07 Segments/s]\u001b[A\n",
      "Aligning Oz06ZWiO20M:  83%|████████▎ | 620/746 [00:01<00:00, 608.35 Segments/s]\u001b[A\n",
      "Aligning Oz06ZWiO20M:  92%|█████████▏| 687/746 [00:01<00:00, 623.97 Segments/s]\u001b[A\n",
      "Overall Progress:  45%|████▌     | 42/93 [00:34<00:44,  1.14 Computational Sequence Entries/s]\n",
      "  0%|          | 0/399 [00:00<?, ? Segments/s]\u001b[A\n",
      "Aligning POKffnXeBds:   0%|          | 0/399 [00:00<?, ? Segments/s]\u001b[A\n",
      "Aligning POKffnXeBds:  16%|█▌        | 64/399 [00:00<00:00, 637.45 Segments/s]\u001b[A\n",
      "Aligning POKffnXeBds:  36%|███▌      | 144/399 [00:00<00:00, 678.01 Segments/s]\u001b[A\n",
      "Aligning POKffnXeBds:  56%|█████▋    | 225/399 [00:00<00:00, 711.16 Segments/s]\u001b[A\n",
      "Aligning POKffnXeBds:  77%|███████▋  | 306/399 [00:00<00:00, 735.94 Segments/s]\u001b[A\n",
      "Aligning POKffnXeBds:  97%|█████████▋| 387/399 [00:00<00:00, 754.50 Segments/s]\u001b[A\n",
      "Overall Progress:  46%|████▌     | 43/93 [00:35<00:38,  1.30 Computational Sequence Entries/s]\n",
      "  0%|          | 0/392 [00:00<?, ? Segments/s]\u001b[A\n",
      "Aligning PZ-lDQFboO8:   0%|          | 0/392 [00:00<?, ? Segments/s]\u001b[A\n",
      "Aligning PZ-lDQFboO8:  20%|█▉        | 77/392 [00:00<00:00, 761.35 Segments/s]\u001b[A\n",
      "Aligning PZ-lDQFboO8:  40%|███▉      | 156/392 [00:00<00:00, 766.97 Segments/s]\u001b[A\n",
      "Aligning PZ-lDQFboO8:  55%|█████▌    | 217/392 [00:00<00:00, 708.95 Segments/s]\u001b[A\n",
      "Aligning PZ-lDQFboO8:  76%|███████▌  | 296/392 [00:00<00:00, 729.53 Segments/s]\u001b[A\n",
      "Aligning PZ-lDQFboO8:  96%|█████████▌| 375/392 [00:00<00:00, 745.08 Segments/s]\u001b[A\n",
      "Overall Progress:  47%|████▋     | 44/93 [00:35<00:34,  1.43 Computational Sequence Entries/s]\n",
      "  0%|          | 0/676 [00:00<?, ? Segments/s]\u001b[A\n",
      "Aligning QN9ZIUWUXsY:   0%|          | 0/676 [00:00<?, ? Segments/s]\u001b[A\n",
      "Aligning QN9ZIUWUXsY:   8%|▊         | 56/676 [00:00<00:01, 558.23 Segments/s]\u001b[A\n",
      "Aligning QN9ZIUWUXsY:  16%|█▌        | 109/676 [00:00<00:01, 548.77 Segments/s]\u001b[A\n",
      "Aligning QN9ZIUWUXsY:  24%|██▍       | 164/676 [00:00<00:00, 546.66 Segments/s]\u001b[A\n",
      "Aligning QN9ZIUWUXsY:  33%|███▎      | 223/676 [00:00<00:00, 556.63 Segments/s]\u001b[A\n",
      "Aligning QN9ZIUWUXsY:  41%|████▏     | 280/676 [00:00<00:00, 558.39 Segments/s]\u001b[A\n",
      "Aligning QN9ZIUWUXsY:  51%|█████▏    | 347/676 [00:00<00:00, 586.76 Segments/s]\u001b[A\n",
      "Aligning QN9ZIUWUXsY:  61%|██████    | 414/676 [00:00<00:00, 608.00 Segments/s]\u001b[A\n",
      "Aligning QN9ZIUWUXsY:  70%|██████▉   | 472/676 [00:00<00:00, 598.03 Segments/s]\u001b[A\n",
      "Aligning QN9ZIUWUXsY:  80%|███████▉  | 539/676 [00:00<00:00, 616.95 Segments/s]\u001b[A\n",
      "Aligning QN9ZIUWUXsY:  90%|████████▉ | 606/676 [00:01<00:00, 630.38 Segments/s]\u001b[A\n",
      "Aligning QN9ZIUWUXsY: 100%|█████████▉| 673/676 [00:01<00:00, 640.46 Segments/s]\u001b[A\n",
      "Overall Progress:  48%|████▊     | 45/93 [00:37<00:39,  1.21 Computational Sequence Entries/s]\n",
      "  0%|          | 0/493 [00:00<?, ? Segments/s]\u001b[A\n",
      "Aligning Qr1Ca94K55A:   0%|          | 0/493 [00:00<?, ? Segments/s]\u001b[A\n",
      "Aligning Qr1Ca94K55A:  12%|█▏        | 59/493 [00:00<00:00, 589.33 Segments/s]\u001b[A\n",
      "Aligning Qr1Ca94K55A:  27%|██▋       | 131/493 [00:00<00:00, 622.42 Segments/s]\u001b[A\n",
      "Aligning Qr1Ca94K55A:  41%|████▏     | 204/493 [00:00<00:00, 649.24 Segments/s]\u001b[A\n",
      "Aligning Qr1Ca94K55A:  54%|█████▍    | 267/493 [00:00<00:00, 641.78 Segments/s]\u001b[A\n",
      "Aligning Qr1Ca94K55A:  69%|██████▉   | 339/493 [00:00<00:00, 662.54 Segments/s]\u001b[A\n",
      "Aligning Qr1Ca94K55A:  83%|████████▎ | 411/493 [00:00<00:00, 676.49 Segments/s]\u001b[A\n",
      "Aligning Qr1Ca94K55A:  98%|█████████▊| 483/493 [00:00<00:00, 687.71 Segments/s]\u001b[A\n",
      "Overall Progress:  49%|████▉     | 46/93 [00:37<00:37,  1.26 Computational Sequence Entries/s]\n",
      "  0%|          | 0/712 [00:00<?, ? Segments/s]\u001b[A\n",
      "Aligning Sqr0AcuoNnk:   0%|          | 0/712 [00:00<?, ? Segments/s]\u001b[A\n",
      "Aligning Sqr0AcuoNnk:   9%|▉         | 66/712 [00:00<00:00, 659.05 Segments/s]\u001b[A\n",
      "Aligning Sqr0AcuoNnk:  17%|█▋        | 124/712 [00:00<00:00, 631.75 Segments/s]\u001b[A\n",
      "Aligning Sqr0AcuoNnk:  27%|██▋       | 191/712 [00:00<00:00, 642.17 Segments/s]\u001b[A\n",
      "Aligning Sqr0AcuoNnk:  36%|███▌      | 258/712 [00:00<00:00, 647.96 Segments/s]\u001b[A\n",
      "Aligning Sqr0AcuoNnk:  46%|████▌     | 325/712 [00:00<00:00, 651.98 Segments/s]\u001b[A\n",
      "Aligning Sqr0AcuoNnk:  53%|█████▎    | 380/712 [00:00<00:00, 615.86 Segments/s]\u001b[A\n",
      "Aligning Sqr0AcuoNnk:  62%|██████▏   | 439/712 [00:00<00:00, 605.07 Segments/s]\u001b[A\n",
      "Aligning Sqr0AcuoNnk:  71%|███████   | 506/712 [00:00<00:00, 621.84 Segments/s]\u001b[A\n",
      "Aligning Sqr0AcuoNnk:  80%|████████  | 573/712 [00:00<00:00, 635.03 Segments/s]\u001b[A\n",
      "Aligning Sqr0AcuoNnk:  90%|████████▉ | 640/712 [00:01<00:00, 644.03 Segments/s]\u001b[A\n",
      "Aligning Sqr0AcuoNnk:  99%|█████████▉| 707/712 [00:01<00:00, 650.55 Segments/s]\u001b[A\n",
      "Overall Progress:  51%|█████     | 47/93 [00:38<00:41,  1.12 Computational Sequence Entries/s]\n",
      "  0%|          | 0/318 [00:00<?, ? Segments/s]\u001b[A\n",
      "Aligning TvyZBvOMOTc:   0%|          | 0/318 [00:00<?, ? Segments/s]\u001b[A\n",
      "Aligning TvyZBvOMOTc:  26%|██▌       | 83/318 [00:00<00:00, 826.35 Segments/s]\u001b[A\n",
      "Aligning TvyZBvOMOTc:  53%|█████▎    | 168/318 [00:00<00:00, 831.35 Segments/s]\u001b[A\n",
      "Aligning TvyZBvOMOTc:  70%|███████   | 223/318 [00:00<00:00, 719.85 Segments/s]\u001b[A\n",
      "Aligning TvyZBvOMOTc:  93%|█████████▎| 295/318 [00:00<00:00, 718.56 Segments/s]\u001b[A\n",
      "Overall Progress:  52%|█████▏    | 48/93 [00:39<00:34,  1.31 Computational Sequence Entries/s]\n",
      "  0%|          | 0/626 [00:00<?, ? Segments/s]\u001b[A\n",
      "Aligning VCslbP0mgZI:   0%|          | 0/626 [00:00<?, ? Segments/s]\u001b[A\n",
      "Aligning VCslbP0mgZI:   9%|▉         | 58/626 [00:00<00:00, 574.01 Segments/s]\u001b[A\n",
      "Aligning VCslbP0mgZI:  20%|█▉        | 125/626 [00:00<00:00, 598.84 Segments/s]\u001b[A\n",
      "Aligning VCslbP0mgZI:  31%|███       | 193/626 [00:00<00:00, 619.07 Segments/s]\u001b[A\n",
      "Aligning VCslbP0mgZI:  42%|████▏     | 260/626 [00:00<00:00, 632.50 Segments/s]\u001b[A\n"
     ]
    },
    {
     "name": "stderr",
     "output_type": "stream",
     "text": [
      "Aligning VCslbP0mgZI:  50%|█████     | 315/626 [00:00<00:00, 604.44 Segments/s]\u001b[A\n",
      "Aligning VCslbP0mgZI:  61%|██████    | 382/626 [00:00<00:00, 621.42 Segments/s]\u001b[A\n",
      "Aligning VCslbP0mgZI:  70%|███████   | 439/626 [00:00<00:00, 602.46 Segments/s]\u001b[A\n",
      "Aligning VCslbP0mgZI:  81%|████████  | 506/626 [00:00<00:00, 620.06 Segments/s]\u001b[A\n",
      "Aligning VCslbP0mgZI:  92%|█████████▏| 573/626 [00:00<00:00, 633.01 Segments/s]\u001b[A\n",
      "Overall Progress:  53%|█████▎    | 49/93 [00:40<00:36,  1.20 Computational Sequence Entries/s]\n",
      "  0%|          | 0/775 [00:00<?, ? Segments/s]\u001b[A\n",
      "Aligning VbQk4H8hgr0:   0%|          | 0/775 [00:00<?, ? Segments/s]\u001b[A\n",
      "Aligning VbQk4H8hgr0:   8%|▊         | 65/775 [00:00<00:01, 640.85 Segments/s]\u001b[A\n",
      "Aligning VbQk4H8hgr0:  17%|█▋        | 132/775 [00:00<00:00, 649.11 Segments/s]\u001b[A\n",
      "Aligning VbQk4H8hgr0:  26%|██▌       | 199/775 [00:00<00:00, 655.04 Segments/s]\u001b[A\n",
      "Aligning VbQk4H8hgr0:  34%|███▍      | 266/775 [00:00<00:00, 659.19 Segments/s]\u001b[A\n",
      "Aligning VbQk4H8hgr0:  43%|████▎     | 333/775 [00:00<00:00, 660.15 Segments/s]\u001b[A\n",
      "Aligning VbQk4H8hgr0:  52%|█████▏    | 400/775 [00:00<00:00, 661.49 Segments/s]\u001b[A\n",
      "Aligning VbQk4H8hgr0:  60%|██████    | 467/775 [00:00<00:00, 662.78 Segments/s]\u001b[A\n",
      "Aligning VbQk4H8hgr0:  69%|██████▉   | 534/775 [00:00<00:00, 664.46 Segments/s]\u001b[A\n",
      "Aligning VbQk4H8hgr0:  78%|███████▊  | 601/775 [00:00<00:00, 664.01 Segments/s]\u001b[A\n",
      "Aligning VbQk4H8hgr0:  86%|████████▌ | 668/775 [00:01<00:00, 664.00 Segments/s]\u001b[A\n",
      "Aligning VbQk4H8hgr0:  95%|█████████▍| 733/775 [00:01<00:00, 627.83 Segments/s]\u001b[A\n",
      "Overall Progress:  54%|█████▍    | 50/93 [00:41<00:40,  1.06 Computational Sequence Entries/s]\n",
      "  0%|          | 0/630 [00:00<?, ? Segments/s]\u001b[A\n",
      "Aligning Vj1wYRQjB-o:   0%|          | 0/630 [00:00<?, ? Segments/s]\u001b[A\n",
      "Aligning Vj1wYRQjB-o:   9%|▉         | 58/630 [00:00<00:01, 571.80 Segments/s]\u001b[A\n",
      "Aligning Vj1wYRQjB-o:  18%|█▊        | 113/630 [00:00<00:00, 563.29 Segments/s]\u001b[A\n",
      "Aligning Vj1wYRQjB-o:  26%|██▌       | 165/630 [00:00<00:00, 546.92 Segments/s]\u001b[A\n",
      "Aligning Vj1wYRQjB-o:  34%|███▍      | 214/630 [00:00<00:00, 527.99 Segments/s]\u001b[A\n",
      "Aligning Vj1wYRQjB-o:  42%|████▏     | 267/630 [00:00<00:00, 526.81 Segments/s]\u001b[A\n",
      "Aligning Vj1wYRQjB-o:  53%|█████▎    | 334/630 [00:00<00:00, 562.40 Segments/s]\u001b[A\n",
      "Aligning Vj1wYRQjB-o:  64%|██████▍   | 402/630 [00:00<00:00, 591.09 Segments/s]\u001b[A\n",
      "Aligning Vj1wYRQjB-o:  73%|███████▎  | 458/630 [00:00<00:00, 576.92 Segments/s]\u001b[A\n",
      "Aligning Vj1wYRQjB-o:  82%|████████▏ | 514/630 [00:00<00:00, 566.65 Segments/s]\u001b[A\n",
      "Aligning Vj1wYRQjB-o:  90%|█████████ | 570/630 [00:01<00:00, 563.92 Segments/s]\u001b[A\n",
      "Overall Progress:  55%|█████▍    | 51/93 [00:42<00:41,  1.01 Computational Sequence Entries/s]\n",
      "  0%|          | 0/621 [00:00<?, ? Segments/s]\u001b[A\n",
      "Aligning W8NXH0Djyww:   0%|          | 0/621 [00:00<?, ? Segments/s]\u001b[A\n",
      "Aligning W8NXH0Djyww:  11%|█         | 67/621 [00:00<00:00, 663.97 Segments/s]\u001b[A\n",
      "Aligning W8NXH0Djyww:  22%|██▏       | 134/621 [00:00<00:00, 665.40 Segments/s]\u001b[A\n",
      "Aligning W8NXH0Djyww:  33%|███▎      | 202/621 [00:00<00:00, 668.41 Segments/s]\u001b[A\n",
      "Aligning W8NXH0Djyww:  43%|████▎     | 270/621 [00:00<00:00, 669.07 Segments/s]\u001b[A\n",
      "Aligning W8NXH0Djyww:  52%|█████▏    | 325/621 [00:00<00:00, 627.84 Segments/s]\u001b[A\n",
      "Aligning W8NXH0Djyww:  63%|██████▎   | 393/621 [00:00<00:00, 639.81 Segments/s]\u001b[A\n",
      "Aligning W8NXH0Djyww:  74%|███████▍  | 461/621 [00:00<00:00, 649.10 Segments/s]\u001b[A\n",
      "Aligning W8NXH0Djyww:  85%|████████▌ | 529/621 [00:00<00:00, 655.41 Segments/s]\u001b[A\n",
      "Aligning W8NXH0Djyww:  96%|█████████▌| 597/621 [00:00<00:00, 659.92 Segments/s]\u001b[A\n",
      "Overall Progress:  56%|█████▌    | 52/93 [00:43<00:40,  1.02 Computational Sequence Entries/s]\n",
      "  0%|          | 0/628 [00:00<?, ? Segments/s]\u001b[A\n",
      "Aligning WKA5OygbEKI:   0%|          | 0/628 [00:00<?, ? Segments/s]\u001b[A\n",
      "Aligning WKA5OygbEKI:  11%|█         | 67/628 [00:00<00:00, 661.13 Segments/s]\u001b[A\n",
      "Aligning WKA5OygbEKI:  21%|██▏       | 135/628 [00:00<00:00, 665.26 Segments/s]\u001b[A\n",
      "Aligning WKA5OygbEKI:  30%|███       | 190/628 [00:00<00:00, 620.25 Segments/s]\u001b[A\n",
      "Aligning WKA5OygbEKI:  40%|███▉      | 249/628 [00:00<00:00, 610.42 Segments/s]\u001b[A\n",
      "Aligning WKA5OygbEKI:  49%|████▊     | 305/628 [00:00<00:00, 593.79 Segments/s]\u001b[A\n",
      "Aligning WKA5OygbEKI:  59%|█████▉    | 373/628 [00:00<00:00, 616.60 Segments/s]\u001b[A\n",
      "Aligning WKA5OygbEKI:  68%|██████▊   | 430/628 [00:00<00:00, 598.81 Segments/s]\u001b[A\n",
      "Aligning WKA5OygbEKI:  79%|███████▉  | 498/628 [00:00<00:00, 620.92 Segments/s]\u001b[A\n",
      "Aligning WKA5OygbEKI:  90%|█████████ | 566/628 [00:00<00:00, 636.72 Segments/s]\u001b[A\n",
      "Overall Progress:  57%|█████▋    | 53/93 [00:44<00:39,  1.01 Computational Sequence Entries/s]\n",
      "  0%|          | 0/256 [00:00<?, ? Segments/s]\u001b[A\n",
      "Aligning X3j2zQgwYgE:   0%|          | 0/256 [00:00<?, ? Segments/s]\u001b[A\n",
      "Aligning X3j2zQgwYgE:  33%|███▎      | 84/256 [00:00<00:00, 832.72 Segments/s]\u001b[A\n",
      "Aligning X3j2zQgwYgE:  62%|██████▏   | 158/256 [00:00<00:00, 801.29 Segments/s]\u001b[A\n",
      "Aligning X3j2zQgwYgE:  89%|████████▉ | 229/256 [00:00<00:00, 771.27 Segments/s]\u001b[A\n",
      "Overall Progress:  58%|█████▊    | 54/93 [00:44<00:31,  1.25 Computational Sequence Entries/s]\n",
      "  0%|          | 0/221 [00:00<?, ? Segments/s]\u001b[A\n",
      "Aligning ZAIRrfG22O0:   0%|          | 0/221 [00:00<?, ? Segments/s]\u001b[A\n",
      "Aligning ZAIRrfG22O0:  40%|███▉      | 88/221 [00:00<00:00, 877.07 Segments/s]\u001b[A\n",
      "Aligning ZAIRrfG22O0:  81%|████████  | 178/221 [00:00<00:00, 881.31 Segments/s]\u001b[A\n",
      "Overall Progress:  59%|█████▉    | 55/93 [00:45<00:24,  1.57 Computational Sequence Entries/s]\n",
      "  0%|          | 0/539 [00:00<?, ? Segments/s]\u001b[A\n",
      "Aligning ZUXBRvtny7o:   0%|          | 0/539 [00:00<?, ? Segments/s]\u001b[A\n",
      "Aligning ZUXBRvtny7o:  12%|█▏        | 65/539 [00:00<00:00, 643.64 Segments/s]\u001b[A\n",
      "Aligning ZUXBRvtny7o:  24%|██▍       | 132/539 [00:00<00:00, 649.68 Segments/s]\u001b[A\n",
      "Aligning ZUXBRvtny7o:  37%|███▋      | 199/539 [00:00<00:00, 655.19 Segments/s]\u001b[A\n",
      "Aligning ZUXBRvtny7o:  47%|████▋     | 252/539 [00:00<00:00, 610.11 Segments/s]\u001b[A\n",
      "Aligning ZUXBRvtny7o:  57%|█████▋    | 308/539 [00:00<00:00, 593.77 Segments/s]\u001b[A\n",
      "Aligning ZUXBRvtny7o:  68%|██████▊   | 365/539 [00:00<00:00, 585.98 Segments/s]\u001b[A\n",
      "Aligning ZUXBRvtny7o:  80%|████████  | 432/539 [00:00<00:00, 608.27 Segments/s]\u001b[A\n",
      "Aligning ZUXBRvtny7o:  93%|█████████▎| 499/539 [00:00<00:00, 624.54 Segments/s]\u001b[A\n",
      "Overall Progress:  60%|██████    | 56/93 [00:46<00:26,  1.42 Computational Sequence Entries/s]\n",
      "  0%|          | 0/684 [00:00<?, ? Segments/s]\u001b[A\n",
      "Aligning _dI--eQ6qVU:   0%|          | 0/684 [00:00<?, ? Segments/s]\u001b[A\n",
      "Aligning _dI--eQ6qVU:  10%|▉         | 65/684 [00:00<00:00, 646.05 Segments/s]\u001b[A\n",
      "Aligning _dI--eQ6qVU:  19%|█▉        | 132/684 [00:00<00:00, 652.62 Segments/s]\u001b[A\n",
      "Aligning _dI--eQ6qVU:  29%|██▉       | 200/684 [00:00<00:00, 655.08 Segments/s]\u001b[A\n",
      "Aligning _dI--eQ6qVU:  38%|███▊      | 257/684 [00:00<00:00, 626.12 Segments/s]\u001b[A\n",
      "Aligning _dI--eQ6qVU:  46%|████▌     | 313/684 [00:00<00:00, 603.30 Segments/s]\u001b[A\n",
      "Aligning _dI--eQ6qVU:  56%|█████▌    | 381/684 [00:00<00:00, 621.98 Segments/s]\u001b[A\n",
      "Aligning _dI--eQ6qVU:  65%|██████▌   | 448/684 [00:00<00:00, 635.47 Segments/s]\u001b[A\n",
      "Aligning _dI--eQ6qVU:  75%|███████▌  | 515/684 [00:00<00:00, 645.05 Segments/s]\u001b[A\n",
      "Aligning _dI--eQ6qVU:  85%|████████▌ | 582/684 [00:00<00:00, 651.14 Segments/s]\u001b[A\n",
      "Aligning _dI--eQ6qVU:  95%|█████████▌| 650/684 [00:01<00:00, 656.84 Segments/s]\u001b[A\n",
      "Overall Progress:  61%|██████▏   | 57/93 [00:47<00:29,  1.23 Computational Sequence Entries/s]\n",
      "  0%|          | 0/602 [00:00<?, ? Segments/s]\u001b[A\n",
      "Aligning aiEXnCPZubE:   0%|          | 0/602 [00:00<?, ? Segments/s]\u001b[A\n",
      "Aligning aiEXnCPZubE:  11%|█         | 66/602 [00:00<00:00, 655.97 Segments/s]\u001b[A\n",
      "Aligning aiEXnCPZubE:  22%|██▏       | 133/602 [00:00<00:00, 658.91 Segments/s]\u001b[A\n",
      "Aligning aiEXnCPZubE:  33%|███▎      | 201/602 [00:00<00:00, 662.95 Segments/s]\u001b[A\n",
      "Aligning aiEXnCPZubE:  45%|████▍     | 268/602 [00:00<00:00, 664.77 Segments/s]\u001b[A\n",
      "Aligning aiEXnCPZubE:  56%|█████▌    | 335/602 [00:00<00:00, 664.89 Segments/s]\u001b[A\n",
      "Aligning aiEXnCPZubE:  65%|██████▌   | 393/602 [00:00<00:00, 635.67 Segments/s]\u001b[A\n",
      "Aligning aiEXnCPZubE:  77%|███████▋  | 461/602 [00:00<00:00, 645.35 Segments/s]\u001b[A\n",
      "Aligning aiEXnCPZubE:  88%|████████▊ | 528/602 [00:00<00:00, 651.29 Segments/s]\u001b[A\n"
     ]
    },
    {
     "name": "stderr",
     "output_type": "stream",
     "text": [
      "Aligning aiEXnCPZubE:  98%|█████████▊| 590/602 [00:00<00:00, 626.80 Segments/s]\u001b[A\n",
      "Overall Progress:  62%|██████▏   | 58/93 [00:48<00:29,  1.18 Computational Sequence Entries/s]\n",
      "  0%|          | 0/568 [00:00<?, ? Segments/s]\u001b[A\n",
      "Aligning atnd_PF-Lbs:   0%|          | 0/568 [00:00<?, ? Segments/s]\u001b[A\n",
      "Aligning atnd_PF-Lbs:  12%|█▏        | 66/568 [00:00<00:00, 658.96 Segments/s]\u001b[A\n",
      "Aligning atnd_PF-Lbs:  23%|██▎       | 133/568 [00:00<00:00, 662.18 Segments/s]\u001b[A\n",
      "Aligning atnd_PF-Lbs:  35%|███▌      | 201/568 [00:00<00:00, 664.70 Segments/s]\u001b[A\n",
      "Aligning atnd_PF-Lbs:  47%|████▋     | 269/568 [00:00<00:00, 666.87 Segments/s]\u001b[A\n",
      "Aligning atnd_PF-Lbs:  59%|█████▉    | 337/568 [00:00<00:00, 668.06 Segments/s]\u001b[A\n",
      "Aligning atnd_PF-Lbs:  71%|███████▏  | 405/568 [00:00<00:00, 668.94 Segments/s]\u001b[A\n",
      "Aligning atnd_PF-Lbs:  83%|████████▎ | 472/568 [00:00<00:00, 667.86 Segments/s]\u001b[A\n",
      "Aligning atnd_PF-Lbs:  95%|█████████▍| 539/568 [00:00<00:00, 667.83 Segments/s]\u001b[A\n",
      "Overall Progress:  63%|██████▎   | 59/93 [00:48<00:28,  1.17 Computational Sequence Entries/s]\n",
      "  0%|          | 0/458 [00:00<?, ? Segments/s]\u001b[A\n",
      "Aligning bOL9jKpeJRs:   0%|          | 0/458 [00:00<?, ? Segments/s]\u001b[A\n",
      "Aligning bOL9jKpeJRs:  16%|█▋        | 75/458 [00:00<00:00, 744.79 Segments/s]\u001b[A\n",
      "Aligning bOL9jKpeJRs:  33%|███▎      | 151/458 [00:00<00:00, 748.09 Segments/s]\u001b[A\n",
      "Aligning bOL9jKpeJRs:  47%|████▋     | 215/458 [00:00<00:00, 709.20 Segments/s]\u001b[A\n",
      "Aligning bOL9jKpeJRs:  64%|██████▎   | 291/458 [00:00<00:00, 722.65 Segments/s]\u001b[A\n",
      "Aligning bOL9jKpeJRs:  80%|████████  | 367/458 [00:00<00:00, 731.92 Segments/s]\u001b[A\n",
      "Aligning bOL9jKpeJRs:  97%|█████████▋| 443/458 [00:00<00:00, 738.85 Segments/s]\u001b[A\n",
      "Overall Progress:  65%|██████▍   | 60/93 [00:49<00:26,  1.27 Computational Sequence Entries/s]\n",
      "  0%|          | 0/615 [00:00<?, ? Segments/s]\u001b[A\n",
      "Aligning bvLlb-M3UXU:   0%|          | 0/615 [00:00<?, ? Segments/s]\u001b[A\n",
      "Aligning bvLlb-M3UXU:  11%|█         | 68/615 [00:00<00:00, 676.32 Segments/s]\u001b[A\n",
      "Aligning bvLlb-M3UXU:  22%|██▏       | 135/615 [00:00<00:00, 673.94 Segments/s]\u001b[A\n",
      "Aligning bvLlb-M3UXU:  33%|███▎      | 203/615 [00:00<00:00, 672.96 Segments/s]\u001b[A\n",
      "Aligning bvLlb-M3UXU:  44%|████▍     | 271/615 [00:00<00:00, 672.04 Segments/s]\u001b[A\n",
      "Aligning bvLlb-M3UXU:  53%|█████▎    | 327/615 [00:00<00:00, 631.46 Segments/s]\u001b[A\n",
      "Aligning bvLlb-M3UXU:  64%|██████▍   | 395/615 [00:00<00:00, 642.66 Segments/s]\u001b[A\n",
      "Aligning bvLlb-M3UXU:  75%|███████▌  | 463/615 [00:00<00:00, 650.75 Segments/s]\u001b[A\n",
      "Aligning bvLlb-M3UXU:  85%|████████▌ | 523/615 [00:00<00:00, 619.02 Segments/s]\u001b[A\n",
      "Aligning bvLlb-M3UXU:  96%|█████████▌| 588/615 [00:00<00:00, 626.92 Segments/s]\u001b[A\n",
      "Overall Progress:  66%|██████▌   | 61/93 [00:50<00:26,  1.19 Computational Sequence Entries/s]\n",
      "  0%|          | 0/694 [00:00<?, ? Segments/s]\u001b[A\n",
      "Aligning c5xsKMxpXnc:   0%|          | 0/694 [00:00<?, ? Segments/s]\u001b[A\n",
      "Aligning c5xsKMxpXnc:   8%|▊         | 58/694 [00:00<00:01, 573.17 Segments/s]\u001b[A\n",
      "Aligning c5xsKMxpXnc:  18%|█▊        | 125/694 [00:00<00:00, 598.70 Segments/s]\u001b[A\n",
      "Aligning c5xsKMxpXnc:  28%|██▊       | 193/694 [00:00<00:00, 618.82 Segments/s]\u001b[A\n",
      "Aligning c5xsKMxpXnc:  38%|███▊      | 261/694 [00:00<00:00, 633.48 Segments/s]\u001b[A\n",
      "Aligning c5xsKMxpXnc:  47%|████▋     | 328/694 [00:00<00:00, 643.75 Segments/s]\u001b[A\n",
      "Aligning c5xsKMxpXnc:  57%|█████▋    | 396/694 [00:00<00:00, 651.63 Segments/s]\u001b[A\n",
      "Aligning c5xsKMxpXnc:  66%|██████▌   | 455/694 [00:00<00:00, 616.06 Segments/s]\u001b[A\n",
      "Aligning c5xsKMxpXnc:  75%|███████▌  | 522/694 [00:00<00:00, 630.97 Segments/s]\u001b[A\n",
      "Aligning c5xsKMxpXnc:  84%|████████▍ | 583/694 [00:00<00:00, 608.02 Segments/s]\u001b[A\n",
      "Aligning c5xsKMxpXnc:  94%|█████████▎| 650/694 [00:01<00:00, 624.99 Segments/s]\u001b[A\n",
      "Overall Progress:  67%|██████▋   | 62/93 [00:51<00:28,  1.09 Computational Sequence Entries/s]\n",
      "  0%|          | 0/462 [00:00<?, ? Segments/s]\u001b[A\n",
      "Aligning c7UH_rxdZv4:   0%|          | 0/462 [00:00<?, ? Segments/s]\u001b[A\n",
      "Aligning c7UH_rxdZv4:  14%|█▍        | 65/462 [00:00<00:00, 648.43 Segments/s]\u001b[A\n",
      "Aligning c7UH_rxdZv4:  29%|██▊       | 132/462 [00:00<00:00, 654.49 Segments/s]\u001b[A\n",
      "Aligning c7UH_rxdZv4:  43%|████▎     | 200/462 [00:00<00:00, 659.01 Segments/s]\u001b[A\n",
      "Aligning c7UH_rxdZv4:  55%|█████▍    | 254/462 [00:00<00:00, 615.15 Segments/s]\u001b[A\n",
      "Aligning c7UH_rxdZv4:  70%|██████▉   | 322/462 [00:00<00:00, 631.24 Segments/s]\u001b[A\n",
      "Aligning c7UH_rxdZv4:  84%|████████▍ | 390/462 [00:00<00:00, 642.64 Segments/s]\u001b[A\n",
      "Aligning c7UH_rxdZv4:  99%|█████████▉| 457/462 [00:00<00:00, 650.01 Segments/s]\u001b[A\n",
      "Overall Progress:  68%|██████▊   | 63/93 [00:52<00:25,  1.17 Computational Sequence Entries/s]\n",
      "  0%|          | 0/566 [00:00<?, ? Segments/s]\u001b[A\n",
      "Aligning cM3Yna7AavY:   0%|          | 0/566 [00:00<?, ? Segments/s]\u001b[A\n",
      "Aligning cM3Yna7AavY:  12%|█▏        | 66/566 [00:00<00:00, 653.26 Segments/s]\u001b[A\n",
      "Aligning cM3Yna7AavY:  22%|██▏       | 127/566 [00:00<00:00, 639.17 Segments/s]\u001b[A\n",
      "Aligning cM3Yna7AavY:  33%|███▎      | 188/566 [00:00<00:00, 630.11 Segments/s]\u001b[A\n",
      "Aligning cM3Yna7AavY:  45%|████▌     | 256/566 [00:00<00:00, 642.43 Segments/s]\u001b[A\n",
      "Aligning cM3Yna7AavY:  57%|█████▋    | 324/566 [00:00<00:00, 651.24 Segments/s]\u001b[A\n",
      "Aligning cM3Yna7AavY:  67%|██████▋   | 380/566 [00:00<00:00, 618.62 Segments/s]\u001b[A\n",
      "Aligning cM3Yna7AavY:  77%|███████▋  | 435/566 [00:00<00:00, 594.29 Segments/s]\u001b[A\n",
      "Aligning cM3Yna7AavY:  89%|████████▉ | 503/566 [00:00<00:00, 615.26 Segments/s]\u001b[A\n",
      "Overall Progress:  69%|██████▉   | 64/93 [00:53<00:25,  1.15 Computational Sequence Entries/s]\n",
      "  0%|          | 0/506 [00:00<?, ? Segments/s]\u001b[A\n",
      "Aligning cW1FSBF59ik:   0%|          | 0/506 [00:00<?, ? Segments/s]\u001b[A\n",
      "Aligning cW1FSBF59ik:  13%|█▎        | 66/506 [00:00<00:00, 658.87 Segments/s]\u001b[A\n",
      "Aligning cW1FSBF59ik:  25%|██▍       | 124/506 [00:00<00:00, 631.74 Segments/s]\u001b[A\n",
      "Aligning cW1FSBF59ik:  38%|███▊      | 192/506 [00:00<00:00, 644.62 Segments/s]\u001b[A\n",
      "Aligning cW1FSBF59ik:  51%|█████▏    | 260/506 [00:00<00:00, 652.49 Segments/s]\u001b[A\n",
      "Aligning cW1FSBF59ik:  65%|██████▍   | 327/506 [00:00<00:00, 656.22 Segments/s]\u001b[A\n",
      "Aligning cW1FSBF59ik:  78%|███████▊  | 394/506 [00:00<00:00, 657.62 Segments/s]\u001b[A\n",
      "Aligning cW1FSBF59ik:  91%|█████████▏| 462/506 [00:00<00:00, 661.56 Segments/s]\u001b[A\n",
      "Overall Progress:  70%|██████▉   | 65/93 [00:54<00:23,  1.19 Computational Sequence Entries/s]\n",
      "  0%|          | 0/730 [00:00<?, ? Segments/s]\u001b[A\n",
      "Aligning cXypl4FnoZo:   0%|          | 0/730 [00:00<?, ? Segments/s]\u001b[A\n",
      "Aligning cXypl4FnoZo:   8%|▊         | 58/730 [00:00<00:01, 579.59 Segments/s]\u001b[A\n",
      "Aligning cXypl4FnoZo:  17%|█▋        | 126/730 [00:00<00:00, 604.80 Segments/s]\u001b[A\n",
      "Aligning cXypl4FnoZo:  27%|██▋       | 194/730 [00:00<00:00, 624.45 Segments/s]\u001b[A\n",
      "Aligning cXypl4FnoZo:  34%|███▍      | 247/730 [00:00<00:00, 591.30 Segments/s]\u001b[A\n",
      "Aligning cXypl4FnoZo:  41%|████      | 301/730 [00:00<00:00, 573.38 Segments/s]\u001b[A\n",
      "Aligning cXypl4FnoZo:  49%|████▉     | 359/730 [00:00<00:00, 574.09 Segments/s]\u001b[A\n",
      "Aligning cXypl4FnoZo:  57%|█████▋    | 418/730 [00:00<00:00, 576.34 Segments/s]\u001b[A\n",
      "Aligning cXypl4FnoZo:  67%|██████▋   | 486/730 [00:00<00:00, 602.77 Segments/s]\u001b[A\n",
      "Aligning cXypl4FnoZo:  76%|███████▌  | 554/730 [00:00<00:00, 622.21 Segments/s]\u001b[A\n",
      "Aligning cXypl4FnoZo:  84%|████████▍ | 615/730 [00:01<00:00, 607.29 Segments/s]\u001b[A\n",
      "Aligning cXypl4FnoZo:  92%|█████████▏| 675/730 [00:01<00:00, 591.82 Segments/s]\u001b[A\n",
      "Overall Progress:  71%|███████   | 66/93 [00:55<00:25,  1.04 Computational Sequence Entries/s]\n",
      "  0%|          | 0/599 [00:00<?, ? Segments/s]\u001b[A\n",
      "Aligning d3_k5Xpfmik:   0%|          | 0/599 [00:00<?, ? Segments/s]\u001b[A\n",
      "Aligning d3_k5Xpfmik:  10%|█         | 61/599 [00:00<00:00, 605.78 Segments/s]\u001b[A\n",
      "Aligning d3_k5Xpfmik:  21%|██▏       | 128/599 [00:00<00:00, 621.24 Segments/s]\u001b[A\n",
      "Aligning d3_k5Xpfmik:  33%|███▎      | 196/599 [00:00<00:00, 635.06 Segments/s]\u001b[A\n",
      "Aligning d3_k5Xpfmik:  44%|████▍     | 264/599 [00:00<00:00, 645.40 Segments/s]\u001b[A\n",
      "Aligning d3_k5Xpfmik:  55%|█████▌    | 331/599 [00:00<00:00, 652.41 Segments/s]\u001b[A\n",
      "Aligning d3_k5Xpfmik:  66%|██████▋   | 397/599 [00:00<00:00, 654.14 Segments/s]\u001b[A\n",
      "Aligning d3_k5Xpfmik:  77%|███████▋  | 463/599 [00:00<00:00, 654.86 Segments/s]\u001b[A\n",
      "Aligning d3_k5Xpfmik:  88%|████████▊ | 530/599 [00:00<00:00, 659.21 Segments/s]\u001b[A\n"
     ]
    },
    {
     "name": "stderr",
     "output_type": "stream",
     "text": [
      "Aligning d3_k5Xpfmik: 100%|█████████▉| 597/599 [00:00<00:00, 662.17 Segments/s]\u001b[A\n",
      "Overall Progress:  72%|███████▏  | 67/93 [00:56<00:24,  1.06 Computational Sequence Entries/s]\n",
      "  0%|          | 0/493 [00:00<?, ? Segments/s]\u001b[A\n",
      "Aligning d6hH302o4v8:   0%|          | 0/493 [00:00<?, ? Segments/s]\u001b[A\n",
      "Aligning d6hH302o4v8:  13%|█▎        | 63/493 [00:00<00:00, 625.10 Segments/s]\u001b[A\n",
      "Aligning d6hH302o4v8:  27%|██▋       | 135/493 [00:00<00:00, 650.76 Segments/s]\u001b[A\n",
      "Aligning d6hH302o4v8:  42%|████▏     | 208/493 [00:00<00:00, 670.30 Segments/s]\u001b[A\n",
      "Aligning d6hH302o4v8:  57%|█████▋    | 280/493 [00:00<00:00, 683.78 Segments/s]\u001b[A\n",
      "Aligning d6hH302o4v8:  71%|███████▏  | 352/493 [00:00<00:00, 691.45 Segments/s]\u001b[A\n",
      "Aligning d6hH302o4v8:  86%|████████▌ | 424/493 [00:00<00:00, 699.22 Segments/s]\u001b[A\n",
      "Overall Progress:  73%|███████▎  | 68/93 [00:56<00:21,  1.14 Computational Sequence Entries/s]\n",
      "  0%|          | 0/302 [00:00<?, ? Segments/s]\u001b[A\n",
      "Aligning dq3Nf_lMPnE:   0%|          | 0/302 [00:00<?, ? Segments/s]\u001b[A\n",
      "Aligning dq3Nf_lMPnE:  26%|██▌       | 78/302 [00:00<00:00, 771.91 Segments/s]\u001b[A\n",
      "Aligning dq3Nf_lMPnE:  52%|█████▏    | 158/302 [00:00<00:00, 779.95 Segments/s]\u001b[A\n",
      "Aligning dq3Nf_lMPnE:  79%|███████▉  | 239/302 [00:00<00:00, 786.51 Segments/s]\u001b[A\n",
      "Overall Progress:  74%|███████▍  | 69/93 [00:57<00:17,  1.38 Computational Sequence Entries/s]\n",
      "  0%|          | 0/704 [00:00<?, ? Segments/s]\u001b[A\n",
      "Aligning etzxEpPuc6I:   0%|          | 0/704 [00:00<?, ? Segments/s]\u001b[A\n",
      "Aligning etzxEpPuc6I:   8%|▊         | 56/704 [00:00<00:01, 553.06 Segments/s]\u001b[A\n",
      "Aligning etzxEpPuc6I:  16%|█▌        | 112/704 [00:00<00:01, 553.36 Segments/s]\u001b[A\n",
      "Aligning etzxEpPuc6I:  24%|██▍       | 168/704 [00:00<00:00, 554.96 Segments/s]\u001b[A\n",
      "Aligning etzxEpPuc6I:  32%|███▏      | 224/704 [00:00<00:00, 556.22 Segments/s]\u001b[A\n",
      "Aligning etzxEpPuc6I:  41%|████▏     | 292/704 [00:00<00:00, 586.12 Segments/s]\u001b[A\n",
      "Aligning etzxEpPuc6I:  51%|█████     | 359/704 [00:00<00:00, 608.22 Segments/s]\u001b[A\n",
      "Aligning etzxEpPuc6I:  59%|█████▉    | 415/704 [00:00<00:00, 590.73 Segments/s]\u001b[A\n",
      "Aligning etzxEpPuc6I:  69%|██████▊   | 483/704 [00:00<00:00, 613.17 Segments/s]\u001b[A\n",
      "Aligning etzxEpPuc6I:  78%|███████▊  | 551/704 [00:00<00:00, 630.00 Segments/s]\u001b[A\n",
      "Aligning etzxEpPuc6I:  88%|████████▊ | 618/704 [00:01<00:00, 639.52 Segments/s]\u001b[A\n",
      "Aligning etzxEpPuc6I:  97%|█████████▋| 686/704 [00:01<00:00, 648.92 Segments/s]\u001b[A\n",
      "Overall Progress:  75%|███████▌  | 70/93 [00:58<00:19,  1.17 Computational Sequence Entries/s]\n",
      "  0%|          | 0/507 [00:00<?, ? Segments/s]\u001b[A\n",
      "Aligning f9O3YtZ2VfI:   0%|          | 0/507 [00:00<?, ? Segments/s]\u001b[A\n",
      "Aligning f9O3YtZ2VfI:  14%|█▍        | 70/507 [00:00<00:00, 699.24 Segments/s]\u001b[A\n",
      "Aligning f9O3YtZ2VfI:  28%|██▊       | 141/507 [00:00<00:00, 700.42 Segments/s]\u001b[A\n",
      "Aligning f9O3YtZ2VfI:  42%|████▏     | 212/507 [00:00<00:00, 702.05 Segments/s]\u001b[A\n",
      "Aligning f9O3YtZ2VfI:  56%|█████▌    | 283/507 [00:00<00:00, 703.01 Segments/s]\u001b[A\n",
      "Aligning f9O3YtZ2VfI:  70%|██████▉   | 354/507 [00:00<00:00, 703.60 Segments/s]\u001b[A\n",
      "Aligning f9O3YtZ2VfI:  84%|████████▍ | 425/507 [00:00<00:00, 703.54 Segments/s]\u001b[A\n",
      "Aligning f9O3YtZ2VfI:  98%|█████████▊| 496/507 [00:00<00:00, 703.74 Segments/s]\u001b[A\n",
      "Overall Progress:  76%|███████▋  | 71/93 [00:59<00:17,  1.23 Computational Sequence Entries/s]\n",
      "  0%|          | 0/468 [00:00<?, ? Segments/s]\u001b[A\n",
      "Aligning f_pcplsH_V0:   0%|          | 0/468 [00:00<?, ? Segments/s]\u001b[A\n",
      "Aligning f_pcplsH_V0:  14%|█▍        | 67/468 [00:00<00:00, 668.63 Segments/s]\u001b[A\n",
      "Aligning f_pcplsH_V0:  26%|██▋       | 124/468 [00:00<00:00, 633.37 Segments/s]\u001b[A\n",
      "Aligning f_pcplsH_V0:  41%|████      | 192/468 [00:00<00:00, 646.39 Segments/s]\u001b[A\n",
      "Aligning f_pcplsH_V0:  53%|█████▎    | 250/468 [00:00<00:00, 622.75 Segments/s]\u001b[A\n",
      "Aligning f_pcplsH_V0:  68%|██████▊   | 318/468 [00:00<00:00, 636.86 Segments/s]\u001b[A\n",
      "Aligning f_pcplsH_V0:  82%|████████▏ | 386/468 [00:00<00:00, 647.64 Segments/s]\u001b[A\n",
      "Aligning f_pcplsH_V0:  97%|█████████▋| 454/468 [00:00<00:00, 654.72 Segments/s]\u001b[A\n",
      "Overall Progress:  77%|███████▋  | 72/93 [00:59<00:16,  1.27 Computational Sequence Entries/s]\n",
      "  0%|          | 0/666 [00:00<?, ? Segments/s]\u001b[A\n",
      "Aligning fvVhgmXxadc:   0%|          | 0/666 [00:00<?, ? Segments/s]\u001b[A\n",
      "Aligning fvVhgmXxadc:  10%|▉         | 64/666 [00:00<00:00, 637.79 Segments/s]\u001b[A\n",
      "Aligning fvVhgmXxadc:  20%|█▉        | 130/666 [00:00<00:00, 643.81 Segments/s]\u001b[A\n",
      "Aligning fvVhgmXxadc:  30%|██▉       | 198/666 [00:00<00:00, 652.59 Segments/s]\u001b[A\n",
      "Aligning fvVhgmXxadc:  38%|███▊      | 251/666 [00:00<00:00, 610.02 Segments/s]\u001b[A\n",
      "Aligning fvVhgmXxadc:  48%|████▊     | 319/666 [00:00<00:00, 628.19 Segments/s]\u001b[A\n",
      "Aligning fvVhgmXxadc:  56%|█████▋    | 375/666 [00:00<00:00, 603.19 Segments/s]\u001b[A\n",
      "Aligning fvVhgmXxadc:  64%|██████▍   | 429/666 [00:00<00:00, 563.26 Segments/s]\u001b[A\n",
      "Aligning fvVhgmXxadc:  73%|███████▎  | 484/666 [00:00<00:00, 557.38 Segments/s]\u001b[A\n",
      "Aligning fvVhgmXxadc:  83%|████████▎ | 552/666 [00:00<00:00, 587.48 Segments/s]\u001b[A\n",
      "Aligning fvVhgmXxadc:  93%|█████████▎| 620/666 [00:01<00:00, 610.71 Segments/s]\u001b[A\n",
      "Overall Progress:  78%|███████▊  | 73/93 [01:01<00:17,  1.13 Computational Sequence Entries/s]\n",
      "  0%|          | 0/316 [00:00<?, ? Segments/s]\u001b[A\n",
      "Aligning iiK8YX8oH1E:   0%|          | 0/316 [00:00<?, ? Segments/s]\u001b[A\n",
      "Aligning iiK8YX8oH1E:  23%|██▎       | 72/316 [00:00<00:00, 713.92 Segments/s]\u001b[A\n",
      "Aligning iiK8YX8oH1E:  48%|████▊     | 153/316 [00:00<00:00, 740.19 Segments/s]\u001b[A\n",
      "Aligning iiK8YX8oH1E:  74%|███████▍  | 234/316 [00:00<00:00, 759.24 Segments/s]\u001b[A\n",
      "Aligning iiK8YX8oH1E: 100%|██████████| 316/316 [00:00<00:00, 774.03 Segments/s]\u001b[A\n",
      "Overall Progress:  80%|███████▉  | 74/93 [01:01<00:14,  1.35 Computational Sequence Entries/s]\n",
      "  0%|          | 0/650 [00:00<?, ? Segments/s]\u001b[A\n",
      "Aligning jUzDDGyPkXU:   0%|          | 0/650 [00:00<?, ? Segments/s]\u001b[A\n",
      "Aligning jUzDDGyPkXU:  10%|█         | 66/650 [00:00<00:00, 653.93 Segments/s]\u001b[A\n",
      "Aligning jUzDDGyPkXU:  21%|██        | 134/650 [00:00<00:00, 660.19 Segments/s]\u001b[A\n",
      "Aligning jUzDDGyPkXU:  31%|███       | 202/650 [00:00<00:00, 663.95 Segments/s]\u001b[A\n",
      "Aligning jUzDDGyPkXU:  42%|████▏     | 270/650 [00:00<00:00, 667.80 Segments/s]\u001b[A\n",
      "Aligning jUzDDGyPkXU:  52%|█████▏    | 338/650 [00:00<00:00, 669.63 Segments/s]\u001b[A\n",
      "Aligning jUzDDGyPkXU:  62%|██████▏   | 406/650 [00:00<00:00, 670.51 Segments/s]\u001b[A\n",
      "Aligning jUzDDGyPkXU:  72%|███████▏  | 466/650 [00:00<00:00, 644.46 Segments/s]\u001b[A\n",
      "Aligning jUzDDGyPkXU:  82%|████████▏ | 533/650 [00:00<00:00, 650.57 Segments/s]\u001b[A\n",
      "Aligning jUzDDGyPkXU:  92%|█████████▏| 595/650 [00:00<00:00, 625.98 Segments/s]\u001b[A\n",
      "Overall Progress:  81%|████████  | 75/93 [01:02<00:14,  1.21 Computational Sequence Entries/s]\n",
      "  0%|          | 0/650 [00:00<?, ? Segments/s]\u001b[A\n",
      "Aligning k5Y_838nuGo:   0%|          | 0/650 [00:00<?, ? Segments/s]\u001b[A\n",
      "Aligning k5Y_838nuGo:   9%|▉         | 58/650 [00:00<00:01, 573.70 Segments/s]\u001b[A\n",
      "Aligning k5Y_838nuGo:  19%|█▉        | 126/650 [00:00<00:00, 600.39 Segments/s]\u001b[A\n",
      "Aligning k5Y_838nuGo:  30%|██▉       | 194/650 [00:00<00:00, 621.50 Segments/s]\u001b[A\n",
      "Aligning k5Y_838nuGo:  40%|████      | 262/650 [00:00<00:00, 636.46 Segments/s]\u001b[A\n",
      "Aligning k5Y_838nuGo:  51%|█████     | 330/650 [00:00<00:00, 648.07 Segments/s]\u001b[A\n",
      "Aligning k5Y_838nuGo:  61%|██████    | 398/650 [00:00<00:00, 655.11 Segments/s]\u001b[A\n",
      "Aligning k5Y_838nuGo:  72%|███████▏  | 466/650 [00:00<00:00, 661.10 Segments/s]\u001b[A\n",
      "Aligning k5Y_838nuGo:  82%|████████▏ | 534/650 [00:00<00:00, 664.55 Segments/s]\u001b[A\n",
      "Aligning k5Y_838nuGo:  92%|█████████▏| 601/650 [00:00<00:00, 665.27 Segments/s]\u001b[A\n",
      "Overall Progress:  82%|████████▏ | 76/93 [01:03<00:14,  1.15 Computational Sequence Entries/s]\n",
      "  0%|          | 0/662 [00:00<?, ? Segments/s]\u001b[A\n",
      "Aligning lXPQBPVc5Cw:   0%|          | 0/662 [00:00<?, ? Segments/s]\u001b[A\n",
      "Aligning lXPQBPVc5Cw:  10%|▉         | 65/662 [00:00<00:00, 642.71 Segments/s]\u001b[A\n",
      "Aligning lXPQBPVc5Cw:  20%|█▉        | 132/662 [00:00<00:00, 649.58 Segments/s]\u001b[A\n",
      "Aligning lXPQBPVc5Cw:  28%|██▊       | 187/662 [00:00<00:00, 614.61 Segments/s]\u001b[A\n",
      "Aligning lXPQBPVc5Cw:  39%|███▊      | 255/662 [00:00<00:00, 631.50 Segments/s]\u001b[A\n",
      "Aligning lXPQBPVc5Cw:  49%|████▉     | 323/662 [00:00<00:00, 644.88 Segments/s]\u001b[A\n"
     ]
    },
    {
     "name": "stderr",
     "output_type": "stream",
     "text": [
      "Aligning lXPQBPVc5Cw:  59%|█████▉    | 391/662 [00:00<00:00, 652.96 Segments/s]\u001b[A\n",
      "Aligning lXPQBPVc5Cw:  68%|██████▊   | 450/662 [00:00<00:00, 614.66 Segments/s]\u001b[A\n",
      "Aligning lXPQBPVc5Cw:  77%|███████▋  | 507/662 [00:00<00:00, 599.20 Segments/s]\u001b[A\n",
      "Aligning lXPQBPVc5Cw:  85%|████████▌ | 565/662 [00:00<00:00, 591.47 Segments/s]\u001b[A\n",
      "Aligning lXPQBPVc5Cw:  96%|█████████▌| 633/662 [00:01<00:00, 614.56 Segments/s]\u001b[A\n",
      "Overall Progress:  83%|████████▎ | 77/93 [01:04<00:14,  1.07 Computational Sequence Entries/s]\n",
      "  0%|          | 0/616 [00:00<?, ? Segments/s]\u001b[A\n",
      "Aligning nbWiPyCm4g0:   0%|          | 0/616 [00:00<?, ? Segments/s]\u001b[A\n",
      "Aligning nbWiPyCm4g0:  11%|█         | 67/616 [00:00<00:00, 665.80 Segments/s]\u001b[A\n",
      "Aligning nbWiPyCm4g0:  22%|██▏       | 134/616 [00:00<00:00, 666.73 Segments/s]\u001b[A\n",
      "Aligning nbWiPyCm4g0:  31%|███▏      | 193/616 [00:00<00:00, 639.61 Segments/s]\u001b[A\n",
      "Aligning nbWiPyCm4g0:  42%|████▏     | 261/616 [00:00<00:00, 649.76 Segments/s]\u001b[A\n",
      "Aligning nbWiPyCm4g0:  53%|█████▎    | 329/616 [00:00<00:00, 657.84 Segments/s]\u001b[A\n",
      "Aligning nbWiPyCm4g0:  62%|██████▏   | 384/616 [00:00<00:00, 616.62 Segments/s]\u001b[A\n",
      "Aligning nbWiPyCm4g0:  73%|███████▎  | 452/616 [00:00<00:00, 632.95 Segments/s]\u001b[A\n",
      "Aligning nbWiPyCm4g0:  84%|████████▍ | 519/616 [00:00<00:00, 642.36 Segments/s]\u001b[A\n",
      "Aligning nbWiPyCm4g0:  95%|█████████▌| 587/616 [00:00<00:00, 651.27 Segments/s]\u001b[A\n",
      "Overall Progress:  84%|████████▍ | 78/93 [01:05<00:14,  1.06 Computational Sequence Entries/s]\n",
      "  0%|          | 0/582 [00:00<?, ? Segments/s]\u001b[A\n",
      "Aligning nzpVDcQ0ywM:   0%|          | 0/582 [00:00<?, ? Segments/s]\u001b[A\n",
      "Aligning nzpVDcQ0ywM:  12%|█▏        | 67/582 [00:00<00:00, 666.05 Segments/s]\u001b[A\n",
      "Aligning nzpVDcQ0ywM:  23%|██▎       | 134/582 [00:00<00:00, 666.35 Segments/s]\u001b[A\n",
      "Aligning nzpVDcQ0ywM:  35%|███▍      | 202/582 [00:00<00:00, 668.22 Segments/s]\u001b[A\n",
      "Aligning nzpVDcQ0ywM:  46%|████▋     | 270/582 [00:00<00:00, 670.27 Segments/s]\u001b[A\n",
      "Aligning nzpVDcQ0ywM:  58%|█████▊    | 338/582 [00:00<00:00, 670.55 Segments/s]\u001b[A\n",
      "Aligning nzpVDcQ0ywM:  70%|██████▉   | 405/582 [00:00<00:00, 669.34 Segments/s]\u001b[A\n",
      "Aligning nzpVDcQ0ywM:  80%|███████▉  | 465/582 [00:00<00:00, 642.65 Segments/s]\u001b[A\n",
      "Aligning nzpVDcQ0ywM:  92%|█████████▏| 533/582 [00:00<00:00, 651.91 Segments/s]\u001b[A\n",
      "Overall Progress:  85%|████████▍ | 79/93 [01:06<00:13,  1.07 Computational Sequence Entries/s]\n",
      "  0%|          | 0/419 [00:00<?, ? Segments/s]\u001b[A\n",
      "Aligning ob23OKe5a9Q:   0%|          | 0/419 [00:00<?, ? Segments/s]\u001b[A\n",
      "Aligning ob23OKe5a9Q:  17%|█▋        | 70/419 [00:00<00:00, 697.02 Segments/s]\u001b[A\n",
      "Aligning ob23OKe5a9Q:  34%|███▍      | 143/419 [00:00<00:00, 704.79 Segments/s]\u001b[A\n",
      "Aligning ob23OKe5a9Q:  48%|████▊     | 200/419 [00:00<00:00, 656.17 Segments/s]\u001b[A\n",
      "Aligning ob23OKe5a9Q:  65%|██████▌   | 273/419 [00:00<00:00, 674.56 Segments/s]\u001b[A\n",
      "Aligning ob23OKe5a9Q:  83%|████████▎ | 346/419 [00:00<00:00, 688.20 Segments/s]\u001b[A\n",
      "Aligning ob23OKe5a9Q: 100%|█████████▉| 418/419 [00:00<00:00, 696.00 Segments/s]\u001b[A\n",
      "Overall Progress:  86%|████████▌ | 80/93 [01:06<00:10,  1.20 Computational Sequence Entries/s]\n",
      "  0%|          | 0/502 [00:00<?, ? Segments/s]\u001b[A\n",
      "Aligning pLTX3ipuDJI:   0%|          | 0/502 [00:00<?, ? Segments/s]\u001b[A\n",
      "Aligning pLTX3ipuDJI:  13%|█▎        | 66/502 [00:00<00:00, 659.27 Segments/s]\u001b[A\n",
      "Aligning pLTX3ipuDJI:  28%|██▊       | 142/502 [00:00<00:00, 685.55 Segments/s]\u001b[A\n",
      "Aligning pLTX3ipuDJI:  44%|████▎     | 219/502 [00:00<00:00, 707.43 Segments/s]\u001b[A\n",
      "Aligning pLTX3ipuDJI:  59%|█████▉    | 296/502 [00:00<00:00, 723.93 Segments/s]\u001b[A\n",
      "Aligning pLTX3ipuDJI:  72%|███████▏  | 360/502 [00:00<00:00, 694.16 Segments/s]\u001b[A\n",
      "Aligning pLTX3ipuDJI:  87%|████████▋ | 437/502 [00:00<00:00, 714.55 Segments/s]\u001b[A\n",
      "Overall Progress:  87%|████████▋ | 81/93 [01:07<00:09,  1.26 Computational Sequence Entries/s]\n",
      "  0%|          | 0/729 [00:00<?, ? Segments/s]\u001b[A\n",
      "Aligning phBUpBr1hSo:   0%|          | 0/729 [00:00<?, ? Segments/s]\u001b[A\n",
      "Aligning phBUpBr1hSo:   9%|▉         | 66/729 [00:00<00:01, 659.25 Segments/s]\u001b[A\n",
      "Aligning phBUpBr1hSo:  18%|█▊        | 134/729 [00:00<00:00, 662.96 Segments/s]\u001b[A\n",
      "Aligning phBUpBr1hSo:  26%|██▌       | 191/729 [00:00<00:00, 629.73 Segments/s]\u001b[A\n",
      "Aligning phBUpBr1hSo:  36%|███▌      | 259/729 [00:00<00:00, 642.69 Segments/s]\u001b[A\n",
      "Aligning phBUpBr1hSo:  45%|████▍     | 326/729 [00:00<00:00, 650.61 Segments/s]\u001b[A\n",
      "Aligning phBUpBr1hSo:  54%|█████▍    | 394/729 [00:00<00:00, 657.34 Segments/s]\u001b[A\n",
      "Aligning phBUpBr1hSo:  63%|██████▎   | 462/729 [00:00<00:00, 662.56 Segments/s]\u001b[A\n",
      "Aligning phBUpBr1hSo:  73%|███████▎  | 530/729 [00:00<00:00, 665.82 Segments/s]\u001b[A\n",
      "Aligning phBUpBr1hSo:  82%|████████▏ | 598/729 [00:00<00:00, 668.61 Segments/s]\u001b[A\n",
      "Aligning phBUpBr1hSo:  91%|█████████▏| 666/729 [00:01<00:00, 670.91 Segments/s]\u001b[A\n",
      "Overall Progress:  88%|████████▊ | 82/93 [01:08<00:09,  1.13 Computational Sequence Entries/s]\n",
      "  0%|          | 0/716 [00:00<?, ? Segments/s]\u001b[A\n",
      "Aligning rnaNMUZpvvg:   0%|          | 0/716 [00:00<?, ? Segments/s]\u001b[A\n",
      "Aligning rnaNMUZpvvg:   9%|▉         | 66/716 [00:00<00:00, 651.28 Segments/s]\u001b[A\n",
      "Aligning rnaNMUZpvvg:  18%|█▊        | 132/716 [00:00<00:00, 649.33 Segments/s]\u001b[A\n",
      "Aligning rnaNMUZpvvg:  27%|██▋       | 192/716 [00:00<00:00, 632.71 Segments/s]\u001b[A\n",
      "Aligning rnaNMUZpvvg:  36%|███▋      | 260/716 [00:00<00:00, 645.45 Segments/s]\u001b[A\n",
      "Aligning rnaNMUZpvvg:  46%|████▌     | 327/716 [00:00<00:00, 652.30 Segments/s]\u001b[A\n",
      "Aligning rnaNMUZpvvg:  55%|█████▌    | 395/716 [00:00<00:00, 659.04 Segments/s]\u001b[A\n",
      "Aligning rnaNMUZpvvg:  65%|██████▍   | 463/716 [00:00<00:00, 663.61 Segments/s]\u001b[A\n",
      "Aligning rnaNMUZpvvg:  74%|███████▍  | 530/716 [00:00<00:00, 664.99 Segments/s]\u001b[A\n",
      "Aligning rnaNMUZpvvg:  84%|████████▎ | 598/716 [00:00<00:00, 667.94 Segments/s]\u001b[A\n",
      "Aligning rnaNMUZpvvg:  93%|█████████▎| 666/716 [00:01<00:00, 668.58 Segments/s]\u001b[A\n",
      "Overall Progress:  89%|████████▉ | 83/93 [01:09<00:09,  1.06 Computational Sequence Entries/s]\n",
      "  0%|          | 0/599 [00:00<?, ? Segments/s]\u001b[A\n",
      "Aligning tIrG4oNLFzE:   0%|          | 0/599 [00:00<?, ? Segments/s]\u001b[A\n",
      "Aligning tIrG4oNLFzE:   8%|▊         | 48/599 [00:00<00:01, 477.16 Segments/s]\u001b[A\n",
      "Aligning tIrG4oNLFzE:  16%|█▌        | 93/599 [00:00<00:01, 467.91 Segments/s]\u001b[A\n",
      "Aligning tIrG4oNLFzE:  27%|██▋       | 162/599 [00:00<00:00, 517.07 Segments/s]\u001b[A\n",
      "Aligning tIrG4oNLFzE:  36%|███▌      | 215/599 [00:00<00:00, 518.57 Segments/s]\u001b[A\n",
      "Aligning tIrG4oNLFzE:  47%|████▋     | 283/599 [00:00<00:00, 557.63 Segments/s]\u001b[A\n",
      "Aligning tIrG4oNLFzE:  57%|█████▋    | 341/599 [00:00<00:00, 562.52 Segments/s]\u001b[A\n",
      "Aligning tIrG4oNLFzE:  68%|██████▊   | 409/599 [00:00<00:00, 591.95 Segments/s]\u001b[A\n",
      "Aligning tIrG4oNLFzE:  80%|███████▉  | 477/599 [00:00<00:00, 613.70 Segments/s]\u001b[A\n",
      "Aligning tIrG4oNLFzE:  91%|█████████ | 545/599 [00:00<00:00, 630.74 Segments/s]\u001b[A\n",
      "Overall Progress:  90%|█████████ | 84/93 [01:10<00:08,  1.04 Computational Sequence Entries/s]\n",
      "  0%|          | 0/432 [00:00<?, ? Segments/s]\u001b[A\n",
      "Aligning tStelxIAHjw:   0%|          | 0/432 [00:00<?, ? Segments/s]\u001b[A\n",
      "Aligning tStelxIAHjw:  17%|█▋        | 73/432 [00:00<00:00, 727.30 Segments/s]\u001b[A\n",
      "Aligning tStelxIAHjw:  31%|███▏      | 135/432 [00:00<00:00, 691.28 Segments/s]\u001b[A\n",
      "Aligning tStelxIAHjw:  46%|████▌     | 199/432 [00:00<00:00, 672.96 Segments/s]\u001b[A\n",
      "Aligning tStelxIAHjw:  63%|██████▎   | 274/432 [00:00<00:00, 692.01 Segments/s]\u001b[A\n",
      "Aligning tStelxIAHjw:  81%|████████  | 349/432 [00:00<00:00, 706.94 Segments/s]\u001b[A\n",
      "Aligning tStelxIAHjw:  96%|█████████▌| 413/432 [00:00<00:00, 685.15 Segments/s]\u001b[A\n",
      "Overall Progress:  91%|█████████▏| 85/93 [01:11<00:06,  1.15 Computational Sequence Entries/s]\n",
      "  0%|          | 0/384 [00:00<?, ? Segments/s]\u001b[A\n",
      "Aligning tmZoasNr4rU:   0%|          | 0/384 [00:00<?, ? Segments/s]\u001b[A\n",
      "Aligning tmZoasNr4rU:  17%|█▋        | 67/384 [00:00<00:00, 661.57 Segments/s]\u001b[A\n",
      "Aligning tmZoasNr4rU:  35%|███▌      | 135/384 [00:00<00:00, 665.00 Segments/s]\u001b[A\n",
      "Aligning tmZoasNr4rU:  49%|████▊     | 187/384 [00:00<00:00, 611.52 Segments/s]\u001b[A\n",
      "Aligning tmZoasNr4rU:  63%|██████▎   | 243/384 [00:00<00:00, 593.73 Segments/s]\u001b[A\n",
      "Aligning tmZoasNr4rU:  77%|███████▋  | 297/384 [00:00<00:00, 573.90 Segments/s]\u001b[A\n",
      "Aligning tmZoasNr4rU:  95%|█████████▍| 364/384 [00:00<00:00, 599.13 Segments/s]\u001b[A\n"
     ]
    },
    {
     "name": "stderr",
     "output_type": "stream",
     "text": [
      "Overall Progress:  92%|█████████▏| 86/93 [01:12<00:05,  1.25 Computational Sequence Entries/s]\n",
      "  0%|          | 0/491 [00:00<?, ? Segments/s]\u001b[A\n",
      "Aligning v0zCBqDeKcE:   0%|          | 0/491 [00:00<?, ? Segments/s]\u001b[A\n",
      "Aligning v0zCBqDeKcE:  14%|█▎        | 67/491 [00:00<00:00, 664.20 Segments/s]\u001b[A\n",
      "Aligning v0zCBqDeKcE:  27%|██▋       | 135/491 [00:00<00:00, 666.30 Segments/s]\u001b[A\n",
      "Aligning v0zCBqDeKcE:  39%|███▉      | 192/491 [00:00<00:00, 632.71 Segments/s]\u001b[A\n",
      "Aligning v0zCBqDeKcE:  53%|█████▎    | 260/491 [00:00<00:00, 643.36 Segments/s]\u001b[A\n",
      "Aligning v0zCBqDeKcE:  67%|██████▋   | 328/491 [00:00<00:00, 653.53 Segments/s]\u001b[A\n",
      "Aligning v0zCBqDeKcE:  78%|███████▊  | 384/491 [00:00<00:00, 620.88 Segments/s]\u001b[A\n",
      "Aligning v0zCBqDeKcE:  90%|████████▉ | 441/491 [00:00<00:00, 601.84 Segments/s]\u001b[A\n",
      "Overall Progress:  94%|█████████▎| 87/93 [01:12<00:04,  1.25 Computational Sequence Entries/s]\n",
      "  0%|          | 0/613 [00:00<?, ? Segments/s]\u001b[A\n",
      "Aligning vvZ4IcEtiZc:   0%|          | 0/613 [00:00<?, ? Segments/s]\u001b[A\n",
      "Aligning vvZ4IcEtiZc:   9%|▉         | 58/613 [00:00<00:00, 579.19 Segments/s]\u001b[A\n",
      "Aligning vvZ4IcEtiZc:  21%|██        | 127/613 [00:00<00:00, 606.21 Segments/s]\u001b[A\n",
      "Aligning vvZ4IcEtiZc:  32%|███▏      | 196/613 [00:00<00:00, 626.79 Segments/s]\u001b[A\n",
      "Aligning vvZ4IcEtiZc:  41%|████      | 250/613 [00:00<00:00, 597.46 Segments/s]\u001b[A\n",
      "Aligning vvZ4IcEtiZc:  52%|█████▏    | 316/613 [00:00<00:00, 614.33 Segments/s]\u001b[A\n",
      "Aligning vvZ4IcEtiZc:  62%|██████▏   | 383/613 [00:00<00:00, 627.97 Segments/s]\u001b[A\n",
      "Aligning vvZ4IcEtiZc:  73%|███████▎  | 450/613 [00:00<00:00, 638.84 Segments/s]\u001b[A\n",
      "Aligning vvZ4IcEtiZc:  83%|████████▎ | 510/613 [00:00<00:00, 612.05 Segments/s]\u001b[A\n",
      "Aligning vvZ4IcEtiZc:  93%|█████████▎| 569/613 [00:00<00:00, 588.24 Segments/s]\u001b[A\n",
      "Overall Progress:  95%|█████████▍| 88/93 [01:13<00:04,  1.16 Computational Sequence Entries/s]\n",
      "  0%|          | 0/600 [00:00<?, ? Segments/s]\u001b[A\n",
      "Aligning vyB00TXsimI:   0%|          | 0/600 [00:00<?, ? Segments/s]\u001b[A\n",
      "Aligning vyB00TXsimI:  11%|█         | 67/600 [00:00<00:00, 666.99 Segments/s]\u001b[A\n",
      "Aligning vyB00TXsimI:  22%|██▏       | 132/600 [00:00<00:00, 659.17 Segments/s]\u001b[A\n",
      "Aligning vyB00TXsimI:  33%|███▎      | 198/600 [00:00<00:00, 659.35 Segments/s]\u001b[A\n",
      "Aligning vyB00TXsimI:  44%|████▍     | 264/600 [00:00<00:00, 658.47 Segments/s]\u001b[A\n",
      "Aligning vyB00TXsimI:  55%|█████▌    | 331/600 [00:00<00:00, 659.35 Segments/s]\u001b[A\n",
      "Aligning vyB00TXsimI:  65%|██████▍   | 388/600 [00:00<00:00, 629.61 Segments/s]\u001b[A\n",
      "Aligning vyB00TXsimI:  76%|███████▌  | 456/600 [00:00<00:00, 641.06 Segments/s]\u001b[A\n",
      "Aligning vyB00TXsimI:  86%|████████▌ | 515/600 [00:00<00:00, 612.64 Segments/s]\u001b[A\n",
      "Aligning vyB00TXsimI:  96%|█████████▌| 573/600 [00:00<00:00, 595.74 Segments/s]\u001b[A\n",
      "Overall Progress:  96%|█████████▌| 89/93 [01:14<00:03,  1.12 Computational Sequence Entries/s]\n",
      "  0%|          | 0/701 [00:00<?, ? Segments/s]\u001b[A\n",
      "Aligning wMbj6ajWbic:   0%|          | 0/701 [00:00<?, ? Segments/s]\u001b[A\n",
      "Aligning wMbj6ajWbic:  10%|▉         | 67/701 [00:00<00:00, 664.25 Segments/s]\u001b[A\n",
      "Aligning wMbj6ajWbic:  19%|█▉        | 135/701 [00:00<00:00, 666.71 Segments/s]\u001b[A\n",
      "Aligning wMbj6ajWbic:  27%|██▋       | 187/701 [00:00<00:00, 612.25 Segments/s]\u001b[A\n",
      "Aligning wMbj6ajWbic:  37%|███▋      | 256/701 [00:00<00:00, 632.70 Segments/s]\u001b[A\n",
      "Aligning wMbj6ajWbic:  46%|████▌     | 324/701 [00:00<00:00, 645.52 Segments/s]\u001b[A\n",
      "Aligning wMbj6ajWbic:  56%|█████▌    | 392/701 [00:00<00:00, 654.60 Segments/s]\u001b[A\n",
      "Aligning wMbj6ajWbic:  64%|██████▍   | 451/701 [00:00<00:00, 624.92 Segments/s]\u001b[A\n",
      "Aligning wMbj6ajWbic:  74%|███████▍  | 519/701 [00:00<00:00, 639.21 Segments/s]\u001b[A\n",
      "Aligning wMbj6ajWbic:  84%|████████▎ | 587/701 [00:00<00:00, 648.96 Segments/s]\u001b[A\n",
      "Aligning wMbj6ajWbic:  93%|█████████▎| 655/701 [00:01<00:00, 655.84 Segments/s]\u001b[A\n",
      "Overall Progress:  97%|█████████▋| 90/93 [01:16<00:02,  1.04 Computational Sequence Entries/s]\n",
      "  0%|          | 0/586 [00:00<?, ? Segments/s]\u001b[A\n",
      "Aligning yDtzw_Y-7RU:   0%|          | 0/586 [00:00<?, ? Segments/s]\u001b[A\n",
      "Aligning yDtzw_Y-7RU:  11%|█▏        | 67/586 [00:00<00:00, 667.81 Segments/s]\u001b[A\n",
      "Aligning yDtzw_Y-7RU:  21%|██        | 124/586 [00:00<00:00, 634.28 Segments/s]\u001b[A\n",
      "Aligning yDtzw_Y-7RU:  33%|███▎      | 193/586 [00:00<00:00, 647.22 Segments/s]\u001b[A\n",
      "Aligning yDtzw_Y-7RU:  45%|████▍     | 262/586 [00:00<00:00, 656.62 Segments/s]\u001b[A\n",
      "Aligning yDtzw_Y-7RU:  56%|█████▋    | 330/586 [00:00<00:00, 662.60 Segments/s]\u001b[A\n",
      "Aligning yDtzw_Y-7RU:  68%|██████▊   | 398/586 [00:00<00:00, 666.91 Segments/s]\u001b[A\n",
      "Aligning yDtzw_Y-7RU:  80%|███████▉  | 466/586 [00:00<00:00, 669.29 Segments/s]\u001b[A\n",
      "Aligning yDtzw_Y-7RU:  91%|█████████ | 534/586 [00:00<00:00, 672.41 Segments/s]\u001b[A\n",
      "Overall Progress:  98%|█████████▊| 91/93 [01:16<00:01,  1.06 Computational Sequence Entries/s]\n",
      "  0%|          | 0/625 [00:00<?, ? Segments/s]\u001b[A\n",
      "Aligning yvsjCA6Y5Fc:   0%|          | 0/625 [00:00<?, ? Segments/s]\u001b[A\n",
      "Aligning yvsjCA6Y5Fc:  11%|█         | 66/625 [00:00<00:00, 657.38 Segments/s]\u001b[A\n",
      "Aligning yvsjCA6Y5Fc:  21%|██▏       | 134/625 [00:00<00:00, 663.02 Segments/s]\u001b[A\n",
      "Aligning yvsjCA6Y5Fc:  32%|███▏      | 203/625 [00:00<00:00, 668.30 Segments/s]\u001b[A\n",
      "Aligning yvsjCA6Y5Fc:  43%|████▎     | 271/625 [00:00<00:00, 669.90 Segments/s]\u001b[A\n",
      "Aligning yvsjCA6Y5Fc:  54%|█████▍    | 339/625 [00:00<00:00, 671.72 Segments/s]\u001b[A\n",
      "Aligning yvsjCA6Y5Fc:  63%|██████▎   | 396/625 [00:00<00:00, 617.04 Segments/s]\u001b[A\n",
      "Aligning yvsjCA6Y5Fc:  73%|███████▎  | 454/625 [00:00<00:00, 604.63 Segments/s]\u001b[A\n",
      "Aligning yvsjCA6Y5Fc:  82%|████████▏ | 512/625 [00:00<00:00, 596.07 Segments/s]\u001b[A\n",
      "Aligning yvsjCA6Y5Fc:  92%|█████████▏| 572/625 [00:00<00:00, 594.36 Segments/s]\u001b[A\n",
      "Overall Progress:  99%|█████████▉| 92/93 [01:17<00:00,  1.04 Computational Sequence Entries/s]\n",
      "  0%|          | 0/688 [00:00<?, ? Segments/s]\u001b[A\n",
      "Aligning zhpQhgha_KU:   0%|          | 0/688 [00:00<?, ? Segments/s]\u001b[A\n",
      "Aligning zhpQhgha_KU:  10%|▉         | 66/688 [00:00<00:00, 651.95 Segments/s]\u001b[A\n",
      "Aligning zhpQhgha_KU:  19%|█▉        | 134/688 [00:00<00:00, 658.98 Segments/s]\u001b[A\n",
      "Aligning zhpQhgha_KU:  28%|██▊       | 190/688 [00:00<00:00, 625.06 Segments/s]\u001b[A\n",
      "Aligning zhpQhgha_KU:  36%|███▌      | 247/688 [00:00<00:00, 604.45 Segments/s]\u001b[A\n",
      "Aligning zhpQhgha_KU:  46%|████▌     | 315/688 [00:00<00:00, 623.76 Segments/s]\u001b[A\n",
      "Aligning zhpQhgha_KU:  56%|█████▌    | 383/688 [00:00<00:00, 638.98 Segments/s]\u001b[A\n",
      "Aligning zhpQhgha_KU:  66%|██████▌   | 451/688 [00:00<00:00, 650.16 Segments/s]\u001b[A\n",
      "Aligning zhpQhgha_KU:  75%|███████▌  | 519/688 [00:00<00:00, 656.92 Segments/s]\u001b[A\n",
      "Aligning zhpQhgha_KU:  85%|████████▌ | 587/688 [00:00<00:00, 661.05 Segments/s]\u001b[A\n",
      "Aligning zhpQhgha_KU:  95%|█████████▌| 655/688 [00:01<00:00, 665.46 Segments/s]\u001b[A\n",
      "  0%|          | 0/51056 [00:00<?, ? Computational Sequence Entries/s]                        "
     ]
    },
    {
     "name": "stdout",
     "output_type": "stream",
     "text": [
      "\u001b[92m\u001b[1m[2020-12-08 09:00:39.270] | Success | \u001b[0mAlignment to <CMU_MOSI_ModifiedTimestampedWords> complete.\n",
      "\u001b[94m\u001b[1m[2020-12-08 09:00:39.270] | Status  | \u001b[0mReplacing dataset content with aligned computational sequences\n",
      "\u001b[92m\u001b[1m[2020-12-08 09:00:39.274] | Success | \u001b[0mInitialized empty <CMU_MOSI_ModifiedTimestampedWords> computational sequence.\n",
      "\u001b[94m\u001b[1m[2020-12-08 09:00:39.275] | Status  | \u001b[0mChecking the format of the data in <CMU_MOSI_ModifiedTimestampedWords> computational sequence ...\n",
      "\u001b[92m\u001b[1m[2020-12-08 09:00:39.350] | Success | \u001b[0m<CMU_MOSI_ModifiedTimestampedWords> computational sequence data in correct format.\n",
      "\u001b[94m\u001b[1m[2020-12-08 09:00:39.350] | Status  | \u001b[0mChecking the format of the metadata in <CMU_MOSI_ModifiedTimestampedWords> computational sequence ...\n",
      "\u001b[93m\u001b[1m[2020-12-08 09:00:39.350] | Warning | \u001b[0m<CMU_MOSI_ModifiedTimestampedWords> computational sequence does not have all the required metadata ... continuing \n",
      "\u001b[92m\u001b[1m[2020-12-08 09:00:39.350] | Success | \u001b[0mInitialized empty <CMU_MOSI_Visual_Facet_41> computational sequence.\n",
      "\u001b[94m\u001b[1m[2020-12-08 09:00:39.350] | Status  | \u001b[0mChecking the format of the data in <CMU_MOSI_Visual_Facet_41> computational sequence ...\n",
      "\u001b[92m\u001b[1m[2020-12-08 09:00:39.425] | Success | \u001b[0m<CMU_MOSI_Visual_Facet_41> computational sequence data in correct format.\n",
      "\u001b[94m\u001b[1m[2020-12-08 09:00:39.426] | Status  | \u001b[0mChecking the format of the metadata in <CMU_MOSI_Visual_Facet_41> computational sequence ...\n",
      "\u001b[93m\u001b[1m[2020-12-08 09:00:39.426] | Warning | \u001b[0m<CMU_MOSI_Visual_Facet_41> computational sequence does not have all the required metadata ... continuing \n",
      "\u001b[92m\u001b[1m[2020-12-08 09:00:39.426] | Success | \u001b[0mInitialized empty <CMU_MOSI_COVAREP> computational sequence.\n",
      "\u001b[94m\u001b[1m[2020-12-08 09:00:39.426] | Status  | \u001b[0mChecking the format of the data in <CMU_MOSI_COVAREP> computational sequence ...\n"
     ]
    },
    {
     "name": "stderr",
     "output_type": "stream",
     "text": [
      "\r",
      "                                                                      "
     ]
    },
    {
     "name": "stdout",
     "output_type": "stream",
     "text": [
      "\u001b[92m\u001b[1m[2020-12-08 09:00:39.503] | Success | \u001b[0m<CMU_MOSI_COVAREP> computational sequence data in correct format.\n",
      "\u001b[94m\u001b[1m[2020-12-08 09:00:39.503] | Status  | \u001b[0mChecking the format of the metadata in <CMU_MOSI_COVAREP> computational sequence ...\n",
      "\u001b[93m\u001b[1m[2020-12-08 09:00:39.503] | Warning | \u001b[0m<CMU_MOSI_COVAREP> computational sequence does not have all the required metadata ... continuing \n"
     ]
    },
    {
     "name": "stderr",
     "output_type": "stream",
     "text": [
      "\r"
     ]
    }
   ],
   "source": [
    "# we define a simple averaging function that does not depend on intervals\n",
    "def avg(intervals: np.array, features: np.array) -> np.array:\n",
    "    try:\n",
    "        return np.average(features, axis=0)\n",
    "    except:\n",
    "        return features\n",
    "\n",
    "# first we align to words with averaging, collapse_function receives a list of functions\n",
    "dataset.align(text_field, collapse_functions=[avg])"
   ]
  },
  {
   "cell_type": "markdown",
   "metadata": {},
   "source": [
    "## Append annotations to the dataset and get the data points\n",
    "\n",
    "Now that we have a preprocessed dataset, all we need to do is to apply annotations to the data. Annotations are also computational sequences, since they are also just some values distributed on different time spans (e.g 1-3s is 'angry', 12-26s is 'neutral'). Hence, we just add the label computational sequence to the dataset and then align to the labels. Since we (may) want to preserve the whole sequences, this time we don't specify any collapse functions when aligning. \n",
    "\n",
    "Note that after alignment, the keys in the dataset changes from `video_id` to `video_id[segment_no]`, because alignment will segment each datapoint based on the segmentation of the pivot modality (in this case, it is segmented based on labels, which is what we need, and yes, one code block ago they are segmented to word level, which I didn't show you).\n",
    "\n",
    "***Important: DO NOT add the labels together at the beginning, the labels will be segmented during the first alignment to words. This also holds for any situation where you want to do multiple levels of alignment.***"
   ]
  },
  {
   "cell_type": "code",
   "execution_count": 15,
   "metadata": {},
   "outputs": [
    {
     "name": "stderr",
     "output_type": "stream",
     "text": [
      "                                                                   "
     ]
    },
    {
     "name": "stdout",
     "output_type": "stream",
     "text": [
      "\u001b[92m\u001b[1m[2020-12-08 09:04:00.406] | Success | \u001b[0mComputational sequence read from file ./data/CMU_MOSI_Opinion_Labels.csd ...\n",
      "\u001b[94m\u001b[1m[2020-12-08 09:04:00.422] | Status  | \u001b[0mChecking the integrity of the <Opinion Segment Labels> computational sequence ...\n",
      "\u001b[94m\u001b[1m[2020-12-08 09:04:00.422] | Status  | \u001b[0mChecking the format of the data in <Opinion Segment Labels> computational sequence ...\n",
      "\u001b[92m\u001b[1m[2020-12-08 09:04:00.467] | Success | \u001b[0m<Opinion Segment Labels> computational sequence data in correct format.\n",
      "\u001b[94m\u001b[1m[2020-12-08 09:04:00.467] | Status  | \u001b[0mChecking the format of the metadata in <Opinion Segment Labels> computational sequence ...\n",
      "\u001b[93m\u001b[1m[2020-12-08 09:04:00.467] | Warning | \u001b[0m<Opinion Segment Labels> computational sequence does not have all the required metadata ... continuing \n",
      "\u001b[94m\u001b[1m[2020-12-08 09:04:00.467] | Status  | \u001b[0mUnify was called ...\n",
      "\u001b[92m\u001b[1m[2020-12-08 09:04:00.542] | Success | \u001b[0mUnify completed ...\n",
      "\u001b[94m\u001b[1m[2020-12-08 09:04:00.544] | Status  | \u001b[0mPre-alignment based on <CMU_MOSI_Opinion_Labels> computational sequence started ...\n"
     ]
    },
    {
     "name": "stderr",
     "output_type": "stream",
     "text": [
      "\r"
     ]
    },
    {
     "name": "stdout",
     "output_type": "stream",
     "text": [
      "\u001b[94m\u001b[1m[2020-12-08 09:04:00.664] | Status  | \u001b[0mPre-alignment done for <CMU_MOSI_COVAREP> ...\n",
      "\u001b[94m\u001b[1m[2020-12-08 09:04:00.772] | Status  | \u001b[0mPre-alignment done for <CMU_MOSI_ModifiedTimestampedWords> ...\n"
     ]
    },
    {
     "name": "stderr",
     "output_type": "stream",
     "text": [
      "Overall Progress:   0%|          | 0/93 [00:00<?, ? Computational Sequence Entries/s]\n",
      "  0%|          | 0/13 [00:00<?, ? Segments/s]\u001b[A\n",
      "Aligning 03bSnISJMiM:   0%|          | 0/13 [00:00<?, ? Segments/s]\u001b[A\n",
      "                                                                   \u001b[A\n",
      "  0%|          | 0/25 [00:00<?, ? Segments/s]\u001b[A\n",
      "Aligning 0h-zjBukYpk:   0%|          | 0/25 [00:00<?, ? Segments/s]\u001b[A\n",
      "                                                                   \u001b[A\n",
      "  0%|          | 0/14 [00:00<?, ? Segments/s]\u001b[A\n",
      "Aligning 1DmNV9C1hbY:   0%|          | 0/14 [00:00<?, ? Segments/s]\u001b[A\n",
      "                                                                   \u001b[A\n",
      "  0%|          | 0/30 [00:00<?, ? Segments/s]\u001b[A\n",
      "Aligning 1iG0909rllw:   0%|          | 0/30 [00:00<?, ? Segments/s]\u001b[A\n",
      "Overall Progress:   4%|▍         | 4/93 [00:00<00:02, 31.06 Computational Sequence Entries/s]\n",
      "  0%|          | 0/63 [00:00<?, ? Segments/s]\u001b[A\n",
      "Aligning 2WGyTLYerpo:   0%|          | 0/63 [00:00<?, ? Segments/s]\u001b[A"
     ]
    },
    {
     "name": "stdout",
     "output_type": "stream",
     "text": [
      "\u001b[94m\u001b[1m[2020-12-08 09:04:00.891] | Status  | \u001b[0mPre-alignment done for <CMU_MOSI_Visual_Facet_41> ...\n",
      "\u001b[94m\u001b[1m[2020-12-08 09:04:00.895] | Status  | \u001b[0mAlignment starting ...\n"
     ]
    },
    {
     "name": "stderr",
     "output_type": "stream",
     "text": [
      "\n",
      "                                                                   \u001b[A\n",
      "  0%|          | 0/30 [00:00<?, ? Segments/s]\u001b[A\n",
      "Aligning 2iD-tVS8NPw:   0%|          | 0/30 [00:00<?, ? Segments/s]\u001b[A\n",
      "Overall Progress:   6%|▋         | 6/93 [00:00<00:03, 23.10 Computational Sequence Entries/s]\n",
      "  0%|          | 0/24 [00:00<?, ? Segments/s]\u001b[A\n",
      "Aligning 5W7Z1C_fDaE:   0%|          | 0/24 [00:00<?, ? Segments/s]\u001b[A\n",
      "                                                                   \u001b[A\n",
      "  0%|          | 0/12 [00:00<?, ? Segments/s]\u001b[A\n",
      "Aligning 6Egk_28TtTM:   0%|          | 0/12 [00:00<?, ? Segments/s]\u001b[A\n",
      "                                                                   \u001b[A\n",
      "  0%|          | 0/14 [00:00<?, ? Segments/s]\u001b[A\n",
      "Aligning 6_0THN4chvY:   0%|          | 0/14 [00:00<?, ? Segments/s]\u001b[A\n",
      "                                                                   \u001b[A\n",
      "  0%|          | 0/19 [00:00<?, ? Segments/s]\u001b[A\n",
      "Aligning 73jzhE8R1TQ:   0%|          | 0/19 [00:00<?, ? Segments/s]\u001b[A\n",
      "Overall Progress:  11%|█         | 10/93 [00:00<00:03, 26.28 Computational Sequence Entries/s]\n",
      "  0%|          | 0/39 [00:00<?, ? Segments/s]\u001b[A\n",
      "Aligning 7JsX8y1ysxY:   0%|          | 0/39 [00:00<?, ? Segments/s]\u001b[A\n",
      "                                                                   \u001b[A\n",
      "  0%|          | 0/23 [00:00<?, ? Segments/s]\u001b[A\n",
      "Aligning 8OtFthrtaJM:   0%|          | 0/23 [00:00<?, ? Segments/s]\u001b[A\n",
      "                                                                   \u001b[A\n",
      "  0%|          | 0/30 [00:00<?, ? Segments/s]\u001b[A\n",
      "Aligning 8d-gEyoeBzc:   0%|          | 0/30 [00:00<?, ? Segments/s]\u001b[A\n",
      "Overall Progress:  14%|█▍        | 13/93 [00:00<00:03, 25.09 Computational Sequence Entries/s]\n",
      "  0%|          | 0/26 [00:00<?, ? Segments/s]\u001b[A\n",
      "Aligning 8qrpnFRGt2A:   0%|          | 0/26 [00:00<?, ? Segments/s]\u001b[A\n",
      "                                                                   \u001b[A\n",
      "  0%|          | 0/25 [00:00<?, ? Segments/s]\u001b[A\n",
      "Aligning 9J25DZhivz8:   0%|          | 0/25 [00:00<?, ? Segments/s]\u001b[A\n",
      "                                                                   \u001b[A\n",
      "  0%|          | 0/25 [00:00<?, ? Segments/s]\u001b[A\n",
      "Aligning 9T9Hf74oK10:   0%|          | 0/25 [00:00<?, ? Segments/s]\u001b[A\n",
      "Overall Progress:  17%|█▋        | 16/93 [00:00<00:02, 26.13 Computational Sequence Entries/s]\n",
      "  0%|          | 0/12 [00:00<?, ? Segments/s]\u001b[A\n",
      "Aligning 9c67fiY0wGQ:   0%|          | 0/12 [00:00<?, ? Segments/s]\u001b[A\n",
      "                                                                   \u001b[A\n",
      "  0%|          | 0/33 [00:00<?, ? Segments/s]\u001b[A\n",
      "Aligning 9qR7uwkblbs:   0%|          | 0/33 [00:00<?, ? Segments/s]\u001b[A\n",
      "                                                                   \u001b[A\n",
      "  0%|          | 0/31 [00:00<?, ? Segments/s]\u001b[A\n",
      "Aligning Af8D0E4ZXaw:   0%|          | 0/31 [00:00<?, ? Segments/s]\u001b[A\n",
      "Overall Progress:  20%|██        | 19/93 [00:00<00:02, 24.68 Computational Sequence Entries/s]\n",
      "  0%|          | 0/31 [00:00<?, ? Segments/s]\u001b[A\n",
      "Aligning BI97DNYfe5I:   0%|          | 0/31 [00:00<?, ? Segments/s]\u001b[A\n",
      "                                                                   \u001b[A\n",
      "  0%|          | 0/31 [00:00<?, ? Segments/s]\u001b[A\n",
      "Aligning BXuRRbG0Ugk:   0%|          | 0/31 [00:00<?, ? Segments/s]\u001b[A\n",
      "                                                                   \u001b[A\n",
      "  0%|          | 0/22 [00:00<?, ? Segments/s]\u001b[A\n",
      "Aligning Bfr499ggo-0:   0%|          | 0/22 [00:00<?, ? Segments/s]\u001b[A\n",
      "Overall Progress:  24%|██▎       | 22/93 [00:00<00:02, 25.20 Computational Sequence Entries/s]\n",
      "  0%|          | 0/30 [00:00<?, ? Segments/s]\u001b[A\n",
      "Aligning BioHAh1qJAQ:   0%|          | 0/30 [00:00<?, ? Segments/s]\u001b[A\n",
      "                                                                   \u001b[A\n",
      "  0%|          | 0/26 [00:00<?, ? Segments/s]\u001b[A\n",
      "Aligning BvYR0L6f2Ig:   0%|          | 0/26 [00:00<?, ? Segments/s]\u001b[A\n",
      "                                                                   \u001b[A\n",
      "  0%|          | 0/44 [00:00<?, ? Segments/s]\u001b[A\n",
      "Aligning Ci-AH39fi3Y:   0%|          | 0/44 [00:00<?, ? Segments/s]\u001b[A\n",
      "Overall Progress:  27%|██▋       | 25/93 [00:00<00:02, 24.71 Computational Sequence Entries/s]\n",
      "  0%|          | 0/31 [00:00<?, ? Segments/s]\u001b[A\n",
      "Aligning Clx4VXItLTE:   0%|          | 0/31 [00:00<?, ? Segments/s]\u001b[A\n",
      "                                                                   \u001b[A\n",
      "  0%|          | 0/18 [00:00<?, ? Segments/s]\u001b[A\n",
      "Aligning Dg_0XKD0Mf4:   0%|          | 0/18 [00:00<?, ? Segments/s]\u001b[A\n",
      "                                                                   \u001b[A\n",
      "  0%|          | 0/21 [00:00<?, ? Segments/s]\u001b[A\n",
      "Aligning G-xst2euQUc:   0%|          | 0/21 [00:00<?, ? Segments/s]\u001b[A\n",
      "Overall Progress:  30%|███       | 28/93 [00:01<00:02, 24.00 Computational Sequence Entries/s]\n",
      "  0%|          | 0/29 [00:00<?, ? Segments/s]\u001b[A\n",
      "Aligning G6GlGvlkxAQ:   0%|          | 0/29 [00:00<?, ? Segments/s]\u001b[A\n",
      "                                                                   \u001b[A\n",
      "  0%|          | 0/18 [00:00<?, ? Segments/s]\u001b[A\n",
      "Aligning GWuJjcEuzt8:   0%|          | 0/18 [00:00<?, ? Segments/s]\u001b[A\n",
      "                                                                   \u001b[A\n",
      "  0%|          | 0/34 [00:00<?, ? Segments/s]\u001b[A\n",
      "Aligning HEsqda8_d0Q:   0%|          | 0/34 [00:00<?, ? Segments/s]\u001b[A\n",
      "Overall Progress:  33%|███▎      | 31/93 [00:01<00:02, 23.11 Computational Sequence Entries/s]\n",
      "  0%|          | 0/39 [00:00<?, ? Segments/s]\u001b[A\n",
      "Aligning I5y0__X72p0:   0%|          | 0/39 [00:00<?, ? Segments/s]\u001b[A\n",
      "                                                                   \u001b[A\n",
      "  0%|          | 0/16 [00:00<?, ? Segments/s]\u001b[A\n",
      "Aligning Iu2PFX3z_1s:   0%|          | 0/16 [00:00<?, ? Segments/s]\u001b[A\n",
      "                                                                   \u001b[A\n",
      "  0%|          | 0/22 [00:00<?, ? Segments/s]\u001b[A\n",
      "Aligning IumbAb8q2dM:   0%|          | 0/22 [00:00<?, ? Segments/s]\u001b[A\n",
      "Overall Progress:  37%|███▋      | 34/93 [00:01<00:02, 22.82 Computational Sequence Entries/s]\n",
      "  0%|          | 0/20 [00:00<?, ? Segments/s]\u001b[A\n",
      "Aligning Jkswaaud0hk:   0%|          | 0/20 [00:00<?, ? Segments/s]\u001b[A\n",
      "                                                                   \u001b[A\n",
      "  0%|          | 0/29 [00:00<?, ? Segments/s]\u001b[A\n",
      "Aligning LSi-o-IrDMs:   0%|          | 0/29 [00:00<?, ? Segments/s]\u001b[A\n",
      "                                                                   \u001b[A\n",
      "  0%|          | 0/18 [00:00<?, ? Segments/s]\u001b[A\n",
      "Aligning MLal-t_vJPM:   0%|          | 0/18 [00:00<?, ? Segments/s]\u001b[A\n",
      "Overall Progress:  40%|███▉      | 37/93 [00:01<00:02, 23.39 Computational Sequence Entries/s]\n",
      "  0%|          | 0/13 [00:00<?, ? Segments/s]\u001b[A\n",
      "Aligning Njd1F0vZSm4:   0%|          | 0/13 [00:00<?, ? Segments/s]\u001b[A\n",
      "                                                                   \u001b[A\n",
      "  0%|          | 0/32 [00:00<?, ? Segments/s]\u001b[A\n",
      "Aligning Nzq88NnDkEk:   0%|          | 0/32 [00:00<?, ? Segments/s]\u001b[A\n",
      "                                                                   \u001b[A\n",
      "  0%|          | 0/16 [00:00<?, ? Segments/s]\u001b[A\n",
      "Aligning OQvJTdtJ2H4:   0%|          | 0/16 [00:00<?, ? Segments/s]\u001b[A\n",
      "                                                                   \u001b[A\n",
      "  0%|          | 0/24 [00:00<?, ? Segments/s]\u001b[A\n",
      "Aligning OtBXNcAL_lE:   0%|          | 0/24 [00:00<?, ? Segments/s]\u001b[A\n",
      "Overall Progress:  44%|████▍     | 41/93 [00:01<00:02, 25.92 Computational Sequence Entries/s]\n",
      "  0%|          | 0/25 [00:00<?, ? Segments/s]\u001b[A\n",
      "Aligning Oz06ZWiO20M:   0%|          | 0/25 [00:00<?, ? Segments/s]\u001b[A\n",
      "                                                                   \u001b[A\n",
      "  0%|          | 0/13 [00:00<?, ? Segments/s]\u001b[A\n",
      "Aligning POKffnXeBds:   0%|          | 0/13 [00:00<?, ? Segments/s]\u001b[A\n",
      "                                                                   \u001b[A\n",
      "  0%|          | 0/12 [00:00<?, ? Segments/s]\u001b[A\n",
      "Aligning PZ-lDQFboO8:   0%|          | 0/12 [00:00<?, ? Segments/s]\u001b[A\n",
      "Overall Progress:  47%|████▋     | 44/93 [00:01<00:01, 26.52 Computational Sequence Entries/s]\n",
      "  0%|          | 0/18 [00:00<?, ? Segments/s]\u001b[A\n",
      "Aligning QN9ZIUWUXsY:   0%|          | 0/18 [00:00<?, ? Segments/s]\u001b[A\n",
      "                                                                   \u001b[A\n",
      "  0%|          | 0/14 [00:00<?, ? Segments/s]\u001b[A\n",
      "Aligning Qr1Ca94K55A:   0%|          | 0/14 [00:00<?, ? Segments/s]\u001b[A\n"
     ]
    },
    {
     "name": "stderr",
     "output_type": "stream",
     "text": [
      "                                                                   \u001b[A\n",
      "  0%|          | 0/22 [00:00<?, ? Segments/s]\u001b[A\n",
      "Aligning Sqr0AcuoNnk:   0%|          | 0/22 [00:00<?, ? Segments/s]\u001b[A\n",
      "                                                                   \u001b[A\n",
      "  0%|          | 0/15 [00:00<?, ? Segments/s]\u001b[A\n",
      "Aligning TvyZBvOMOTc:   0%|          | 0/15 [00:00<?, ? Segments/s]\u001b[A\n",
      "Overall Progress:  52%|█████▏    | 48/93 [00:01<00:01, 28.50 Computational Sequence Entries/s]\n",
      "  0%|          | 0/17 [00:00<?, ? Segments/s]\u001b[A\n",
      "Aligning VCslbP0mgZI:   0%|          | 0/17 [00:00<?, ? Segments/s]\u001b[A\n",
      "                                                                   \u001b[A\n",
      "  0%|          | 0/55 [00:00<?, ? Segments/s]\u001b[A\n",
      "Aligning VbQk4H8hgr0:   0%|          | 0/55 [00:00<?, ? Segments/s]\u001b[A\n",
      "                                                                   \u001b[A\n",
      "  0%|          | 0/9 [00:00<?, ? Segments/s]\u001b[A\n",
      "Aligning Vj1wYRQjB-o:   0%|          | 0/9 [00:00<?, ? Segments/s]\u001b[A\n",
      "Overall Progress:  55%|█████▍    | 51/93 [00:01<00:01, 28.20 Computational Sequence Entries/s]\n",
      "  0%|          | 0/32 [00:00<?, ? Segments/s]\u001b[A\n",
      "Aligning W8NXH0Djyww:   0%|          | 0/32 [00:00<?, ? Segments/s]\u001b[A\n",
      "                                                                   \u001b[A\n",
      "  0%|          | 0/22 [00:00<?, ? Segments/s]\u001b[A\n",
      "Aligning WKA5OygbEKI:   0%|          | 0/22 [00:00<?, ? Segments/s]\u001b[A\n",
      "                                                                   \u001b[A\n",
      "  0%|          | 0/11 [00:00<?, ? Segments/s]\u001b[A\n",
      "Aligning X3j2zQgwYgE:   0%|          | 0/11 [00:00<?, ? Segments/s]\u001b[A\n",
      "Overall Progress:  58%|█████▊    | 54/93 [00:02<00:01, 27.13 Computational Sequence Entries/s]\n",
      "  0%|          | 0/9 [00:00<?, ? Segments/s]\u001b[A\n",
      "Aligning ZAIRrfG22O0:   0%|          | 0/9 [00:00<?, ? Segments/s]\u001b[A\n",
      "                                                                  \u001b[A\n",
      "  0%|          | 0/34 [00:00<?, ? Segments/s]\u001b[A\n",
      "Aligning ZUXBRvtny7o:   0%|          | 0/34 [00:00<?, ? Segments/s]\u001b[A\n",
      "                                                                   \u001b[A\n",
      "  0%|          | 0/28 [00:00<?, ? Segments/s]\u001b[A\n",
      "Aligning _dI--eQ6qVU:   0%|          | 0/28 [00:00<?, ? Segments/s]\u001b[A\n",
      "Overall Progress:  61%|██████▏   | 57/93 [00:02<00:01, 25.85 Computational Sequence Entries/s]\n",
      "  0%|          | 0/30 [00:00<?, ? Segments/s]\u001b[A\n",
      "Aligning aiEXnCPZubE:   0%|          | 0/30 [00:00<?, ? Segments/s]\u001b[A\n",
      "                                                                   \u001b[A\n",
      "  0%|          | 0/21 [00:00<?, ? Segments/s]\u001b[A\n",
      "Aligning atnd_PF-Lbs:   0%|          | 0/21 [00:00<?, ? Segments/s]\u001b[A\n",
      "                                                                   \u001b[A\n",
      "  0%|          | 0/34 [00:00<?, ? Segments/s]\u001b[A\n",
      "Aligning bOL9jKpeJRs:   0%|          | 0/34 [00:00<?, ? Segments/s]\u001b[A\n",
      "Overall Progress:  65%|██████▍   | 60/93 [00:02<00:01, 25.26 Computational Sequence Entries/s]\n",
      "  0%|          | 0/25 [00:00<?, ? Segments/s]\u001b[A\n",
      "Aligning bvLlb-M3UXU:   0%|          | 0/25 [00:00<?, ? Segments/s]\u001b[A\n",
      "                                                                   \u001b[A\n",
      "  0%|          | 0/15 [00:00<?, ? Segments/s]\u001b[A\n",
      "Aligning c5xsKMxpXnc:   0%|          | 0/15 [00:00<?, ? Segments/s]\u001b[A\n",
      "                                                                   \u001b[A\n",
      "  0%|          | 0/33 [00:00<?, ? Segments/s]\u001b[A\n",
      "Aligning c7UH_rxdZv4:   0%|          | 0/33 [00:00<?, ? Segments/s]\u001b[A\n",
      "Overall Progress:  68%|██████▊   | 63/93 [00:02<00:01, 25.00 Computational Sequence Entries/s]\n",
      "  0%|          | 0/16 [00:00<?, ? Segments/s]\u001b[A\n",
      "Aligning cM3Yna7AavY:   0%|          | 0/16 [00:00<?, ? Segments/s]\u001b[A\n",
      "                                                                   \u001b[A\n",
      "  0%|          | 0/24 [00:00<?, ? Segments/s]\u001b[A\n",
      "Aligning cW1FSBF59ik:   0%|          | 0/24 [00:00<?, ? Segments/s]\u001b[A\n",
      "                                                                   \u001b[A\n",
      "  0%|          | 0/29 [00:00<?, ? Segments/s]\u001b[A\n",
      "Aligning cXypl4FnoZo:   0%|          | 0/29 [00:00<?, ? Segments/s]\u001b[A\n",
      "Overall Progress:  71%|███████   | 66/93 [00:02<00:01, 24.74 Computational Sequence Entries/s]\n",
      "  0%|          | 0/19 [00:00<?, ? Segments/s]\u001b[A\n",
      "Aligning d3_k5Xpfmik:   0%|          | 0/19 [00:00<?, ? Segments/s]\u001b[A\n",
      "                                                                   \u001b[A\n",
      "  0%|          | 0/43 [00:00<?, ? Segments/s]\u001b[A\n",
      "Aligning d6hH302o4v8:   0%|          | 0/43 [00:00<?, ? Segments/s]\u001b[A\n",
      "                                                                   \u001b[A\n",
      "  0%|          | 0/15 [00:00<?, ? Segments/s]\u001b[A\n",
      "Aligning dq3Nf_lMPnE:   0%|          | 0/15 [00:00<?, ? Segments/s]\u001b[A\n",
      "Overall Progress:  74%|███████▍  | 69/93 [00:02<00:00, 25.94 Computational Sequence Entries/s]\n",
      "  0%|          | 0/19 [00:00<?, ? Segments/s]\u001b[A\n",
      "Aligning etzxEpPuc6I:   0%|          | 0/19 [00:00<?, ? Segments/s]\u001b[A\n",
      "                                                                   \u001b[A\n",
      "  0%|          | 0/30 [00:00<?, ? Segments/s]\u001b[A\n",
      "Aligning f9O3YtZ2VfI:   0%|          | 0/30 [00:00<?, ? Segments/s]\u001b[A\n",
      "                                                                   \u001b[A\n",
      "  0%|          | 0/15 [00:00<?, ? Segments/s]\u001b[A\n",
      "Aligning f_pcplsH_V0:   0%|          | 0/15 [00:00<?, ? Segments/s]\u001b[A\n",
      "                                                                   \u001b[A\n",
      "  0%|          | 0/14 [00:00<?, ? Segments/s]\u001b[A\n",
      "Aligning fvVhgmXxadc:   0%|          | 0/14 [00:00<?, ? Segments/s]\u001b[A\n",
      "Overall Progress:  78%|███████▊  | 73/93 [00:02<00:00, 28.28 Computational Sequence Entries/s]\n",
      "  0%|          | 0/18 [00:00<?, ? Segments/s]\u001b[A\n",
      "Aligning iiK8YX8oH1E:   0%|          | 0/18 [00:00<?, ? Segments/s]\u001b[A\n",
      "                                                                   \u001b[A\n",
      "  0%|          | 0/27 [00:00<?, ? Segments/s]\u001b[A\n",
      "Aligning jUzDDGyPkXU:   0%|          | 0/27 [00:00<?, ? Segments/s]\u001b[A\n",
      "                                                                   \u001b[A\n",
      "  0%|          | 0/31 [00:00<?, ? Segments/s]\u001b[A\n",
      "Aligning k5Y_838nuGo:   0%|          | 0/31 [00:00<?, ? Segments/s]\u001b[A\n",
      "Overall Progress:  82%|████████▏ | 76/93 [00:02<00:00, 27.92 Computational Sequence Entries/s]\n",
      "  0%|          | 0/30 [00:00<?, ? Segments/s]\u001b[A\n",
      "Aligning lXPQBPVc5Cw:   0%|          | 0/30 [00:00<?, ? Segments/s]\u001b[A\n",
      "                                                                   \u001b[A\n",
      "  0%|          | 0/10 [00:00<?, ? Segments/s]\u001b[A\n",
      "Aligning nbWiPyCm4g0:   0%|          | 0/10 [00:00<?, ? Segments/s]\u001b[A\n",
      "                                                                   \u001b[A\n",
      "  0%|          | 0/24 [00:00<?, ? Segments/s]\u001b[A\n",
      "Aligning nzpVDcQ0ywM:   0%|          | 0/24 [00:00<?, ? Segments/s]\u001b[A\n",
      "Overall Progress:  85%|████████▍ | 79/93 [00:03<00:00, 28.47 Computational Sequence Entries/s]\n",
      "  0%|          | 0/14 [00:00<?, ? Segments/s]\u001b[A\n",
      "Aligning ob23OKe5a9Q:   0%|          | 0/14 [00:00<?, ? Segments/s]\u001b[A\n",
      "                                                                   \u001b[A\n",
      "  0%|          | 0/16 [00:00<?, ? Segments/s]\u001b[A\n",
      "Aligning pLTX3ipuDJI:   0%|          | 0/16 [00:00<?, ? Segments/s]\u001b[A\n",
      "                                                                   \u001b[A\n",
      "  0%|          | 0/21 [00:00<?, ? Segments/s]\u001b[A\n",
      "Aligning phBUpBr1hSo:   0%|          | 0/21 [00:00<?, ? Segments/s]\u001b[A\n",
      "                                                                   \u001b[A\n",
      "  0%|          | 0/22 [00:00<?, ? Segments/s]\u001b[A\n",
      "Aligning rnaNMUZpvvg:   0%|          | 0/22 [00:00<?, ? Segments/s]\u001b[A\n",
      "Overall Progress:  89%|████████▉ | 83/93 [00:03<00:00, 30.26 Computational Sequence Entries/s]\n",
      "  0%|          | 0/18 [00:00<?, ? Segments/s]\u001b[A\n",
      "Aligning tIrG4oNLFzE:   0%|          | 0/18 [00:00<?, ? Segments/s]\u001b[A\n",
      "                                                                   \u001b[A\n",
      "  0%|          | 0/16 [00:00<?, ? Segments/s]\u001b[A\n",
      "Aligning tStelxIAHjw:   0%|          | 0/16 [00:00<?, ? Segments/s]\u001b[A\n",
      "                                                                   \u001b[A\n",
      "  0%|          | 0/20 [00:00<?, ? Segments/s]\u001b[A\n",
      "Aligning tmZoasNr4rU:   0%|          | 0/20 [00:00<?, ? Segments/s]\u001b[A\n",
      "                                                                   \u001b[A\n",
      "  0%|          | 0/16 [00:00<?, ? Segments/s]\u001b[A\n",
      "Aligning v0zCBqDeKcE:   0%|          | 0/16 [00:00<?, ? Segments/s]\u001b[A\n"
     ]
    },
    {
     "name": "stderr",
     "output_type": "stream",
     "text": [
      "Overall Progress:  94%|█████████▎| 87/93 [00:03<00:00, 32.53 Computational Sequence Entries/s]\n",
      "  0%|          | 0/12 [00:00<?, ? Segments/s]\u001b[A\n",
      "Aligning vvZ4IcEtiZc:   0%|          | 0/12 [00:00<?, ? Segments/s]\u001b[A\n",
      "                                                                   \u001b[A\n",
      "  0%|          | 0/22 [00:00<?, ? Segments/s]\u001b[A\n",
      "Aligning vyB00TXsimI:   0%|          | 0/22 [00:00<?, ? Segments/s]\u001b[A\n",
      "                                                                   \u001b[A\n",
      "  0%|          | 0/30 [00:00<?, ? Segments/s]\u001b[A\n",
      "Aligning wMbj6ajWbic:   0%|          | 0/30 [00:00<?, ? Segments/s]\u001b[A\n",
      "                                                                   \u001b[A\n",
      "  0%|          | 0/24 [00:00<?, ? Segments/s]\u001b[A\n",
      "Aligning yDtzw_Y-7RU:   0%|          | 0/24 [00:00<?, ? Segments/s]\u001b[A\n",
      "Overall Progress:  98%|█████████▊| 91/93 [00:03<00:00, 29.71 Computational Sequence Entries/s]\n",
      "  0%|          | 0/23 [00:00<?, ? Segments/s]\u001b[A\n",
      "Aligning yvsjCA6Y5Fc:   0%|          | 0/23 [00:00<?, ? Segments/s]\u001b[A\n",
      "                                                                   \u001b[A\n",
      "  0%|          | 0/35 [00:00<?, ? Segments/s]\u001b[A\n",
      "Aligning zhpQhgha_KU:   0%|          | 0/35 [00:00<?, ? Segments/s]\u001b[A\n",
      "                                                                                              "
     ]
    },
    {
     "name": "stdout",
     "output_type": "stream",
     "text": [
      "\u001b[92m\u001b[1m[2020-12-08 09:04:04.370] | Success | \u001b[0mAlignment to <CMU_MOSI_Opinion_Labels> complete.\n",
      "\u001b[94m\u001b[1m[2020-12-08 09:04:04.370] | Status  | \u001b[0mReplacing dataset content with aligned computational sequences\n",
      "\u001b[92m\u001b[1m[2020-12-08 09:04:04.491] | Success | \u001b[0mInitialized empty <CMU_MOSI_ModifiedTimestampedWords> computational sequence.\n",
      "\u001b[94m\u001b[1m[2020-12-08 09:04:04.491] | Status  | \u001b[0mChecking the format of the data in <CMU_MOSI_ModifiedTimestampedWords> computational sequence ...\n",
      "\u001b[92m\u001b[1m[2020-12-08 09:04:04.496] | Success | \u001b[0m<CMU_MOSI_ModifiedTimestampedWords> computational sequence data in correct format.\n",
      "\u001b[94m\u001b[1m[2020-12-08 09:04:04.497] | Status  | \u001b[0mChecking the format of the metadata in <CMU_MOSI_ModifiedTimestampedWords> computational sequence ...\n",
      "\u001b[93m\u001b[1m[2020-12-08 09:04:04.497] | Warning | \u001b[0m<CMU_MOSI_ModifiedTimestampedWords> computational sequence does not have all the required metadata ... continuing \n",
      "\u001b[92m\u001b[1m[2020-12-08 09:04:04.497] | Success | \u001b[0mInitialized empty <CMU_MOSI_Visual_Facet_41> computational sequence.\n",
      "\u001b[94m\u001b[1m[2020-12-08 09:04:04.497] | Status  | \u001b[0mChecking the format of the data in <CMU_MOSI_Visual_Facet_41> computational sequence ...\n",
      "\u001b[92m\u001b[1m[2020-12-08 09:04:04.501] | Success | \u001b[0m<CMU_MOSI_Visual_Facet_41> computational sequence data in correct format.\n",
      "\u001b[94m\u001b[1m[2020-12-08 09:04:04.501] | Status  | \u001b[0mChecking the format of the metadata in <CMU_MOSI_Visual_Facet_41> computational sequence ...\n",
      "\u001b[93m\u001b[1m[2020-12-08 09:04:04.501] | Warning | \u001b[0m<CMU_MOSI_Visual_Facet_41> computational sequence does not have all the required metadata ... continuing \n",
      "\u001b[92m\u001b[1m[2020-12-08 09:04:04.501] | Success | \u001b[0mInitialized empty <CMU_MOSI_COVAREP> computational sequence.\n",
      "\u001b[94m\u001b[1m[2020-12-08 09:04:04.501] | Status  | \u001b[0mChecking the format of the data in <CMU_MOSI_COVAREP> computational sequence ...\n",
      "\u001b[92m\u001b[1m[2020-12-08 09:04:04.506] | Success | \u001b[0m<CMU_MOSI_COVAREP> computational sequence data in correct format.\n",
      "\u001b[94m\u001b[1m[2020-12-08 09:04:04.506] | Status  | \u001b[0mChecking the format of the metadata in <CMU_MOSI_COVAREP> computational sequence ...\n",
      "\u001b[93m\u001b[1m[2020-12-08 09:04:04.506] | Warning | \u001b[0m<CMU_MOSI_COVAREP> computational sequence does not have all the required metadata ... continuing \n",
      "\u001b[92m\u001b[1m[2020-12-08 09:04:04.506] | Success | \u001b[0mInitialized empty <CMU_MOSI_Opinion_Labels> computational sequence.\n",
      "\u001b[94m\u001b[1m[2020-12-08 09:04:04.506] | Status  | \u001b[0mChecking the format of the data in <CMU_MOSI_Opinion_Labels> computational sequence ...\n",
      "\u001b[92m\u001b[1m[2020-12-08 09:04:04.510] | Success | \u001b[0m<CMU_MOSI_Opinion_Labels> computational sequence data in correct format.\n",
      "\u001b[94m\u001b[1m[2020-12-08 09:04:04.510] | Status  | \u001b[0mChecking the format of the metadata in <CMU_MOSI_Opinion_Labels> computational sequence ...\n",
      "\u001b[93m\u001b[1m[2020-12-08 09:04:04.510] | Warning | \u001b[0m<CMU_MOSI_Opinion_Labels> computational sequence does not have all the required metadata ... continuing \n"
     ]
    },
    {
     "name": "stderr",
     "output_type": "stream",
     "text": [
      "\r"
     ]
    }
   ],
   "source": [
    "label_field = 'CMU_MOSI_Opinion_Labels'\n",
    "\n",
    "# we add and align to lables to obtain labeled segments\n",
    "# this time we don't apply collapse functions so that the temporal sequences are preserved\n",
    "label_recipe = {label_field: os.path.join(DATA_PATH, label_field + '.csd')}\n",
    "dataset.add_computational_sequences(label_recipe, destination=None)\n",
    "dataset.align(label_field)"
   ]
  },
  {
   "cell_type": "code",
   "execution_count": 18,
   "metadata": {},
   "outputs": [
    {
     "name": "stdout",
     "output_type": "stream",
     "text": [
      "['03bSnISJMiM[0]', '03bSnISJMiM[1]', '03bSnISJMiM[2]', '03bSnISJMiM[3]', '03bSnISJMiM[4]', '03bSnISJMiM[5]', '03bSnISJMiM[6]', '03bSnISJMiM[7]', '03bSnISJMiM[8]', '03bSnISJMiM[9]']\n"
     ]
    }
   ],
   "source": [
    "# check out what the keys look like now\n",
    "print(list(dataset[text_field].keys())[:10])"
   ]
  },
  {
   "cell_type": "markdown",
   "metadata": {},
   "source": [
    "## Splitting the dataset\n",
    "\n",
    "Now it comes to our final step: splitting the dataset into train/dev/test splits. This code block is a bit long in itself, so be patience and step through carefully with the explanatory comments.\n",
    "\n",
    "The SDK provides the splits in terms of video IDs (which video belong to which split), however, after alignment our dataset keys already changed from `video_id` to `video_id[segment_no]`. Hence, we need to extract the video ID when looping through the data to determine which split each data point belongs to.\n",
    "\n",
    "In the following data processing, I also include instance-wise Z-normalization (subtract by mean and divide by standard dev) and converted words to unique IDs.\n",
    "\n",
    "This example is based on PyTorch so I am using PyTorch related utils, but the same procedure should be easy to adapt to other frameworks."
   ]
  },
  {
   "cell_type": "code",
   "execution_count": 19,
   "metadata": {},
   "outputs": [
    {
     "name": "stdout",
     "output_type": "stream",
     "text": [
      "['tmZoasNr4rU', 'zhpQhgha_KU', 'lXPQBPVc5Cw', 'iiK8YX8oH1E', 'tStelxIAHjw', 'nzpVDcQ0ywM', 'etzxEpPuc6I', 'cW1FSBF59ik', 'd6hH302o4v8', 'k5Y_838nuGo', 'pLTX3ipuDJI', 'jUzDDGyPkXU', 'f_pcplsH_V0', 'yvsjCA6Y5Fc', 'nbWiPyCm4g0', 'rnaNMUZpvvg', 'wMbj6ajWbic', 'cM3Yna7AavY', 'yDtzw_Y-7RU', 'vyB00TXsimI', 'dq3Nf_lMPnE', 'phBUpBr1hSo', 'd3_k5Xpfmik', 'v0zCBqDeKcE', 'tIrG4oNLFzE', 'fvVhgmXxadc', 'ob23OKe5a9Q', 'cXypl4FnoZo', 'vvZ4IcEtiZc', 'f9O3YtZ2VfI', 'c7UH_rxdZv4']\n"
     ]
    }
   ],
   "source": [
    "# obtain the train/dev/test splits - these splits are based on video IDs\n",
    "train_split = DATASET.standard_folds.standard_train_fold\n",
    "dev_split = DATASET.standard_folds.standard_valid_fold\n",
    "test_split = DATASET.standard_folds.standard_test_fold\n",
    "\n",
    "# inspect the splits: they only contain video IDs\n",
    "print(test_split)"
   ]
  },
  {
   "cell_type": "code",
   "execution_count": 20,
   "metadata": {},
   "outputs": [
    {
     "name": "stderr",
     "output_type": "stream",
     "text": [
      "/home/zaid/anaconda3/envs/mm/lib/python3.6/site-packages/ipykernel_launcher.py:67: RuntimeWarning: invalid value encountered in true_divide\n",
      "/home/zaid/anaconda3/envs/mm/lib/python3.6/site-packages/numpy/core/_methods.py:205: RuntimeWarning: overflow encountered in multiply\n",
      "  x = um.multiply(x, x, out=x)\n",
      "/home/zaid/anaconda3/envs/mm/lib/python3.6/site-packages/ipykernel_launcher.py:66: RuntimeWarning: invalid value encountered in true_divide\n"
     ]
    },
    {
     "name": "stdout",
     "output_type": "stream",
     "text": [
      "Total number of 0 datapoints have been dropped.\n"
     ]
    },
    {
     "name": "stderr",
     "output_type": "stream",
     "text": [
      "/home/zaid/anaconda3/envs/mm/lib/python3.6/site-packages/numpy/core/_methods.py:160: RuntimeWarning: overflow encountered in reduce\n",
      "  ret = umr_sum(arr, axis, dtype, out, keepdims)\n",
      "/home/zaid/anaconda3/envs/mm/lib/python3.6/site-packages/numpy/core/_methods.py:192: RuntimeWarning: overflow encountered in reduce\n",
      "  arrmean = umr_sum(arr, axis, dtype, keepdims=True)\n"
     ]
    }
   ],
   "source": [
    "# we can see they are in the format of 'video_id[segment_no]', but the splits was specified with video_id only\n",
    "# we need to use regex or something to match the video IDs...\n",
    "import torch\n",
    "import torch.nn as nn\n",
    "\n",
    "from torch.nn.utils.rnn import pad_sequence, pack_padded_sequence, pad_packed_sequence\n",
    "from torch.utils.data import DataLoader, Dataset\n",
    "from tqdm import tqdm_notebook\n",
    "from collections import defaultdict\n",
    "\n",
    "# a sentinel epsilon for safe division, without it we will replace illegal values with a constant\n",
    "EPS = 0\n",
    "\n",
    "# construct a word2id mapping that automatically takes increment when new words are encountered\n",
    "word2id = defaultdict(lambda: len(word2id))\n",
    "UNK = word2id['<unk>']\n",
    "PAD = word2id['<pad>']\n",
    "\n",
    "# place holders for the final train/dev/test dataset\n",
    "train = []\n",
    "dev = []\n",
    "test = []\n",
    "\n",
    "# define a regular expression to extract the video ID out of the keys\n",
    "pattern = re.compile('(.*)\\[.*\\]')\n",
    "num_drop = 0 # a counter to count how many data points went into some processing issues\n",
    "\n",
    "for segment in dataset[label_field].keys():\n",
    "    \n",
    "    # get the video ID and the features out of the aligned dataset\n",
    "    vid = re.search(pattern, segment).group(1)\n",
    "    label = dataset[label_field][segment]['features']\n",
    "    _words = dataset[text_field][segment]['features']\n",
    "    _visual = dataset[visual_field][segment]['features']\n",
    "    _acoustic = dataset[acoustic_field][segment]['features']\n",
    "\n",
    "    # if the sequences are not same length after alignment, there must be some problem with some modalities\n",
    "    # we should drop it or inspect the data again\n",
    "    if not _words.shape[0] == _visual.shape[0] == _acoustic.shape[0]:\n",
    "        print(f\"Encountered datapoint {vid} with text shape {_words.shape}, visual shape {_visual.shape}, acoustic shape {_acoustic.shape}\")\n",
    "        num_drop += 1\n",
    "        continue\n",
    "\n",
    "    # remove nan values\n",
    "    label = np.nan_to_num(label)\n",
    "    _visual = np.nan_to_num(_visual)\n",
    "    _acoustic = np.nan_to_num(_acoustic)\n",
    "\n",
    "    # remove speech pause tokens - this is in general helpful\n",
    "    # we should remove speech pauses and corresponding visual/acoustic features together\n",
    "    # otherwise modalities would no longer be aligned\n",
    "    words = []\n",
    "    visual = []\n",
    "    acoustic = []\n",
    "    for i, word in enumerate(_words):\n",
    "        if word[0] != b'sp':\n",
    "            words.append(word2id[word[0].decode('utf-8')]) # SDK stores strings as bytes, decode into strings here\n",
    "            visual.append(_visual[i, :])\n",
    "            acoustic.append(_acoustic[i, :])\n",
    "\n",
    "    words = np.asarray(words)\n",
    "    visual = np.asarray(visual)\n",
    "    acoustic = np.asarray(acoustic)\n",
    "\n",
    "    # z-normalization per instance and remove nan/infs\n",
    "    visual = np.nan_to_num((visual - visual.mean(0, keepdims=True)) / (EPS + np.std(visual, axis=0, keepdims=True)))\n",
    "    acoustic = np.nan_to_num((acoustic - acoustic.mean(0, keepdims=True)) / (EPS + np.std(acoustic, axis=0, keepdims=True)))\n",
    "\n",
    "    if vid in train_split:\n",
    "        train.append(((words, visual, acoustic), label, segment))\n",
    "    elif vid in dev_split:\n",
    "        dev.append(((words, visual, acoustic), label, segment))\n",
    "    elif vid in test_split:\n",
    "        test.append(((words, visual, acoustic), label, segment))\n",
    "    else:\n",
    "        print(f\"Found video that doesn't belong to any splits: {vid}\")\n",
    "\n",
    "print(f\"Total number of {num_drop} datapoints have been dropped.\")\n",
    "\n",
    "# turn off the word2id - define a named function here to allow for pickling\n",
    "def return_unk():\n",
    "    return UNK\n",
    "word2id.default_factory = return_unk"
   ]
  },
  {
   "cell_type": "markdown",
   "metadata": {},
   "source": [
    "## Inspect the dataset\n",
    "\n",
    "Now that we have loaded the data, we can check the sizes of each split, data point shapes, vocabulary size, etc."
   ]
  },
  {
   "cell_type": "code",
   "execution_count": 22,
   "metadata": {
    "scrolled": true
   },
   "outputs": [
    {
     "name": "stdout",
     "output_type": "stream",
     "text": [
      "1283\n",
      "229\n",
      "686\n",
      "(5, 47)\n",
      "(1, 1)\n",
      "[[2.4]]\n",
      "Total vocab size: 3143\n"
     ]
    }
   ],
   "source": [
    "# let's see the size of each set and shape of data\n",
    "print(len(train))\n",
    "print(len(dev))\n",
    "print(len(test))\n",
    "\n",
    "print(train[0][0][1].shape)\n",
    "print(train[0][1].shape)\n",
    "print(train[0][1])\n",
    "\n",
    "print(f\"Total vocab size: {len(word2id)}\")"
   ]
  },
  {
   "cell_type": "markdown",
   "metadata": {},
   "source": [
    "## Collate function in PyTorch\n",
    "\n",
    "Collate functions are functions used by PyTorch dataloader to gather batched data from dataset. It loads multiple data points from an iterable dataset object and put them in a certain format. Here we just use the lists we've constructed as the dataset and assume PyTorch dataloader will operate on that."
   ]
  },
  {
   "cell_type": "code",
   "execution_count": 23,
   "metadata": {},
   "outputs": [
    {
     "name": "stdout",
     "output_type": "stream",
     "text": [
      "Word Vectors:  torch.Size([26, 8])\n",
      "Visual Features:  torch.Size([26, 8, 47])\n",
      "Acoustic Features:  torch.Size([26, 8, 74])\n",
      "Labels:  tensor([[-1.0000],\n",
      "        [-2.0000],\n",
      "        [-0.8000],\n",
      "        [-0.4000],\n",
      "        [ 0.0000],\n",
      "        [ 0.0000],\n",
      "        [ 1.0000],\n",
      "        [ 0.6000]])\n",
      "Lengths:  tensor([26, 14, 13, 12, 12,  9,  8,  4])\n"
     ]
    }
   ],
   "source": [
    "def multi_collate(batch):\n",
    "    '''\n",
    "    Collate functions assume batch = [Dataset[i] for i in index_set]\n",
    "    '''\n",
    "    # for later use we sort the batch in descending order of length\n",
    "    batch = sorted(batch, key=lambda x: x[0][0].shape[0], reverse=True)\n",
    "    \n",
    "    # get the data out of the batch - use pad sequence util functions from PyTorch to pad things\n",
    "    labels = torch.cat([torch.from_numpy(sample[1]) for sample in batch], dim=0)\n",
    "    sentences = pad_sequence([torch.LongTensor(sample[0][0]) for sample in batch], padding_value=PAD)\n",
    "    visual = pad_sequence([torch.FloatTensor(sample[0][1]) for sample in batch])\n",
    "    acoustic = pad_sequence([torch.FloatTensor(sample[0][2]) for sample in batch])\n",
    "    \n",
    "    # lengths are useful later in using RNNs\n",
    "    lengths = torch.LongTensor([sample[0][0].shape[0] for sample in batch])\n",
    "    return sentences, visual, acoustic, labels, lengths\n",
    "\n",
    "# construct dataloaders, dev and test could use around ~X3 times batch size since no_grad is used during eval\n",
    "batch_sz = 56\n",
    "train_loader = DataLoader(train, shuffle=True, batch_size=batch_sz, collate_fn=multi_collate)\n",
    "dev_loader = DataLoader(dev, shuffle=False, batch_size=batch_sz*3, collate_fn=multi_collate)\n",
    "test_loader = DataLoader(test, shuffle=False, batch_size=batch_sz*3, collate_fn=multi_collate)\n",
    "\n",
    "# let's create a temporary dataloader just to see how the batch looks like\n",
    "temp_loader = iter(DataLoader(test, shuffle=True, batch_size=8, collate_fn=multi_collate))\n",
    "batch = next(temp_loader)\n",
    "\n",
    "print(\"Word Vectors: \", batch[0].shape) # word vectors, padded to maxlen\n",
    "print(\"Visual Features: \", batch[1].shape) # visual features\n",
    "print(\"Acoustic Features: \", batch[2].shape) # acoustic features\n",
    "print(\"Labels: \", batch[3]) # labels\n",
    "print(\"Lengths: \", batch[4]) # lengths"
   ]
  },
  {
   "cell_type": "code",
   "execution_count": 27,
   "metadata": {},
   "outputs": [
    {
     "name": "stdout",
     "output_type": "stream",
     "text": [
      "great its not polished quite as much as i would like it to\n",
      "[[-1.]]\n",
      "I5y0__X72p0[16]\n"
     ]
    }
   ],
   "source": [
    "# Let's actually inspect the transcripts to ensure it's correct\n",
    "id2word = {v:k for k, v in word2id.items()}\n",
    "examine_target = train\n",
    "idx = np.random.randint(0, len(examine_target))\n",
    "print(' '.join(list(map(lambda x: id2word[x], examine_target[idx][0][0].tolist()))))\n",
    "# print(' '.join(examine_target[idx][0]))\n",
    "print(examine_target[idx][1])\n",
    "print(examine_target[idx][2])"
   ]
  },
  {
   "cell_type": "markdown",
   "metadata": {},
   "source": [
    "I think one problem with this way of doing things is that I don't have the original transcripts, so I can't compare _exactly_ to make sure I haven't made any breaking changes, but it looks okay to me."
   ]
  },
  {
   "cell_type": "markdown",
   "metadata": {},
   "source": [
    "## Define a multimodal model\n",
    "\n",
    "Here we show a simple example of late-fusion LSTM. Late-fusion refers to combining the features from different modalities at the final prediction stage, without introducing any interactions between them before that."
   ]
  },
  {
   "cell_type": "code",
   "execution_count": 28,
   "metadata": {},
   "outputs": [],
   "source": [
    "# let's define a simple model that can deal with multimodal variable length sequence\n",
    "class LFLSTM(nn.Module):\n",
    "    def __init__(self, input_sizes, hidden_sizes, fc1_size, output_size, dropout_rate):\n",
    "        super(LFLSTM, self).__init__()\n",
    "        self.input_size = input_sizes\n",
    "        self.hidden_size = hidden_sizes\n",
    "        self.fc1_size = fc1_size\n",
    "        self.output_size = output_size\n",
    "        self.dropout_rate = dropout_rate\n",
    "        \n",
    "        # defining modules - two layer bidirectional LSTM with layer norm in between\n",
    "        self.embed = nn.Embedding(len(word2id), input_sizes[0])\n",
    "        self.trnn1 = nn.LSTM(input_sizes[0], hidden_sizes[0], bidirectional=True)\n",
    "        self.trnn2 = nn.LSTM(2*hidden_sizes[0], hidden_sizes[0], bidirectional=True)\n",
    "        \n",
    "        self.vrnn1 = nn.LSTM(input_sizes[1], hidden_sizes[1], bidirectional=True)\n",
    "        self.vrnn2 = nn.LSTM(2*hidden_sizes[1], hidden_sizes[1], bidirectional=True)\n",
    "        \n",
    "        self.arnn1 = nn.LSTM(input_sizes[2], hidden_sizes[2], bidirectional=True)\n",
    "        self.arnn2 = nn.LSTM(2*hidden_sizes[2], hidden_sizes[2], bidirectional=True)\n",
    "\n",
    "        self.fc1 = nn.Linear(sum(hidden_sizes)*4, fc1_size)\n",
    "        self.fc2 = nn.Linear(fc1_size, output_size)\n",
    "        self.relu = nn.ReLU()\n",
    "        self.dropout = nn.Dropout(dropout_rate)\n",
    "        self.tlayer_norm = nn.LayerNorm((hidden_sizes[0]*2,))\n",
    "        self.vlayer_norm = nn.LayerNorm((hidden_sizes[1]*2,))\n",
    "        self.alayer_norm = nn.LayerNorm((hidden_sizes[2]*2,))\n",
    "        self.bn = nn.BatchNorm1d(sum(hidden_sizes)*4)\n",
    "\n",
    "        \n",
    "    def extract_features(self, sequence, lengths, rnn1, rnn2, layer_norm):\n",
    "        packed_sequence = pack_padded_sequence(sequence, lengths)\n",
    "        packed_h1, (final_h1, _) = rnn1(packed_sequence)\n",
    "        padded_h1, _ = pad_packed_sequence(packed_h1)\n",
    "        normed_h1 = layer_norm(padded_h1)\n",
    "        packed_normed_h1 = pack_padded_sequence(normed_h1, lengths)\n",
    "        _, (final_h2, _) = rnn2(packed_normed_h1)\n",
    "        return final_h1, final_h2\n",
    "\n",
    "        \n",
    "    def fusion(self, sentences, visual, acoustic, lengths):\n",
    "        batch_size = lengths.size(0)\n",
    "        sentences = self.embed(sentences)\n",
    "        \n",
    "        # extract features from text modality\n",
    "        final_h1t, final_h2t = self.extract_features(sentences, lengths, self.trnn1, self.trnn2, self.tlayer_norm)\n",
    "        \n",
    "        # extract features from visual modality\n",
    "        final_h1v, final_h2v = self.extract_features(visual, lengths, self.vrnn1, self.vrnn2, self.vlayer_norm)\n",
    "        \n",
    "        # extract features from acoustic modality\n",
    "        final_h1a, final_h2a = self.extract_features(acoustic, lengths, self.arnn1, self.arnn2, self.alayer_norm)\n",
    "\n",
    "        \n",
    "        # simple late fusion -- concatenation + normalization\n",
    "        h = torch.cat((final_h1t, final_h2t, final_h1v, final_h2v, final_h1a, final_h2a),\n",
    "                       dim=2).permute(1, 0, 2).contiguous().view(batch_size, -1)\n",
    "        return self.bn(h)\n",
    "\n",
    "    def forward(self, sentences, visual, acoustic, lengths):\n",
    "        batch_size = lengths.size(0)\n",
    "        h = self.fusion(sentences, visual, acoustic, lengths)\n",
    "        h = self.fc1(h)\n",
    "        h = self.dropout(h)\n",
    "        h = self.relu(h)\n",
    "        o = self.fc2(h)\n",
    "        return o"
   ]
  },
  {
   "cell_type": "markdown",
   "metadata": {},
   "source": [
    "## Load pretrained embeddings\n",
    "\n",
    "We define a function for loading pretrained word embeddings stored in GloVe-style file. Contextualized embeddings obviously cannot be stored and loaded this way, though."
   ]
  },
  {
   "cell_type": "code",
   "execution_count": 34,
   "metadata": {},
   "outputs": [],
   "source": [
    "# define a function that loads data from GloVe-like embedding files\n",
    "# we will add tutorials for loading contextualized embeddings later\n",
    "# 2196017 is the vocab size of GloVe here.\n",
    "\n",
    "def load_emb(w2i, path_to_embedding, embedding_size=300, embedding_vocab=2196017, init_emb=None):\n",
    "    if init_emb is None:\n",
    "        emb_mat = np.random.randn(len(w2i), embedding_size)\n",
    "    else:\n",
    "        emb_mat = init_emb\n",
    "    f = open(path_to_embedding, 'r')\n",
    "    found = 0\n",
    "    for line in tqdm_notebook(f, total=embedding_vocab):\n",
    "        content = line.strip().split()\n",
    "        vector = np.asarray(list(map(lambda x: float(x), content[-300:])))\n",
    "        word = ' '.join(content[:-300])\n",
    "        if word in w2i:\n",
    "            idx = w2i[word]\n",
    "            emb_mat[idx, :] = vector\n",
    "            found += 1\n",
    "    print(f\"Found {found} words in the embedding file.\")\n",
    "    return torch.tensor(emb_mat).float()"
   ]
  },
  {
   "cell_type": "markdown",
   "metadata": {},
   "source": [
    "## Training a model\n",
    "\n",
    "Next we train a model. We use Adam with gradient clipping and weight decay for training, and our loss here is Mean Absolute Error (MOSI is a regression dataset). We exclude the embeddings from trainable computation graph to prevent overfitting. We also apply a early-stopping scheme with learning rate annealing based on validation loss."
   ]
  },
  {
   "cell_type": "code",
   "execution_count": 40,
   "metadata": {
    "scrolled": true
   },
   "outputs": [
    {
     "name": "stderr",
     "output_type": "stream",
     "text": [
      "/home/zaid/anaconda3/envs/mm/lib/python3.6/site-packages/ipykernel_launcher.py:12: TqdmDeprecationWarning: This function will be removed in tqdm==5.0.0\n",
      "Please use `tqdm.notebook.tqdm` instead of `tqdm.tqdm_notebook`\n",
      "  if sys.path[0] == '':\n"
     ]
    },
    {
     "data": {
      "application/vnd.jupyter.widget-view+json": {
       "model_id": "01902bd215664de686585f3612ba7be1",
       "version_major": 2,
       "version_minor": 0
      },
      "text/plain": [
       "HBox(children=(HTML(value=''), FloatProgress(value=0.0, max=400000.0), HTML(value='')))"
      ]
     },
     "metadata": {},
     "output_type": "display_data"
    },
    {
     "name": "stdout",
     "output_type": "stream",
     "text": [
      "\n",
      "Found 2928 words in the embedding file.\n",
      "Using pretrained embedding.\n"
     ]
    },
    {
     "name": "stderr",
     "output_type": "stream",
     "text": [
      "/home/zaid/anaconda3/envs/mm/lib/python3.6/site-packages/torch/optim/lr_scheduler.py:122: UserWarning: Detected call of `lr_scheduler.step()` before `optimizer.step()`. In PyTorch 1.1.0 and later, you should call them in the opposite order: `optimizer.step()` before `lr_scheduler.step()`.  Failure to do this will result in PyTorch skipping the first value of the learning rate schedule. See more details at https://pytorch.org/docs/stable/optim.html#how-to-adjust-learning-rate\n",
      "  \"https://pytorch.org/docs/stable/optim.html#how-to-adjust-learning-rate\", UserWarning)\n",
      "/home/zaid/anaconda3/envs/mm/lib/python3.6/site-packages/ipykernel_launcher.py:58: TqdmDeprecationWarning: This function will be removed in tqdm==5.0.0\n",
      "Please use `tqdm.notebook.tqdm` instead of `tqdm.tqdm_notebook`\n"
     ]
    },
    {
     "data": {
      "application/vnd.jupyter.widget-view+json": {
       "model_id": "7c8a202cf41c458896383b4290743602",
       "version_major": 2,
       "version_minor": 0
      },
      "text/plain": [
       "HBox(children=(HTML(value=''), FloatProgress(value=0.0, max=23.0), HTML(value='')))"
      ]
     },
     "metadata": {},
     "output_type": "display_data"
    },
    {
     "name": "stdout",
     "output_type": "stream",
     "text": [
      "\n",
      "Training loss: 1.2669\n",
      "Validation loss: 1.3938\n",
      "Current patience: 8, current trial: 3.\n",
      "Found new best model on dev set!\n"
     ]
    },
    {
     "data": {
      "application/vnd.jupyter.widget-view+json": {
       "model_id": "4cda88a8608b47919b8b5334630841cc",
       "version_major": 2,
       "version_minor": 0
      },
      "text/plain": [
       "HBox(children=(HTML(value=''), FloatProgress(value=0.0, max=23.0), HTML(value='')))"
      ]
     },
     "metadata": {},
     "output_type": "display_data"
    },
    {
     "name": "stdout",
     "output_type": "stream",
     "text": [
      "\n",
      "Training loss: 0.9564\n",
      "Validation loss: 1.3028\n",
      "Current patience: 8, current trial: 3.\n",
      "Found new best model on dev set!\n"
     ]
    },
    {
     "data": {
      "application/vnd.jupyter.widget-view+json": {
       "model_id": "1946657d6927425385912eb3c47d1355",
       "version_major": 2,
       "version_minor": 0
      },
      "text/plain": [
       "HBox(children=(HTML(value=''), FloatProgress(value=0.0, max=23.0), HTML(value='')))"
      ]
     },
     "metadata": {},
     "output_type": "display_data"
    },
    {
     "name": "stdout",
     "output_type": "stream",
     "text": [
      "\n",
      "Training loss: 0.7739\n",
      "Validation loss: 1.2517\n",
      "Current patience: 8, current trial: 3.\n",
      "Found new best model on dev set!\n"
     ]
    },
    {
     "data": {
      "application/vnd.jupyter.widget-view+json": {
       "model_id": "71f1ce0863084055a20486e09cc412c5",
       "version_major": 2,
       "version_minor": 0
      },
      "text/plain": [
       "HBox(children=(HTML(value=''), FloatProgress(value=0.0, max=23.0), HTML(value='')))"
      ]
     },
     "metadata": {},
     "output_type": "display_data"
    },
    {
     "name": "stdout",
     "output_type": "stream",
     "text": [
      "\n",
      "Training loss: 0.635\n",
      "Validation loss: 1.2215\n",
      "Current patience: 8, current trial: 3.\n",
      "Found new best model on dev set!\n"
     ]
    },
    {
     "data": {
      "application/vnd.jupyter.widget-view+json": {
       "model_id": "7b3cce3778d94294b23a7a22de2001fe",
       "version_major": 2,
       "version_minor": 0
      },
      "text/plain": [
       "HBox(children=(HTML(value=''), FloatProgress(value=0.0, max=23.0), HTML(value='')))"
      ]
     },
     "metadata": {},
     "output_type": "display_data"
    },
    {
     "name": "stdout",
     "output_type": "stream",
     "text": [
      "\n",
      "Training loss: 0.5598\n",
      "Validation loss: 1.2114\n",
      "Current patience: 8, current trial: 3.\n",
      "Found new best model on dev set!\n"
     ]
    },
    {
     "data": {
      "application/vnd.jupyter.widget-view+json": {
       "model_id": "e9975daf0a0e46d39e760853d09fca2c",
       "version_major": 2,
       "version_minor": 0
      },
      "text/plain": [
       "HBox(children=(HTML(value=''), FloatProgress(value=0.0, max=23.0), HTML(value='')))"
      ]
     },
     "metadata": {},
     "output_type": "display_data"
    },
    {
     "name": "stdout",
     "output_type": "stream",
     "text": [
      "\n",
      "Training loss: 0.4871\n",
      "Validation loss: 1.2234\n",
      "Current patience: 8, current trial: 3.\n"
     ]
    },
    {
     "data": {
      "application/vnd.jupyter.widget-view+json": {
       "model_id": "0301c1f078f14d9b9a125cd523e80202",
       "version_major": 2,
       "version_minor": 0
      },
      "text/plain": [
       "HBox(children=(HTML(value=''), FloatProgress(value=0.0, max=23.0), HTML(value='')))"
      ]
     },
     "metadata": {},
     "output_type": "display_data"
    },
    {
     "name": "stdout",
     "output_type": "stream",
     "text": [
      "\n",
      "Training loss: 0.4474\n",
      "Validation loss: 1.3008\n",
      "Current patience: 7, current trial: 3.\n"
     ]
    },
    {
     "data": {
      "application/vnd.jupyter.widget-view+json": {
       "model_id": "49dbd21193974877a4eddf2e30b403c3",
       "version_major": 2,
       "version_minor": 0
      },
      "text/plain": [
       "HBox(children=(HTML(value=''), FloatProgress(value=0.0, max=23.0), HTML(value='')))"
      ]
     },
     "metadata": {},
     "output_type": "display_data"
    },
    {
     "name": "stdout",
     "output_type": "stream",
     "text": [
      "\n",
      "Training loss: 0.4234\n",
      "Validation loss: 1.2325\n",
      "Current patience: 6, current trial: 3.\n"
     ]
    },
    {
     "data": {
      "application/vnd.jupyter.widget-view+json": {
       "model_id": "a1a961ad1f9840799196983466bb7e28",
       "version_major": 2,
       "version_minor": 0
      },
      "text/plain": [
       "HBox(children=(HTML(value=''), FloatProgress(value=0.0, max=23.0), HTML(value='')))"
      ]
     },
     "metadata": {},
     "output_type": "display_data"
    },
    {
     "name": "stdout",
     "output_type": "stream",
     "text": [
      "\n",
      "Training loss: 0.3873\n",
      "Validation loss: 1.2371\n",
      "Current patience: 5, current trial: 3.\n"
     ]
    },
    {
     "data": {
      "application/vnd.jupyter.widget-view+json": {
       "model_id": "77f69305ffd745ef816c9f1df2f1071f",
       "version_major": 2,
       "version_minor": 0
      },
      "text/plain": [
       "HBox(children=(HTML(value=''), FloatProgress(value=0.0, max=23.0), HTML(value='')))"
      ]
     },
     "metadata": {},
     "output_type": "display_data"
    },
    {
     "name": "stdout",
     "output_type": "stream",
     "text": [
      "\n",
      "Training loss: 0.3785\n",
      "Validation loss: 1.2281\n",
      "Current patience: 4, current trial: 3.\n"
     ]
    },
    {
     "data": {
      "application/vnd.jupyter.widget-view+json": {
       "model_id": "908ff629211f44e99b75c81b54c2dea8",
       "version_major": 2,
       "version_minor": 0
      },
      "text/plain": [
       "HBox(children=(HTML(value=''), FloatProgress(value=0.0, max=23.0), HTML(value='')))"
      ]
     },
     "metadata": {},
     "output_type": "display_data"
    },
    {
     "name": "stdout",
     "output_type": "stream",
     "text": [
      "\n",
      "Training loss: 0.3397\n",
      "Validation loss: 1.2193\n",
      "Current patience: 3, current trial: 3.\n"
     ]
    },
    {
     "data": {
      "application/vnd.jupyter.widget-view+json": {
       "model_id": "408c261a9b5e4dca841cee6897a45015",
       "version_major": 2,
       "version_minor": 0
      },
      "text/plain": [
       "HBox(children=(HTML(value=''), FloatProgress(value=0.0, max=23.0), HTML(value='')))"
      ]
     },
     "metadata": {},
     "output_type": "display_data"
    },
    {
     "name": "stdout",
     "output_type": "stream",
     "text": [
      "\n",
      "Training loss: 0.3471\n",
      "Validation loss: 1.2401\n",
      "Current patience: 2, current trial: 3.\n"
     ]
    },
    {
     "data": {
      "application/vnd.jupyter.widget-view+json": {
       "model_id": "eeeef67283a446289b25b38b4dab454a",
       "version_major": 2,
       "version_minor": 0
      },
      "text/plain": [
       "HBox(children=(HTML(value=''), FloatProgress(value=0.0, max=23.0), HTML(value='')))"
      ]
     },
     "metadata": {},
     "output_type": "display_data"
    },
    {
     "name": "stdout",
     "output_type": "stream",
     "text": [
      "\n",
      "Training loss: 0.3289\n",
      "Validation loss: 1.2684\n",
      "Current patience: 1, current trial: 3.\n"
     ]
    },
    {
     "data": {
      "application/vnd.jupyter.widget-view+json": {
       "model_id": "dfe5d48963df4079a59285a398ae1e48",
       "version_major": 2,
       "version_minor": 0
      },
      "text/plain": [
       "HBox(children=(HTML(value=''), FloatProgress(value=0.0, max=23.0), HTML(value='')))"
      ]
     },
     "metadata": {},
     "output_type": "display_data"
    },
    {
     "name": "stdout",
     "output_type": "stream",
     "text": [
      "\n",
      "Training loss: 0.3215\n",
      "Validation loss: 1.2314\n",
      "Current patience: 0, current trial: 3.\n",
      "Running out of patience, loading previous best model.\n",
      "Current learning rate: 1e-05\n"
     ]
    },
    {
     "data": {
      "application/vnd.jupyter.widget-view+json": {
       "model_id": "40fe7f13555741b89f749b6242e813fd",
       "version_major": 2,
       "version_minor": 0
      },
      "text/plain": [
       "HBox(children=(HTML(value=''), FloatProgress(value=0.0, max=23.0), HTML(value='')))"
      ]
     },
     "metadata": {},
     "output_type": "display_data"
    },
    {
     "name": "stdout",
     "output_type": "stream",
     "text": [
      "\n",
      "Training loss: 0.4719\n",
      "Validation loss: 1.2274\n",
      "Current patience: 8, current trial: 2.\n"
     ]
    },
    {
     "data": {
      "application/vnd.jupyter.widget-view+json": {
       "model_id": "3c2fc464b59d4faa9e041e7225c9bad7",
       "version_major": 2,
       "version_minor": 0
      },
      "text/plain": [
       "HBox(children=(HTML(value=''), FloatProgress(value=0.0, max=23.0), HTML(value='')))"
      ]
     },
     "metadata": {},
     "output_type": "display_data"
    },
    {
     "name": "stdout",
     "output_type": "stream",
     "text": [
      "\n",
      "Training loss: 0.4386\n",
      "Validation loss: 1.2155\n",
      "Current patience: 7, current trial: 2.\n"
     ]
    },
    {
     "data": {
      "application/vnd.jupyter.widget-view+json": {
       "model_id": "1f79432df2d944989d45a8764d3029c4",
       "version_major": 2,
       "version_minor": 0
      },
      "text/plain": [
       "HBox(children=(HTML(value=''), FloatProgress(value=0.0, max=23.0), HTML(value='')))"
      ]
     },
     "metadata": {},
     "output_type": "display_data"
    },
    {
     "name": "stdout",
     "output_type": "stream",
     "text": [
      "\n",
      "Training loss: 0.419\n",
      "Validation loss: 1.211\n",
      "Current patience: 6, current trial: 2.\n",
      "Found new best model on dev set!\n"
     ]
    },
    {
     "data": {
      "application/vnd.jupyter.widget-view+json": {
       "model_id": "46c50132d70347e1bbb058f0d7f31c28",
       "version_major": 2,
       "version_minor": 0
      },
      "text/plain": [
       "HBox(children=(HTML(value=''), FloatProgress(value=0.0, max=23.0), HTML(value='')))"
      ]
     },
     "metadata": {},
     "output_type": "display_data"
    },
    {
     "name": "stdout",
     "output_type": "stream",
     "text": [
      "\n",
      "Training loss: 0.4013\n",
      "Validation loss: 1.2101\n",
      "Current patience: 8, current trial: 2.\n",
      "Found new best model on dev set!\n"
     ]
    },
    {
     "data": {
      "application/vnd.jupyter.widget-view+json": {
       "model_id": "918224b81f2b4f7589ffe9436e0bf71d",
       "version_major": 2,
       "version_minor": 0
      },
      "text/plain": [
       "HBox(children=(HTML(value=''), FloatProgress(value=0.0, max=23.0), HTML(value='')))"
      ]
     },
     "metadata": {},
     "output_type": "display_data"
    },
    {
     "name": "stdout",
     "output_type": "stream",
     "text": [
      "\n",
      "Training loss: 0.3883\n",
      "Validation loss: 1.2143\n",
      "Current patience: 8, current trial: 2.\n"
     ]
    },
    {
     "data": {
      "application/vnd.jupyter.widget-view+json": {
       "model_id": "a509f8115272428b85c6290867a8f9a3",
       "version_major": 2,
       "version_minor": 0
      },
      "text/plain": [
       "HBox(children=(HTML(value=''), FloatProgress(value=0.0, max=23.0), HTML(value='')))"
      ]
     },
     "metadata": {},
     "output_type": "display_data"
    },
    {
     "name": "stdout",
     "output_type": "stream",
     "text": [
      "\n",
      "Training loss: 0.3714\n",
      "Validation loss: 1.2201\n",
      "Current patience: 7, current trial: 2.\n"
     ]
    },
    {
     "data": {
      "application/vnd.jupyter.widget-view+json": {
       "model_id": "e8605baef956495099e338f5862df909",
       "version_major": 2,
       "version_minor": 0
      },
      "text/plain": [
       "HBox(children=(HTML(value=''), FloatProgress(value=0.0, max=23.0), HTML(value='')))"
      ]
     },
     "metadata": {},
     "output_type": "display_data"
    },
    {
     "name": "stdout",
     "output_type": "stream",
     "text": [
      "\n",
      "Training loss: 0.3545\n",
      "Validation loss: 1.2199\n",
      "Current patience: 6, current trial: 2.\n"
     ]
    },
    {
     "data": {
      "application/vnd.jupyter.widget-view+json": {
       "model_id": "ee658e2c083b4d44bd745d61e5a261dd",
       "version_major": 2,
       "version_minor": 0
      },
      "text/plain": [
       "HBox(children=(HTML(value=''), FloatProgress(value=0.0, max=23.0), HTML(value='')))"
      ]
     },
     "metadata": {},
     "output_type": "display_data"
    },
    {
     "name": "stdout",
     "output_type": "stream",
     "text": [
      "\n",
      "Training loss: 0.358\n",
      "Validation loss: 1.2159\n",
      "Current patience: 5, current trial: 2.\n"
     ]
    },
    {
     "data": {
      "application/vnd.jupyter.widget-view+json": {
       "model_id": "1bc6fc0d83c14985bbe9c30426568a4d",
       "version_major": 2,
       "version_minor": 0
      },
      "text/plain": [
       "HBox(children=(HTML(value=''), FloatProgress(value=0.0, max=23.0), HTML(value='')))"
      ]
     },
     "metadata": {},
     "output_type": "display_data"
    },
    {
     "name": "stdout",
     "output_type": "stream",
     "text": [
      "\n",
      "Training loss: 0.3377\n",
      "Validation loss: 1.2216\n",
      "Current patience: 4, current trial: 2.\n"
     ]
    },
    {
     "data": {
      "application/vnd.jupyter.widget-view+json": {
       "model_id": "8fd80708aff64c31976b41a84d83a314",
       "version_major": 2,
       "version_minor": 0
      },
      "text/plain": [
       "HBox(children=(HTML(value=''), FloatProgress(value=0.0, max=23.0), HTML(value='')))"
      ]
     },
     "metadata": {},
     "output_type": "display_data"
    },
    {
     "name": "stdout",
     "output_type": "stream",
     "text": [
      "\n",
      "Training loss: 0.3463\n",
      "Validation loss: 1.2143\n",
      "Current patience: 3, current trial: 2.\n"
     ]
    },
    {
     "data": {
      "application/vnd.jupyter.widget-view+json": {
       "model_id": "30d60271ca2343c7aebc41b72ad63a8a",
       "version_major": 2,
       "version_minor": 0
      },
      "text/plain": [
       "HBox(children=(HTML(value=''), FloatProgress(value=0.0, max=23.0), HTML(value='')))"
      ]
     },
     "metadata": {},
     "output_type": "display_data"
    },
    {
     "name": "stdout",
     "output_type": "stream",
     "text": [
      "\n",
      "Training loss: 0.3491\n",
      "Validation loss: 1.2207\n",
      "Current patience: 2, current trial: 2.\n"
     ]
    },
    {
     "data": {
      "application/vnd.jupyter.widget-view+json": {
       "model_id": "5bb97129927a4748bcb72dabe9979b4e",
       "version_major": 2,
       "version_minor": 0
      },
      "text/plain": [
       "HBox(children=(HTML(value=''), FloatProgress(value=0.0, max=23.0), HTML(value='')))"
      ]
     },
     "metadata": {},
     "output_type": "display_data"
    },
    {
     "name": "stdout",
     "output_type": "stream",
     "text": [
      "\n",
      "Training loss: 0.3116\n",
      "Validation loss: 1.2306\n",
      "Current patience: 1, current trial: 2.\n"
     ]
    },
    {
     "data": {
      "application/vnd.jupyter.widget-view+json": {
       "model_id": "20e06b9eda9f409e995d71db466ee7e9",
       "version_major": 2,
       "version_minor": 0
      },
      "text/plain": [
       "HBox(children=(HTML(value=''), FloatProgress(value=0.0, max=23.0), HTML(value='')))"
      ]
     },
     "metadata": {},
     "output_type": "display_data"
    },
    {
     "name": "stdout",
     "output_type": "stream",
     "text": [
      "\n",
      "Training loss: 0.3047\n",
      "Validation loss: 1.226\n",
      "Current patience: 0, current trial: 2.\n",
      "Running out of patience, loading previous best model.\n",
      "Current learning rate: 1.0000000000000002e-06\n"
     ]
    },
    {
     "data": {
      "application/vnd.jupyter.widget-view+json": {
       "model_id": "8350fb4447454910a4e79ed947e3c647",
       "version_major": 2,
       "version_minor": 0
      },
      "text/plain": [
       "HBox(children=(HTML(value=''), FloatProgress(value=0.0, max=23.0), HTML(value='')))"
      ]
     },
     "metadata": {},
     "output_type": "display_data"
    },
    {
     "name": "stdout",
     "output_type": "stream",
     "text": [
      "\n",
      "Training loss: 0.3899\n",
      "Validation loss: 1.2119\n",
      "Current patience: 8, current trial: 1.\n"
     ]
    },
    {
     "data": {
      "application/vnd.jupyter.widget-view+json": {
       "model_id": "1bd75c20a6bc4fb294d5fddc44ce445f",
       "version_major": 2,
       "version_minor": 0
      },
      "text/plain": [
       "HBox(children=(HTML(value=''), FloatProgress(value=0.0, max=23.0), HTML(value='')))"
      ]
     },
     "metadata": {},
     "output_type": "display_data"
    },
    {
     "name": "stdout",
     "output_type": "stream",
     "text": [
      "\n",
      "Training loss: 0.3748\n",
      "Validation loss: 1.2134\n",
      "Current patience: 7, current trial: 1.\n"
     ]
    },
    {
     "data": {
      "application/vnd.jupyter.widget-view+json": {
       "model_id": "bd4bba3d31dd412caad36c093b3c4271",
       "version_major": 2,
       "version_minor": 0
      },
      "text/plain": [
       "HBox(children=(HTML(value=''), FloatProgress(value=0.0, max=23.0), HTML(value='')))"
      ]
     },
     "metadata": {},
     "output_type": "display_data"
    },
    {
     "name": "stdout",
     "output_type": "stream",
     "text": [
      "\n",
      "Training loss: 0.3823\n",
      "Validation loss: 1.2112\n",
      "Current patience: 6, current trial: 1.\n"
     ]
    },
    {
     "data": {
      "application/vnd.jupyter.widget-view+json": {
       "model_id": "fbc8a7308a2d476db77fcc986da0a6ce",
       "version_major": 2,
       "version_minor": 0
      },
      "text/plain": [
       "HBox(children=(HTML(value=''), FloatProgress(value=0.0, max=23.0), HTML(value='')))"
      ]
     },
     "metadata": {},
     "output_type": "display_data"
    },
    {
     "name": "stdout",
     "output_type": "stream",
     "text": [
      "\n",
      "Training loss: 0.3838\n",
      "Validation loss: 1.2125\n",
      "Current patience: 5, current trial: 1.\n"
     ]
    },
    {
     "data": {
      "application/vnd.jupyter.widget-view+json": {
       "model_id": "e973bf81373445abb5b343265fc75eeb",
       "version_major": 2,
       "version_minor": 0
      },
      "text/plain": [
       "HBox(children=(HTML(value=''), FloatProgress(value=0.0, max=23.0), HTML(value='')))"
      ]
     },
     "metadata": {},
     "output_type": "display_data"
    },
    {
     "name": "stdout",
     "output_type": "stream",
     "text": [
      "\n",
      "Training loss: 0.376\n",
      "Validation loss: 1.2134\n",
      "Current patience: 4, current trial: 1.\n"
     ]
    },
    {
     "data": {
      "application/vnd.jupyter.widget-view+json": {
       "model_id": "0cfb293a95bd43ffb3b721dc584dcc92",
       "version_major": 2,
       "version_minor": 0
      },
      "text/plain": [
       "HBox(children=(HTML(value=''), FloatProgress(value=0.0, max=23.0), HTML(value='')))"
      ]
     },
     "metadata": {},
     "output_type": "display_data"
    },
    {
     "name": "stdout",
     "output_type": "stream",
     "text": [
      "\n",
      "Training loss: 0.3699\n",
      "Validation loss: 1.2128\n",
      "Current patience: 3, current trial: 1.\n"
     ]
    },
    {
     "data": {
      "application/vnd.jupyter.widget-view+json": {
       "model_id": "e1aede9c86f240ae8af975733a3668b8",
       "version_major": 2,
       "version_minor": 0
      },
      "text/plain": [
       "HBox(children=(HTML(value=''), FloatProgress(value=0.0, max=23.0), HTML(value='')))"
      ]
     },
     "metadata": {},
     "output_type": "display_data"
    },
    {
     "name": "stdout",
     "output_type": "stream",
     "text": [
      "\n",
      "Training loss: 0.3789\n",
      "Validation loss: 1.2127\n",
      "Current patience: 2, current trial: 1.\n"
     ]
    },
    {
     "data": {
      "application/vnd.jupyter.widget-view+json": {
       "model_id": "0dd4416fe27d441991a51d98e576e1c8",
       "version_major": 2,
       "version_minor": 0
      },
      "text/plain": [
       "HBox(children=(HTML(value=''), FloatProgress(value=0.0, max=23.0), HTML(value='')))"
      ]
     },
     "metadata": {},
     "output_type": "display_data"
    },
    {
     "name": "stdout",
     "output_type": "stream",
     "text": [
      "\n",
      "Training loss: 0.375\n",
      "Validation loss: 1.2125\n",
      "Current patience: 1, current trial: 1.\n"
     ]
    },
    {
     "data": {
      "application/vnd.jupyter.widget-view+json": {
       "model_id": "99c032c8fd8f44849bba83bebe2d4979",
       "version_major": 2,
       "version_minor": 0
      },
      "text/plain": [
       "HBox(children=(HTML(value=''), FloatProgress(value=0.0, max=23.0), HTML(value='')))"
      ]
     },
     "metadata": {},
     "output_type": "display_data"
    },
    {
     "name": "stdout",
     "output_type": "stream",
     "text": [
      "\n",
      "Training loss: 0.3615\n",
      "Validation loss: 1.216\n",
      "Current patience: 0, current trial: 1.\n",
      "Running out of patience, loading previous best model.\n",
      "Current learning rate: 1.0000000000000002e-06\n",
      "Running out of patience, early stopping.\n",
      "Test set performance: 1.2786854474259535\n",
      "Test set accuracy is 0.6253644314868805\n"
     ]
    }
   ],
   "source": [
    "from tqdm import tqdm_notebook\n",
    "from torch.optim import Adam, SGD\n",
    "from sklearn.metrics import accuracy_score\n",
    "\n",
    "torch.manual_seed(123)\n",
    "torch.cuda.manual_seed_all(123)\n",
    "\n",
    "CUDA = torch.cuda.is_available()\n",
    "MAX_EPOCH = 1000\n",
    "\n",
    "text_size = 300\n",
    "visual_size = 47\n",
    "acoustic_size = 74\n",
    "\n",
    "# define some model settings and hyper-parameters\n",
    "input_sizes = [text_size, visual_size, acoustic_size]\n",
    "hidden_sizes = [int(text_size * 1.5), int(visual_size * 1.5), int(acoustic_size * 1.5)]\n",
    "fc1_size = sum(hidden_sizes) // 2\n",
    "dropout = 0.25\n",
    "output_size = 1\n",
    "curr_patience = patience = 8\n",
    "num_trials = 3\n",
    "grad_clip_value = 1.0\n",
    "weight_decay = 0.1\n",
    "\n",
    "# if os.path.exists(CACHE_PATH):\n",
    "#     pretrained_emb, word2id = torch.load(CACHE_PATH)\n",
    "# elif WORD_EMB_PATH is not None:\n",
    "#     pretrained_emb = load_emb(word2id, '/home/zaid/Datasets/GloveWikiEmbeddings/glove.6B.300d.txt', embedding_vocab=400000)\n",
    "#     torch.save((pretrained_emb, word2id), CACHE_PATH)\n",
    "# else:\n",
    "#     pretrained_emb = None\n",
    "\n",
    "if os.path.exists(CACHE_PATH):\n",
    "    pretrained_emb, word2id = torch.load(CACHE_PATH)\n",
    "else:\n",
    "    pretrained_emb = load_emb(word2id, '/home/zaid/Datasets/GloveWikiEmbeddings/glove.6B.300d.txt', embedding_vocab=400000)\n",
    "    torch.save((pretrained_emb, word2id), CACHE_PATH)\n",
    "\n",
    "model = LFLSTM(input_sizes, hidden_sizes, fc1_size, output_size, dropout)\n",
    "if pretrained_emb is not None:\n",
    "    print(\"Using pretrained embedding.\")\n",
    "    model.embed.weight.data = pretrained_emb\n",
    "model.embed.requires_grad = False\n",
    "optimizer = Adam([param for param in model.parameters() if param.requires_grad], weight_decay=weight_decay)\n",
    "\n",
    "if CUDA:\n",
    "    model.cuda()\n",
    "criterion = nn.L1Loss(reduction='sum')\n",
    "criterion_test = nn.L1Loss(reduction='sum')\n",
    "best_valid_loss = float('inf')\n",
    "lr_scheduler = torch.optim.lr_scheduler.StepLR(optimizer, step_size=1, gamma=0.1)\n",
    "lr_scheduler.step() # for some reason it seems the StepLR needs to be stepped once first\n",
    "train_losses = []\n",
    "valid_losses = []\n",
    "for e in range(MAX_EPOCH):\n",
    "    model.train()\n",
    "    train_iter = tqdm_notebook(train_loader)\n",
    "    train_loss = 0.0\n",
    "    for batch in train_iter:\n",
    "        model.zero_grad()\n",
    "        t, v, a, y, l = batch\n",
    "        batch_size = t.size(0)\n",
    "        if CUDA:\n",
    "            t = t.cuda()\n",
    "            v = v.cuda()\n",
    "            a = a.cuda()\n",
    "            y = y.cuda()\n",
    "            l = l.cuda()\n",
    "        y_tilde = model(t, v, a, l)\n",
    "        loss = criterion(y_tilde, y)\n",
    "        loss.backward()\n",
    "        torch.nn.utils.clip_grad_value_([param for param in model.parameters() if param.requires_grad], grad_clip_value)\n",
    "        optimizer.step()\n",
    "        train_iter.set_description(f\"Epoch {e}/{MAX_EPOCH}, current batch loss: {round(loss.item()/batch_size, 4)}\")\n",
    "        train_loss += loss.item()\n",
    "    train_loss = train_loss / len(train)\n",
    "    train_losses.append(train_loss)\n",
    "    print(f\"Training loss: {round(train_loss, 4)}\")\n",
    "\n",
    "    model.eval()\n",
    "    with torch.no_grad():\n",
    "        valid_loss = 0.0\n",
    "        for batch in dev_loader:\n",
    "            model.zero_grad()\n",
    "            t, v, a, y, l = batch\n",
    "            if CUDA:\n",
    "                t = t.cuda()\n",
    "                v = v.cuda()\n",
    "                a = a.cuda()\n",
    "                y = y.cuda()\n",
    "                l = l.cuda()\n",
    "            y_tilde = model(t, v, a, l)\n",
    "            loss = criterion(y_tilde, y)\n",
    "            valid_loss += loss.item()\n",
    "    \n",
    "    valid_loss = valid_loss/len(dev)\n",
    "    valid_losses.append(valid_loss)\n",
    "    print(f\"Validation loss: {round(valid_loss, 4)}\")\n",
    "    print(f\"Current patience: {curr_patience}, current trial: {num_trials}.\")\n",
    "    if valid_loss <= best_valid_loss:\n",
    "        best_valid_loss = valid_loss\n",
    "        print(\"Found new best model on dev set!\")\n",
    "        torch.save(model.state_dict(), 'model.std')\n",
    "        torch.save(optimizer.state_dict(), 'optim.std')\n",
    "        curr_patience = patience\n",
    "    else:\n",
    "        curr_patience -= 1\n",
    "        if curr_patience <= -1:\n",
    "            print(\"Running out of patience, loading previous best model.\")\n",
    "            num_trials -= 1\n",
    "            curr_patience = patience\n",
    "            model.load_state_dict(torch.load('model.std'))\n",
    "            optimizer.load_state_dict(torch.load('optim.std'))\n",
    "            lr_scheduler.step()\n",
    "            print(f\"Current learning rate: {optimizer.state_dict()['param_groups'][0]['lr']}\")\n",
    "    \n",
    "    if num_trials <= 0:\n",
    "        print(\"Running out of patience, early stopping.\")\n",
    "        break\n",
    "\n",
    "model.load_state_dict(torch.load('model.std'))\n",
    "y_true = []\n",
    "y_pred = []\n",
    "model.eval()\n",
    "with torch.no_grad():\n",
    "    test_loss = 0.0\n",
    "    for batch in test_loader:\n",
    "        model.zero_grad()\n",
    "        t, v, a, y, l = batch\n",
    "        if CUDA:\n",
    "            t = t.cuda()\n",
    "            v = v.cuda()\n",
    "            a = a.cuda()\n",
    "            y = y.cuda()\n",
    "            l = l.cuda()\n",
    "        y_tilde = model(t, v, a, l)\n",
    "        loss = criterion_test(y_tilde, y)\n",
    "        y_true.append(y_tilde.detach().cpu().numpy())\n",
    "        y_pred.append(y.detach().cpu().numpy())\n",
    "        test_loss += loss.item()\n",
    "print(f\"Test set performance: {test_loss/len(test)}\")\n",
    "y_true = np.concatenate(y_true, axis=0)\n",
    "y_pred = np.concatenate(y_pred, axis=0)\n",
    "                  \n",
    "y_true_bin = y_true >= 0\n",
    "y_pred_bin = y_pred >= 0\n",
    "bin_acc = accuracy_score(y_true_bin, y_pred_bin)\n",
    "print(f\"Test set accuracy is {bin_acc}\")"
   ]
  },
  {
   "cell_type": "code",
   "execution_count": null,
   "metadata": {},
   "outputs": [],
   "source": []
  }
 ],
 "metadata": {
  "kernelspec": {
   "display_name": "Python 3",
   "language": "python",
   "name": "python3"
  },
  "language_info": {
   "codemirror_mode": {
    "name": "ipython",
    "version": 3
   },
   "file_extension": ".py",
   "mimetype": "text/x-python",
   "name": "python",
   "nbconvert_exporter": "python",
   "pygments_lexer": "ipython3",
   "version": "3.6.11"
  }
 },
 "nbformat": 4,
 "nbformat_minor": 2
}
